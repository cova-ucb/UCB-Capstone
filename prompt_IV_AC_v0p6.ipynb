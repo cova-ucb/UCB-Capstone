{
 "cells": [
  {
   "cell_type": "markdown",
   "metadata": {},
   "source": [
    "# Course project: Developing models for predicting absenteeism at work\n",
    "\n",
    "**Initial analysis - To be refined before final project submission - More models to be explored**  \n",
    "\n",
    "**Armando Cova**  \n",
    "\n"
   ]
  },
  {
   "cell_type": "markdown",
   "metadata": {},
   "source": [
    "### Background\n",
    "\n",
    "The dataset comes from the UCI Machine Learning repository [link](https://archive.ics.uci.edu/dataset/445/absenteeism+at+work).  The database was created with records of absenteeism at work from July 2007 to July 2010 at a courier company in Brazil. The data set (Absenteeism at work - Part I) was used in academic research at the Universidade Nove de Julho - Postgraduate Program in Informatics and Knowledge Management.\n"
   ]
  },
  {
   "cell_type": "markdown",
   "metadata": {},
   "source": [
    "### Data exploration and understanding\n",
    "\n",
    "To section explores basic characteristics of the data to gain insights into the problem studied"
   ]
  },
  {
   "cell_type": "markdown",
   "metadata": {},
   "source": [
    "#### Reading data\n",
    "\n",
    "Using Pandas to read-in the dataset `Absenteeism_at_work.csv` "
   ]
  },
  {
   "cell_type": "code",
   "execution_count": 1,
   "metadata": {},
   "outputs": [],
   "source": [
    "import pandas as pd"
   ]
  },
  {
   "cell_type": "code",
   "execution_count": 2,
   "metadata": {},
   "outputs": [],
   "source": [
    "data = pd.read_csv('data/Absenteeism_at_work.csv', sep = ';')\n",
    "df = data.copy()"
   ]
  },
  {
   "cell_type": "code",
   "execution_count": 3,
   "metadata": {},
   "outputs": [
    {
     "data": {
      "text/html": [
       "<div>\n",
       "<style scoped>\n",
       "    .dataframe tbody tr th:only-of-type {\n",
       "        vertical-align: middle;\n",
       "    }\n",
       "\n",
       "    .dataframe tbody tr th {\n",
       "        vertical-align: top;\n",
       "    }\n",
       "\n",
       "    .dataframe thead th {\n",
       "        text-align: right;\n",
       "    }\n",
       "</style>\n",
       "<table border=\"1\" class=\"dataframe\">\n",
       "  <thead>\n",
       "    <tr style=\"text-align: right;\">\n",
       "      <th></th>\n",
       "      <th>ID</th>\n",
       "      <th>Reason for absence</th>\n",
       "      <th>Month of absence</th>\n",
       "      <th>Day of the week</th>\n",
       "      <th>Seasons</th>\n",
       "      <th>Transportation expense</th>\n",
       "      <th>Distance from Residence to Work</th>\n",
       "      <th>Service time</th>\n",
       "      <th>Age</th>\n",
       "      <th>Work load Average/day</th>\n",
       "      <th>...</th>\n",
       "      <th>Disciplinary failure</th>\n",
       "      <th>Education</th>\n",
       "      <th>Son</th>\n",
       "      <th>Social drinker</th>\n",
       "      <th>Social smoker</th>\n",
       "      <th>Pet</th>\n",
       "      <th>Weight</th>\n",
       "      <th>Height</th>\n",
       "      <th>Body mass index</th>\n",
       "      <th>Absenteeism time in hours</th>\n",
       "    </tr>\n",
       "  </thead>\n",
       "  <tbody>\n",
       "    <tr>\n",
       "      <th>0</th>\n",
       "      <td>11</td>\n",
       "      <td>26</td>\n",
       "      <td>7</td>\n",
       "      <td>3</td>\n",
       "      <td>1</td>\n",
       "      <td>289</td>\n",
       "      <td>36</td>\n",
       "      <td>13</td>\n",
       "      <td>33</td>\n",
       "      <td>239.554</td>\n",
       "      <td>...</td>\n",
       "      <td>0</td>\n",
       "      <td>1</td>\n",
       "      <td>2</td>\n",
       "      <td>1</td>\n",
       "      <td>0</td>\n",
       "      <td>1</td>\n",
       "      <td>90</td>\n",
       "      <td>172</td>\n",
       "      <td>30</td>\n",
       "      <td>4</td>\n",
       "    </tr>\n",
       "    <tr>\n",
       "      <th>1</th>\n",
       "      <td>36</td>\n",
       "      <td>0</td>\n",
       "      <td>7</td>\n",
       "      <td>3</td>\n",
       "      <td>1</td>\n",
       "      <td>118</td>\n",
       "      <td>13</td>\n",
       "      <td>18</td>\n",
       "      <td>50</td>\n",
       "      <td>239.554</td>\n",
       "      <td>...</td>\n",
       "      <td>1</td>\n",
       "      <td>1</td>\n",
       "      <td>1</td>\n",
       "      <td>1</td>\n",
       "      <td>0</td>\n",
       "      <td>0</td>\n",
       "      <td>98</td>\n",
       "      <td>178</td>\n",
       "      <td>31</td>\n",
       "      <td>0</td>\n",
       "    </tr>\n",
       "    <tr>\n",
       "      <th>2</th>\n",
       "      <td>3</td>\n",
       "      <td>23</td>\n",
       "      <td>7</td>\n",
       "      <td>4</td>\n",
       "      <td>1</td>\n",
       "      <td>179</td>\n",
       "      <td>51</td>\n",
       "      <td>18</td>\n",
       "      <td>38</td>\n",
       "      <td>239.554</td>\n",
       "      <td>...</td>\n",
       "      <td>0</td>\n",
       "      <td>1</td>\n",
       "      <td>0</td>\n",
       "      <td>1</td>\n",
       "      <td>0</td>\n",
       "      <td>0</td>\n",
       "      <td>89</td>\n",
       "      <td>170</td>\n",
       "      <td>31</td>\n",
       "      <td>2</td>\n",
       "    </tr>\n",
       "    <tr>\n",
       "      <th>3</th>\n",
       "      <td>7</td>\n",
       "      <td>7</td>\n",
       "      <td>7</td>\n",
       "      <td>5</td>\n",
       "      <td>1</td>\n",
       "      <td>279</td>\n",
       "      <td>5</td>\n",
       "      <td>14</td>\n",
       "      <td>39</td>\n",
       "      <td>239.554</td>\n",
       "      <td>...</td>\n",
       "      <td>0</td>\n",
       "      <td>1</td>\n",
       "      <td>2</td>\n",
       "      <td>1</td>\n",
       "      <td>1</td>\n",
       "      <td>0</td>\n",
       "      <td>68</td>\n",
       "      <td>168</td>\n",
       "      <td>24</td>\n",
       "      <td>4</td>\n",
       "    </tr>\n",
       "    <tr>\n",
       "      <th>4</th>\n",
       "      <td>11</td>\n",
       "      <td>23</td>\n",
       "      <td>7</td>\n",
       "      <td>5</td>\n",
       "      <td>1</td>\n",
       "      <td>289</td>\n",
       "      <td>36</td>\n",
       "      <td>13</td>\n",
       "      <td>33</td>\n",
       "      <td>239.554</td>\n",
       "      <td>...</td>\n",
       "      <td>0</td>\n",
       "      <td>1</td>\n",
       "      <td>2</td>\n",
       "      <td>1</td>\n",
       "      <td>0</td>\n",
       "      <td>1</td>\n",
       "      <td>90</td>\n",
       "      <td>172</td>\n",
       "      <td>30</td>\n",
       "      <td>2</td>\n",
       "    </tr>\n",
       "  </tbody>\n",
       "</table>\n",
       "<p>5 rows × 21 columns</p>\n",
       "</div>"
      ],
      "text/plain": [
       "   ID  Reason for absence  Month of absence  Day of the week  Seasons  \\\n",
       "0  11                  26                 7                3        1   \n",
       "1  36                   0                 7                3        1   \n",
       "2   3                  23                 7                4        1   \n",
       "3   7                   7                 7                5        1   \n",
       "4  11                  23                 7                5        1   \n",
       "\n",
       "   Transportation expense  Distance from Residence to Work  Service time  Age  \\\n",
       "0                     289                               36            13   33   \n",
       "1                     118                               13            18   50   \n",
       "2                     179                               51            18   38   \n",
       "3                     279                                5            14   39   \n",
       "4                     289                               36            13   33   \n",
       "\n",
       "   Work load Average/day   ...  Disciplinary failure  Education  Son  \\\n",
       "0                 239.554  ...                     0          1    2   \n",
       "1                 239.554  ...                     1          1    1   \n",
       "2                 239.554  ...                     0          1    0   \n",
       "3                 239.554  ...                     0          1    2   \n",
       "4                 239.554  ...                     0          1    2   \n",
       "\n",
       "   Social drinker  Social smoker  Pet  Weight  Height  Body mass index  \\\n",
       "0               1              0    1      90     172               30   \n",
       "1               1              0    0      98     178               31   \n",
       "2               1              0    0      89     170               31   \n",
       "3               1              1    0      68     168               24   \n",
       "4               1              0    1      90     172               30   \n",
       "\n",
       "   Absenteeism time in hours  \n",
       "0                          4  \n",
       "1                          0  \n",
       "2                          2  \n",
       "3                          4  \n",
       "4                          2  \n",
       "\n",
       "[5 rows x 21 columns]"
      ]
     },
     "execution_count": 3,
     "metadata": {},
     "output_type": "execute_result"
    }
   ],
   "source": [
    "# Peruse data\n",
    "df.head()"
   ]
  },
  {
   "cell_type": "code",
   "execution_count": 4,
   "metadata": {},
   "outputs": [
    {
     "name": "stdout",
     "output_type": "stream",
     "text": [
      "<class 'pandas.core.frame.DataFrame'>\n",
      "RangeIndex: 740 entries, 0 to 739\n",
      "Data columns (total 21 columns):\n",
      " #   Column                           Non-Null Count  Dtype  \n",
      "---  ------                           --------------  -----  \n",
      " 0   ID                               740 non-null    int64  \n",
      " 1   Reason for absence               740 non-null    int64  \n",
      " 2   Month of absence                 740 non-null    int64  \n",
      " 3   Day of the week                  740 non-null    int64  \n",
      " 4   Seasons                          740 non-null    int64  \n",
      " 5   Transportation expense           740 non-null    int64  \n",
      " 6   Distance from Residence to Work  740 non-null    int64  \n",
      " 7   Service time                     740 non-null    int64  \n",
      " 8   Age                              740 non-null    int64  \n",
      " 9   Work load Average/day            740 non-null    float64\n",
      " 10  Hit target                       740 non-null    int64  \n",
      " 11  Disciplinary failure             740 non-null    int64  \n",
      " 12  Education                        740 non-null    int64  \n",
      " 13  Son                              740 non-null    int64  \n",
      " 14  Social drinker                   740 non-null    int64  \n",
      " 15  Social smoker                    740 non-null    int64  \n",
      " 16  Pet                              740 non-null    int64  \n",
      " 17  Weight                           740 non-null    int64  \n",
      " 18  Height                           740 non-null    int64  \n",
      " 19  Body mass index                  740 non-null    int64  \n",
      " 20  Absenteeism time in hours        740 non-null    int64  \n",
      "dtypes: float64(1), int64(20)\n",
      "memory usage: 121.5 KB\n"
     ]
    }
   ],
   "source": [
    "# Get familiar with column names. Identify target variable and useful columns/features\n",
    "df.info()"
   ]
  },
  {
   "cell_type": "markdown",
   "metadata": {},
   "source": [
    "##### Target information is contained in the column \"Absenteeism time in hours\""
   ]
  },
  {
   "cell_type": "code",
   "execution_count": 5,
   "metadata": {},
   "outputs": [
    {
     "data": {
      "text/plain": [
       "ID                                 0\n",
       "Reason for absence                 0\n",
       "Month of absence                   0\n",
       "Day of the week                    0\n",
       "Seasons                            0\n",
       "Transportation expense             0\n",
       "Distance from Residence to Work    0\n",
       "Service time                       0\n",
       "Age                                0\n",
       "Work load Average/day              0\n",
       "Hit target                         0\n",
       "Disciplinary failure               0\n",
       "Education                          0\n",
       "Son                                0\n",
       "Social drinker                     0\n",
       "Social smoker                      0\n",
       "Pet                                0\n",
       "Weight                             0\n",
       "Height                             0\n",
       "Body mass index                    0\n",
       "Absenteeism time in hours          0\n",
       "dtype: int64"
      ]
     },
     "execution_count": 5,
     "metadata": {},
     "output_type": "execute_result"
    }
   ],
   "source": [
    "# Check for missing values\n",
    "df.isna().sum()"
   ]
  },
  {
   "cell_type": "markdown",
   "metadata": {},
   "source": [
    "##### There are no missing values in the dataset"
   ]
  },
  {
   "cell_type": "markdown",
   "metadata": {},
   "source": [
    "#### Feature Engineering"
   ]
  },
  {
   "cell_type": "code",
   "execution_count": null,
   "metadata": {},
   "outputs": [],
   "source": []
  },
  {
   "cell_type": "raw",
   "metadata": {},
   "source": [
    "##### List of features/Input variables\n",
    "1. Individual identification (ID) (Numerical)\r\n",
    "2. Reason for absence (ICD (Categorical).\r\n",
    "Absences attested by the International Code of Diseases (ICD) stratified into 21 categories (I to XXI) as follows:\r\n",
    "\r\n",
    "I Certain infectious and parasitic diseases  \r\n",
    "II Neoplasms  \r\n",
    "III Diseases of the blood and blood-forming organs and certain disorders involving the immune mechanism  \r\n",
    "IV Endocrine, nutritional and metabolic diseases  \r\n",
    "V Mental and behavioural disorders  \r\n",
    "VI Diseases of the nervous system  \r\n",
    "VII Diseases of the eye and adnexa  \r\n",
    "VIII Diseases of the ear and mastoid process  \r\n",
    "IX Diseases of the circulatory system  \r\n",
    "X Diseases of the respiratory system  \r\n",
    "XI Diseases of the digestive system  \r\n",
    "XII Diseases of the skin and subcutaneous tissue  \r\n",
    "XIII Diseases of the musculoskeletal system and connective tissue  \r\n",
    "XIV Diseases of the genitourinary system  \r\n",
    "XV Pregnancy, childbirth and the puerperium  \r\n",
    "XVI Certain conditions originating in the perinatal period  \r\n",
    "XVII Congenital malformations, deformations and chromosomal abnormalities  \r\n",
    "XVIII Symptoms, signs and abnormal clinical and laboratory findings, not elsewhere classified  \r\n",
    "XIX Injury, poisoning and certain other consequences of external causes  \r\n",
    "XX External causes of morbidity and mortality  \r\n",
    "XXI Factors influencing  alth status and conta\n",
    "\n",
    "And 7 categories without (CID) patient follow-up (22), medical consultation (23), blood donation (24), laboratory examination (25), unjustified absence (26), physiotherapy (27), d33. Month of absence\n",
    "4. Day of the week (Monday (2), Tuesday (3), Wednesday (4), Thursday (5), Friday (6))\n",
    "5. Seasons (summer (1), autumn (2), winter (3), spring (4))\n",
    "6. Transportation expense\n",
    "7. Distance from Residence to Work (kilometers)\n",
    "8. Service time\n",
    "9. Age\n",
    "10. Work load Average/day \n",
    "11. Hit target\n",
    "12. Disciplinary failure (yes=1; no=0)\n",
    "13. Education (high school (1), graduate (2), postgraduate (3), master and doctor (4))\n",
    "14. Son (number of children)\n",
    "15. Social drinker (yes=1; no=0)\n",
    "16. Social smoker (yes=1; no=0)\n",
    "17. Pet (number of pet)\n",
    "18. Weight\n",
    "19. Height\n",
    "20. Body mass index\n",
    "Height\r\n",
    "20. Body mass index\r\n",
    "\n",
    "\n",
    "\n",
    "\n",
    "\n"
   ]
  },
  {
   "cell_type": "code",
   "execution_count": 6,
   "metadata": {},
   "outputs": [],
   "source": [
    "# Feature understanding - Identified numerical features\n",
    "numeric_cols = ['ID', 'Transportation expense', 'Distance from Residence to Work',\n",
    "                'Service time','Age','Work load Average/day ','Hit target',\n",
    "                'Son', 'Pet', 'Weight','Height', 'Body mass index']\n",
    "\n",
    "# Feature understanding - Identified categorical features\n",
    "categorical_cols = ['Reason for absence','Month of absence', 'Day of the week',\n",
    "                    'Seasons', 'Disciplinary failure', 'Education',  \n",
    "                    'Social drinker', 'Social smoker']\n"
   ]
  },
  {
   "cell_type": "markdown",
   "metadata": {},
   "source": [
    "#### General data analysis"
   ]
  },
  {
   "cell_type": "code",
   "execution_count": 7,
   "metadata": {},
   "outputs": [],
   "source": [
    "import numpy as np\n",
    "import matplotlib.pyplot as plt\n",
    "import matplotlib as mpl\n",
    "import seaborn as sns"
   ]
  },
  {
   "cell_type": "markdown",
   "metadata": {},
   "source": [
    "##### Look at target variable absenteeism time in hours:"
   ]
  },
  {
   "cell_type": "code",
   "execution_count": 120,
   "metadata": {},
   "outputs": [
    {
     "data": {
      "text/plain": [
       "Absenteeism time in hours    5124\n",
       "dtype: int64"
      ]
     },
     "execution_count": 120,
     "metadata": {},
     "output_type": "execute_result"
    }
   ],
   "source": [
    "# Total number of absenteeism hours\n",
    "df[['Absenteeism time in hours']].sum()"
   ]
  },
  {
   "cell_type": "markdown",
   "metadata": {},
   "source": [
    "##### The total number of absenteeism hours was 5124"
   ]
  },
  {
   "cell_type": "code",
   "execution_count": 8,
   "metadata": {},
   "outputs": [
    {
     "data": {
      "text/html": [
       "<div>\n",
       "<style scoped>\n",
       "    .dataframe tbody tr th:only-of-type {\n",
       "        vertical-align: middle;\n",
       "    }\n",
       "\n",
       "    .dataframe tbody tr th {\n",
       "        vertical-align: top;\n",
       "    }\n",
       "\n",
       "    .dataframe thead th {\n",
       "        text-align: right;\n",
       "    }\n",
       "</style>\n",
       "<table border=\"1\" class=\"dataframe\">\n",
       "  <thead>\n",
       "    <tr style=\"text-align: right;\">\n",
       "      <th></th>\n",
       "      <th>Absenteeism time in hours</th>\n",
       "      <th>proportion</th>\n",
       "    </tr>\n",
       "  </thead>\n",
       "  <tbody>\n",
       "    <tr>\n",
       "      <th>0</th>\n",
       "      <td>8</td>\n",
       "      <td>0.281081</td>\n",
       "    </tr>\n",
       "    <tr>\n",
       "      <th>1</th>\n",
       "      <td>2</td>\n",
       "      <td>0.212162</td>\n",
       "    </tr>\n",
       "    <tr>\n",
       "      <th>2</th>\n",
       "      <td>3</td>\n",
       "      <td>0.151351</td>\n",
       "    </tr>\n",
       "    <tr>\n",
       "      <th>3</th>\n",
       "      <td>1</td>\n",
       "      <td>0.118919</td>\n",
       "    </tr>\n",
       "    <tr>\n",
       "      <th>4</th>\n",
       "      <td>4</td>\n",
       "      <td>0.081081</td>\n",
       "    </tr>\n",
       "    <tr>\n",
       "      <th>5</th>\n",
       "      <td>0</td>\n",
       "      <td>0.059459</td>\n",
       "    </tr>\n",
       "    <tr>\n",
       "      <th>6</th>\n",
       "      <td>16</td>\n",
       "      <td>0.025676</td>\n",
       "    </tr>\n",
       "    <tr>\n",
       "      <th>7</th>\n",
       "      <td>24</td>\n",
       "      <td>0.021622</td>\n",
       "    </tr>\n",
       "    <tr>\n",
       "      <th>8</th>\n",
       "      <td>5</td>\n",
       "      <td>0.009459</td>\n",
       "    </tr>\n",
       "    <tr>\n",
       "      <th>9</th>\n",
       "      <td>40</td>\n",
       "      <td>0.009459</td>\n",
       "    </tr>\n",
       "    <tr>\n",
       "      <th>10</th>\n",
       "      <td>32</td>\n",
       "      <td>0.008108</td>\n",
       "    </tr>\n",
       "    <tr>\n",
       "      <th>11</th>\n",
       "      <td>64</td>\n",
       "      <td>0.004054</td>\n",
       "    </tr>\n",
       "    <tr>\n",
       "      <th>12</th>\n",
       "      <td>80</td>\n",
       "      <td>0.004054</td>\n",
       "    </tr>\n",
       "    <tr>\n",
       "      <th>13</th>\n",
       "      <td>120</td>\n",
       "      <td>0.004054</td>\n",
       "    </tr>\n",
       "    <tr>\n",
       "      <th>14</th>\n",
       "      <td>56</td>\n",
       "      <td>0.002703</td>\n",
       "    </tr>\n",
       "    <tr>\n",
       "      <th>15</th>\n",
       "      <td>112</td>\n",
       "      <td>0.002703</td>\n",
       "    </tr>\n",
       "    <tr>\n",
       "      <th>16</th>\n",
       "      <td>7</td>\n",
       "      <td>0.001351</td>\n",
       "    </tr>\n",
       "    <tr>\n",
       "      <th>17</th>\n",
       "      <td>48</td>\n",
       "      <td>0.001351</td>\n",
       "    </tr>\n",
       "    <tr>\n",
       "      <th>18</th>\n",
       "      <td>104</td>\n",
       "      <td>0.001351</td>\n",
       "    </tr>\n",
       "  </tbody>\n",
       "</table>\n",
       "</div>"
      ],
      "text/plain": [
       "    Absenteeism time in hours  proportion\n",
       "0                           8    0.281081\n",
       "1                           2    0.212162\n",
       "2                           3    0.151351\n",
       "3                           1    0.118919\n",
       "4                           4    0.081081\n",
       "5                           0    0.059459\n",
       "6                          16    0.025676\n",
       "7                          24    0.021622\n",
       "8                           5    0.009459\n",
       "9                          40    0.009459\n",
       "10                         32    0.008108\n",
       "11                         64    0.004054\n",
       "12                         80    0.004054\n",
       "13                        120    0.004054\n",
       "14                         56    0.002703\n",
       "15                        112    0.002703\n",
       "16                          7    0.001351\n",
       "17                         48    0.001351\n",
       "18                        104    0.001351"
      ]
     },
     "execution_count": 8,
     "metadata": {},
     "output_type": "execute_result"
    }
   ],
   "source": [
    "df[['Absenteeism time in hours']].value_counts(normalize = True).reset_index()"
   ]
  },
  {
   "cell_type": "markdown",
   "metadata": {},
   "source": [
    "##### The majority of absences (> 75%) were a day or less"
   ]
  },
  {
   "cell_type": "code",
   "execution_count": 9,
   "metadata": {},
   "outputs": [
    {
     "data": {
      "text/html": [
       "<div>\n",
       "<style scoped>\n",
       "    .dataframe tbody tr th:only-of-type {\n",
       "        vertical-align: middle;\n",
       "    }\n",
       "\n",
       "    .dataframe tbody tr th {\n",
       "        vertical-align: top;\n",
       "    }\n",
       "\n",
       "    .dataframe thead th {\n",
       "        text-align: right;\n",
       "    }\n",
       "</style>\n",
       "<table border=\"1\" class=\"dataframe\">\n",
       "  <thead>\n",
       "    <tr style=\"text-align: right;\">\n",
       "      <th></th>\n",
       "      <th>Absenteeism time in hours</th>\n",
       "    </tr>\n",
       "  </thead>\n",
       "  <tbody>\n",
       "    <tr>\n",
       "      <th>count</th>\n",
       "      <td>740.000000</td>\n",
       "    </tr>\n",
       "    <tr>\n",
       "      <th>mean</th>\n",
       "      <td>6.924324</td>\n",
       "    </tr>\n",
       "    <tr>\n",
       "      <th>std</th>\n",
       "      <td>13.330998</td>\n",
       "    </tr>\n",
       "    <tr>\n",
       "      <th>min</th>\n",
       "      <td>0.000000</td>\n",
       "    </tr>\n",
       "    <tr>\n",
       "      <th>25%</th>\n",
       "      <td>2.000000</td>\n",
       "    </tr>\n",
       "    <tr>\n",
       "      <th>50%</th>\n",
       "      <td>3.000000</td>\n",
       "    </tr>\n",
       "    <tr>\n",
       "      <th>75%</th>\n",
       "      <td>8.000000</td>\n",
       "    </tr>\n",
       "    <tr>\n",
       "      <th>max</th>\n",
       "      <td>120.000000</td>\n",
       "    </tr>\n",
       "  </tbody>\n",
       "</table>\n",
       "</div>"
      ],
      "text/plain": [
       "       Absenteeism time in hours\n",
       "count                 740.000000\n",
       "mean                    6.924324\n",
       "std                    13.330998\n",
       "min                     0.000000\n",
       "25%                     2.000000\n",
       "50%                     3.000000\n",
       "75%                     8.000000\n",
       "max                   120.000000"
      ]
     },
     "execution_count": 9,
     "metadata": {},
     "output_type": "execute_result"
    }
   ],
   "source": [
    "df[['Absenteeism time in hours']].describe()"
   ]
  },
  {
   "cell_type": "markdown",
   "metadata": {},
   "source": [
    "##### The sample average number of absenteeism hours was 6.9 hr\n",
    "##### The sample STD of absences was 13.3 hr"
   ]
  },
  {
   "cell_type": "code",
   "execution_count": 10,
   "metadata": {},
   "outputs": [
    {
     "data": {
      "text/plain": [
       "44"
      ]
     },
     "execution_count": 10,
     "metadata": {},
     "output_type": "execute_result"
    }
   ],
   "source": [
    "# Look at the number of individuals with perfect attendance record\n",
    "len(df[df['Absenteeism time in hours']==0])"
   ]
  },
  {
   "cell_type": "code",
   "execution_count": 11,
   "metadata": {},
   "outputs": [
    {
     "data": {
      "text/plain": [
       "5.9459459459459465"
      ]
     },
     "execution_count": 11,
     "metadata": {},
     "output_type": "execute_result"
    }
   ],
   "source": [
    "len(df[df['Absenteeism time in hours']==0])/len(df)*100"
   ]
  },
  {
   "cell_type": "markdown",
   "metadata": {},
   "source": [
    "##### There were 44 individuals with perfect attendance record (6% of total)\n",
    "\n",
    "##### By extension, 94% of individuals reported absences during the year"
   ]
  },
  {
   "cell_type": "code",
   "execution_count": 12,
   "metadata": {},
   "outputs": [],
   "source": [
    "# Look at absentee data closer to develop more insights\n",
    "df_absent = df[df['Absenteeism time in hours']!=0]"
   ]
  },
  {
   "cell_type": "code",
   "execution_count": 13,
   "metadata": {},
   "outputs": [
    {
     "data": {
      "text/html": [
       "<div>\n",
       "<style scoped>\n",
       "    .dataframe tbody tr th:only-of-type {\n",
       "        vertical-align: middle;\n",
       "    }\n",
       "\n",
       "    .dataframe tbody tr th {\n",
       "        vertical-align: top;\n",
       "    }\n",
       "\n",
       "    .dataframe thead th {\n",
       "        text-align: right;\n",
       "    }\n",
       "</style>\n",
       "<table border=\"1\" class=\"dataframe\">\n",
       "  <thead>\n",
       "    <tr style=\"text-align: right;\">\n",
       "      <th></th>\n",
       "      <th>count</th>\n",
       "      <th>mean</th>\n",
       "      <th>std</th>\n",
       "      <th>min</th>\n",
       "      <th>25%</th>\n",
       "      <th>50%</th>\n",
       "      <th>75%</th>\n",
       "      <th>max</th>\n",
       "    </tr>\n",
       "  </thead>\n",
       "  <tbody>\n",
       "    <tr>\n",
       "      <th>ID</th>\n",
       "      <td>696.0</td>\n",
       "      <td>17.992816</td>\n",
       "      <td>10.974723</td>\n",
       "      <td>1.000</td>\n",
       "      <td>10.00000</td>\n",
       "      <td>18.000</td>\n",
       "      <td>28.000</td>\n",
       "      <td>36.000</td>\n",
       "    </tr>\n",
       "    <tr>\n",
       "      <th>Reason for absence</th>\n",
       "      <td>696.0</td>\n",
       "      <td>20.392241</td>\n",
       "      <td>7.162846</td>\n",
       "      <td>1.000</td>\n",
       "      <td>14.00000</td>\n",
       "      <td>23.000</td>\n",
       "      <td>27.000</td>\n",
       "      <td>28.000</td>\n",
       "    </tr>\n",
       "    <tr>\n",
       "      <th>Month of absence</th>\n",
       "      <td>696.0</td>\n",
       "      <td>6.270115</td>\n",
       "      <td>3.434321</td>\n",
       "      <td>1.000</td>\n",
       "      <td>3.00000</td>\n",
       "      <td>6.000</td>\n",
       "      <td>9.000</td>\n",
       "      <td>12.000</td>\n",
       "    </tr>\n",
       "    <tr>\n",
       "      <th>Day of the week</th>\n",
       "      <td>696.0</td>\n",
       "      <td>3.920977</td>\n",
       "      <td>1.430728</td>\n",
       "      <td>2.000</td>\n",
       "      <td>3.00000</td>\n",
       "      <td>4.000</td>\n",
       "      <td>5.000</td>\n",
       "      <td>6.000</td>\n",
       "    </tr>\n",
       "    <tr>\n",
       "      <th>Seasons</th>\n",
       "      <td>696.0</td>\n",
       "      <td>2.507184</td>\n",
       "      <td>1.105880</td>\n",
       "      <td>1.000</td>\n",
       "      <td>2.00000</td>\n",
       "      <td>2.000</td>\n",
       "      <td>3.250</td>\n",
       "      <td>4.000</td>\n",
       "    </tr>\n",
       "    <tr>\n",
       "      <th>Transportation expense</th>\n",
       "      <td>696.0</td>\n",
       "      <td>219.916667</td>\n",
       "      <td>65.803295</td>\n",
       "      <td>118.000</td>\n",
       "      <td>179.00000</td>\n",
       "      <td>225.000</td>\n",
       "      <td>260.000</td>\n",
       "      <td>388.000</td>\n",
       "    </tr>\n",
       "    <tr>\n",
       "      <th>Distance from Residence to Work</th>\n",
       "      <td>696.0</td>\n",
       "      <td>29.853448</td>\n",
       "      <td>14.855615</td>\n",
       "      <td>5.000</td>\n",
       "      <td>16.00000</td>\n",
       "      <td>26.000</td>\n",
       "      <td>50.000</td>\n",
       "      <td>52.000</td>\n",
       "    </tr>\n",
       "    <tr>\n",
       "      <th>Service time</th>\n",
       "      <td>696.0</td>\n",
       "      <td>12.553161</td>\n",
       "      <td>4.440175</td>\n",
       "      <td>1.000</td>\n",
       "      <td>9.00000</td>\n",
       "      <td>13.000</td>\n",
       "      <td>16.000</td>\n",
       "      <td>29.000</td>\n",
       "    </tr>\n",
       "    <tr>\n",
       "      <th>Age</th>\n",
       "      <td>696.0</td>\n",
       "      <td>36.254310</td>\n",
       "      <td>6.380725</td>\n",
       "      <td>27.000</td>\n",
       "      <td>31.00000</td>\n",
       "      <td>37.000</td>\n",
       "      <td>40.000</td>\n",
       "      <td>58.000</td>\n",
       "    </tr>\n",
       "    <tr>\n",
       "      <th>Work load Average/day</th>\n",
       "      <td>696.0</td>\n",
       "      <td>271.165718</td>\n",
       "      <td>39.096003</td>\n",
       "      <td>205.917</td>\n",
       "      <td>243.65925</td>\n",
       "      <td>264.249</td>\n",
       "      <td>294.217</td>\n",
       "      <td>378.884</td>\n",
       "    </tr>\n",
       "    <tr>\n",
       "      <th>Hit target</th>\n",
       "      <td>696.0</td>\n",
       "      <td>94.719828</td>\n",
       "      <td>3.656150</td>\n",
       "      <td>81.000</td>\n",
       "      <td>93.00000</td>\n",
       "      <td>95.000</td>\n",
       "      <td>97.000</td>\n",
       "      <td>100.000</td>\n",
       "    </tr>\n",
       "    <tr>\n",
       "      <th>Disciplinary failure</th>\n",
       "      <td>696.0</td>\n",
       "      <td>0.000000</td>\n",
       "      <td>0.000000</td>\n",
       "      <td>0.000</td>\n",
       "      <td>0.00000</td>\n",
       "      <td>0.000</td>\n",
       "      <td>0.000</td>\n",
       "      <td>0.000</td>\n",
       "    </tr>\n",
       "    <tr>\n",
       "      <th>Education</th>\n",
       "      <td>696.0</td>\n",
       "      <td>1.303161</td>\n",
       "      <td>0.685967</td>\n",
       "      <td>1.000</td>\n",
       "      <td>1.00000</td>\n",
       "      <td>1.000</td>\n",
       "      <td>1.000</td>\n",
       "      <td>4.000</td>\n",
       "    </tr>\n",
       "    <tr>\n",
       "      <th>Son</th>\n",
       "      <td>696.0</td>\n",
       "      <td>1.000000</td>\n",
       "      <td>1.098069</td>\n",
       "      <td>0.000</td>\n",
       "      <td>0.00000</td>\n",
       "      <td>1.000</td>\n",
       "      <td>2.000</td>\n",
       "      <td>4.000</td>\n",
       "    </tr>\n",
       "    <tr>\n",
       "      <th>Social drinker</th>\n",
       "      <td>696.0</td>\n",
       "      <td>0.561782</td>\n",
       "      <td>0.496525</td>\n",
       "      <td>0.000</td>\n",
       "      <td>0.00000</td>\n",
       "      <td>1.000</td>\n",
       "      <td>1.000</td>\n",
       "      <td>1.000</td>\n",
       "    </tr>\n",
       "    <tr>\n",
       "      <th>Social smoker</th>\n",
       "      <td>696.0</td>\n",
       "      <td>0.066092</td>\n",
       "      <td>0.248621</td>\n",
       "      <td>0.000</td>\n",
       "      <td>0.00000</td>\n",
       "      <td>0.000</td>\n",
       "      <td>0.000</td>\n",
       "      <td>1.000</td>\n",
       "    </tr>\n",
       "    <tr>\n",
       "      <th>Pet</th>\n",
       "      <td>696.0</td>\n",
       "      <td>0.728448</td>\n",
       "      <td>1.281679</td>\n",
       "      <td>0.000</td>\n",
       "      <td>0.00000</td>\n",
       "      <td>0.000</td>\n",
       "      <td>1.000</td>\n",
       "      <td>8.000</td>\n",
       "    </tr>\n",
       "    <tr>\n",
       "      <th>Weight</th>\n",
       "      <td>696.0</td>\n",
       "      <td>78.751437</td>\n",
       "      <td>12.730748</td>\n",
       "      <td>56.000</td>\n",
       "      <td>69.00000</td>\n",
       "      <td>80.000</td>\n",
       "      <td>89.000</td>\n",
       "      <td>108.000</td>\n",
       "    </tr>\n",
       "    <tr>\n",
       "      <th>Height</th>\n",
       "      <td>696.0</td>\n",
       "      <td>172.132184</td>\n",
       "      <td>6.087118</td>\n",
       "      <td>163.000</td>\n",
       "      <td>169.00000</td>\n",
       "      <td>170.000</td>\n",
       "      <td>172.000</td>\n",
       "      <td>196.000</td>\n",
       "    </tr>\n",
       "    <tr>\n",
       "      <th>Body mass index</th>\n",
       "      <td>696.0</td>\n",
       "      <td>26.573276</td>\n",
       "      <td>4.192879</td>\n",
       "      <td>19.000</td>\n",
       "      <td>24.00000</td>\n",
       "      <td>25.000</td>\n",
       "      <td>31.000</td>\n",
       "      <td>38.000</td>\n",
       "    </tr>\n",
       "    <tr>\n",
       "      <th>Absenteeism time in hours</th>\n",
       "      <td>696.0</td>\n",
       "      <td>7.362069</td>\n",
       "      <td>13.628618</td>\n",
       "      <td>1.000</td>\n",
       "      <td>2.00000</td>\n",
       "      <td>3.000</td>\n",
       "      <td>8.000</td>\n",
       "      <td>120.000</td>\n",
       "    </tr>\n",
       "  </tbody>\n",
       "</table>\n",
       "</div>"
      ],
      "text/plain": [
       "                                 count        mean        std      min  \\\n",
       "ID                               696.0   17.992816  10.974723    1.000   \n",
       "Reason for absence               696.0   20.392241   7.162846    1.000   \n",
       "Month of absence                 696.0    6.270115   3.434321    1.000   \n",
       "Day of the week                  696.0    3.920977   1.430728    2.000   \n",
       "Seasons                          696.0    2.507184   1.105880    1.000   \n",
       "Transportation expense           696.0  219.916667  65.803295  118.000   \n",
       "Distance from Residence to Work  696.0   29.853448  14.855615    5.000   \n",
       "Service time                     696.0   12.553161   4.440175    1.000   \n",
       "Age                              696.0   36.254310   6.380725   27.000   \n",
       "Work load Average/day            696.0  271.165718  39.096003  205.917   \n",
       "Hit target                       696.0   94.719828   3.656150   81.000   \n",
       "Disciplinary failure             696.0    0.000000   0.000000    0.000   \n",
       "Education                        696.0    1.303161   0.685967    1.000   \n",
       "Son                              696.0    1.000000   1.098069    0.000   \n",
       "Social drinker                   696.0    0.561782   0.496525    0.000   \n",
       "Social smoker                    696.0    0.066092   0.248621    0.000   \n",
       "Pet                              696.0    0.728448   1.281679    0.000   \n",
       "Weight                           696.0   78.751437  12.730748   56.000   \n",
       "Height                           696.0  172.132184   6.087118  163.000   \n",
       "Body mass index                  696.0   26.573276   4.192879   19.000   \n",
       "Absenteeism time in hours        696.0    7.362069  13.628618    1.000   \n",
       "\n",
       "                                       25%      50%      75%      max  \n",
       "ID                                10.00000   18.000   28.000   36.000  \n",
       "Reason for absence                14.00000   23.000   27.000   28.000  \n",
       "Month of absence                   3.00000    6.000    9.000   12.000  \n",
       "Day of the week                    3.00000    4.000    5.000    6.000  \n",
       "Seasons                            2.00000    2.000    3.250    4.000  \n",
       "Transportation expense           179.00000  225.000  260.000  388.000  \n",
       "Distance from Residence to Work   16.00000   26.000   50.000   52.000  \n",
       "Service time                       9.00000   13.000   16.000   29.000  \n",
       "Age                               31.00000   37.000   40.000   58.000  \n",
       "Work load Average/day            243.65925  264.249  294.217  378.884  \n",
       "Hit target                        93.00000   95.000   97.000  100.000  \n",
       "Disciplinary failure               0.00000    0.000    0.000    0.000  \n",
       "Education                          1.00000    1.000    1.000    4.000  \n",
       "Son                                0.00000    1.000    2.000    4.000  \n",
       "Social drinker                     0.00000    1.000    1.000    1.000  \n",
       "Social smoker                      0.00000    0.000    0.000    1.000  \n",
       "Pet                                0.00000    0.000    1.000    8.000  \n",
       "Weight                            69.00000   80.000   89.000  108.000  \n",
       "Height                           169.00000  170.000  172.000  196.000  \n",
       "Body mass index                   24.00000   25.000   31.000   38.000  \n",
       "Absenteeism time in hours          2.00000    3.000    8.000  120.000  "
      ]
     },
     "execution_count": 13,
     "metadata": {},
     "output_type": "execute_result"
    }
   ],
   "source": [
    "df_absent.describe().T"
   ]
  },
  {
   "cell_type": "markdown",
   "metadata": {},
   "source": [
    "##### The average absence time was 7.4 hr. The STD was 13.6 hr.\n",
    "##### Half of the absent workers were away for 3 hr or less\n",
    "##### The maximum absence time was 120 hr (15 days)\n",
    "##### The average Service time of absentees was 12.6 years with minimum of 1 and a maximum of 29 years. 75% of absentees had less than 16 years of service.\n",
    "##### The mean Age of absentees was 36.3 years with a minimum of 27 years and a maximum of 58 years. 75% of absentees were younger than 40 yo\n",
    "##### The average distance to work from absentees was 29.9 Km\n"
   ]
  },
  {
   "cell_type": "code",
   "execution_count": 14,
   "metadata": {},
   "outputs": [
    {
     "data": {
      "text/plain": [
       "33"
      ]
     },
     "execution_count": 14,
     "metadata": {},
     "output_type": "execute_result"
    }
   ],
   "source": [
    "# Look at the number of individuals with unjustified absences\n",
    "len(df_absent[df_absent['Reason for absence']==26])"
   ]
  },
  {
   "cell_type": "code",
   "execution_count": 15,
   "metadata": {},
   "outputs": [
    {
     "data": {
      "text/plain": [
       "4.741379310344827"
      ]
     },
     "execution_count": 15,
     "metadata": {},
     "output_type": "execute_result"
    }
   ],
   "source": [
    "len(df_absent[df_absent['Reason for absence']==26])/len(df_absent)*100"
   ]
  },
  {
   "cell_type": "markdown",
   "metadata": {},
   "source": [
    "##### There were 33 individuals with unjustified absences (5% of total)"
   ]
  },
  {
   "cell_type": "code",
   "execution_count": 16,
   "metadata": {},
   "outputs": [
    {
     "data": {
      "text/plain": [
       "Month of absence\n",
       "3     83\n",
       "2     72\n",
       "7     65\n",
       "10    62\n",
       "5     58\n",
       "11    57\n",
       "8     54\n",
       "4     52\n",
       "6     51\n",
       "12    49\n",
       "1     49\n",
       "9     44\n",
       "Name: count, dtype: int64"
      ]
     },
     "execution_count": 16,
     "metadata": {},
     "output_type": "execute_result"
    }
   ],
   "source": [
    "df_absent['Month of absence'].value_counts()"
   ]
  },
  {
   "cell_type": "code",
   "execution_count": 17,
   "metadata": {},
   "outputs": [
    {
     "name": "stdout",
     "output_type": "stream",
     "text": [
      "Reason for absence\n",
      "23    21.408046\n",
      "28    16.091954\n",
      "27     9.770115\n",
      "13     7.902299\n",
      "19     5.747126\n",
      "22     5.459770\n",
      "26     4.741379\n",
      "25     4.454023\n",
      "11     3.735632\n",
      "10     3.591954\n",
      "18     3.017241\n",
      "14     2.729885\n",
      "1      2.298851\n",
      "7      2.155172\n",
      "6      1.149425\n",
      "12     1.149425\n",
      "21     0.862069\n",
      "8      0.862069\n",
      "9      0.574713\n",
      "5      0.431034\n",
      "16     0.431034\n",
      "24     0.431034\n",
      "15     0.287356\n",
      "4      0.287356\n",
      "3      0.143678\n",
      "2      0.143678\n",
      "17     0.143678\n",
      "Name: proportion, dtype: float64 \n",
      "\n",
      "Month of absence\n",
      "3     11.925287\n",
      "2     10.344828\n",
      "7      9.339080\n",
      "10     8.908046\n",
      "5      8.333333\n",
      "11     8.189655\n",
      "8      7.758621\n",
      "4      7.471264\n",
      "6      7.327586\n",
      "12     7.040230\n",
      "1      7.040230\n",
      "9      6.321839\n",
      "Name: proportion, dtype: float64 \n",
      "\n",
      "Day of the week\n",
      "2    22.126437\n",
      "4    20.833333\n",
      "3    20.258621\n",
      "6    19.827586\n",
      "5    16.954023\n",
      "Name: proportion, dtype: float64 \n",
      "\n",
      "Seasons\n",
      "2    27.155172\n",
      "4    25.000000\n",
      "3    24.281609\n",
      "1    23.563218\n",
      "Name: proportion, dtype: float64 \n",
      "\n",
      "Disciplinary failure\n",
      "0    100.0\n",
      "Name: proportion, dtype: float64 \n",
      "\n",
      "Education\n",
      "1    82.040230\n",
      "3    11.206897\n",
      "2     6.178161\n",
      "4     0.574713\n",
      "Name: proportion, dtype: float64 \n",
      "\n",
      "Social drinker\n",
      "1    56.178161\n",
      "0    43.821839\n",
      "Name: proportion, dtype: float64 \n",
      "\n",
      "Social smoker\n",
      "0    93.390805\n",
      "1     6.609195\n",
      "Name: proportion, dtype: float64 \n",
      "\n"
     ]
    }
   ],
   "source": [
    "for k in categorical_cols:\n",
    "    print(df_absent[k].value_counts(normalize = True)*100,'\\n')\n"
   ]
  },
  {
   "cell_type": "markdown",
   "metadata": {},
   "source": [
    "#### Visualizations and analyses for each of the variables"
   ]
  },
  {
   "cell_type": "code",
   "execution_count": 18,
   "metadata": {},
   "outputs": [
    {
     "data": {
      "image/png": "[encoded data removed]",
      "text/plain": [
       "<Figure size 640x480 with 1 Axes>"
      ]
     },
     "metadata": {},
     "output_type": "display_data"
    }
   ],
   "source": [
    "mpl.rcParams['xtick.labelsize'] = 7  \n",
    "sns.countplot(data=df_absent, x='Reason for absence', stat='percent' )\n",
    "plt.title(\"Absenteeism proportion of cases by Reason \")\n",
    "plt.show()"
   ]
  },
  {
   "cell_type": "code",
   "execution_count": 19,
   "metadata": {},
   "outputs": [
    {
     "data": {
      "image/png": "[encoded data removed]",
      "text/plain": [
       "<Figure size 640x480 with 1 Axes>"
      ]
     },
     "metadata": {},
     "output_type": "display_data"
    }
   ],
   "source": [
    "mpl.rcParams['xtick.labelsize'] = 7  \n",
    "ax = sns.barplot(data=df_absent, x=\"Reason for absence\", y=\"Absenteeism time in hours\", estimator=sum, errorbar = None)\n",
    "ax.bar_label(ax.containers[0], fontsize=7)\n",
    "plt.title(\"Absenteeism by Reason\")\n",
    "plt.show()"
   ]
  },
  {
   "cell_type": "markdown",
   "metadata": {},
   "source": [
    "##### The main reasons for absences were medical consultation (21.4%), dental consultation (16.1%), physiotherapy(9.8%), diseases of the musculoskeletal system and connective tissue (7.9%), injuries (5.7%) and patient follow-up(5.5%)\n",
    "\n",
    "##### The majority of absent hours were caused by diseases of the musculoskeletal system and connective tissue (842 hr); injury, poisoning and certain other consequences of external causes (729 hr); as well as medical(424 hr) and dental(335 hr) consultations. There were significant absences due to diseases of the respiratory(276 hr) and digestive(297 hr) systems. \r\n"
   ]
  },
  {
   "cell_type": "code",
   "execution_count": null,
   "metadata": {},
   "outputs": [],
   "source": []
  },
  {
   "cell_type": "code",
   "execution_count": 20,
   "metadata": {},
   "outputs": [
    {
     "data": {
      "image/png": "[encoded data removed]",
      "text/plain": [
       "<Figure size 640x480 with 1 Axes>"
      ]
     },
     "metadata": {},
     "output_type": "display_data"
    }
   ],
   "source": [
    "mpl.rcParams['xtick.labelsize'] = 12  \n",
    "sns.countplot(data=df_absent, x='Month of absence', stat='percent' )\n",
    "plt.xticks([0, 1, 2, 3, 4, 5, 6, 7, 8, 9, 10, 11], ['Jan', 'Feb', 'Mar', 'Apr', 'May', 'Jun', 'Jul', 'Aug', 'Sep', 'Oct', 'Nov', 'Dec'])\n",
    "plt.title(\"Absenteeism proportion of cases by Month of absence\")\n",
    "plt.show()"
   ]
  },
  {
   "cell_type": "code",
   "execution_count": 21,
   "metadata": {},
   "outputs": [
    {
     "data": {
      "image/png": "[encoded data removed]",
      "text/plain": [
       "<Figure size 640x480 with 1 Axes>"
      ]
     },
     "metadata": {},
     "output_type": "display_data"
    }
   ],
   "source": [
    "ax = sns.barplot(data=df_absent, x=\"Month of absence\", y=\"Absenteeism time in hours\", estimator=sum, errorbar = None)\n",
    "ax.bar_label(ax.containers[0], fontsize=10)\n",
    "plt.xticks([0, 1, 2, 3, 4, 5, 6, 7, 8, 9, 10, 11], ['Jan', 'Feb', 'Mar', 'Apr', 'May', 'Jun', 'Jul', 'Aug', 'Sep', 'Oct', 'Nov', 'Dec'])\n",
    "plt.title(\"Absenteeisim by Month\")\n",
    "plt.show()"
   ]
  },
  {
   "cell_type": "markdown",
   "metadata": {},
   "source": [
    "##### The months with the most absenteeism cases were March (12%), February (10.3%) and July (9.3%)\n",
    "##### The months with the most absenteeism time were March (765 hr), July (734 hr), April (482 hr) and November (473 hr)"
   ]
  },
  {
   "cell_type": "code",
   "execution_count": 22,
   "metadata": {},
   "outputs": [
    {
     "data": {
      "image/png": "[encoded data removed]",
      "text/plain": [
       "<Figure size 640x480 with 1 Axes>"
      ]
     },
     "metadata": {},
     "output_type": "display_data"
    }
   ],
   "source": [
    "sns.countplot(data=df_absent, x='Day of the week', stat='percent' )\n",
    "plt.xticks([0, 1, 2, 3, 4], ['Mon', 'Tue', 'Wed', 'Thr', 'Fri'])\n",
    "plt.title(\"Absenteeism proportion of cases by Day of the week\")\n",
    "plt.show()"
   ]
  },
  {
   "cell_type": "code",
   "execution_count": 23,
   "metadata": {},
   "outputs": [
    {
     "data": {
      "image/png": "[encoded data removed]",
      "text/plain": [
       "<Figure size 640x480 with 1 Axes>"
      ]
     },
     "metadata": {},
     "output_type": "display_data"
    }
   ],
   "source": [
    "ax = sns.barplot(data=df_absent, x=\"Day of the week\", y=\"Absenteeism time in hours\", estimator=sum, errorbar = None)\n",
    "ax.bar_label(ax.containers[0], fontsize=10)\n",
    "plt.xticks([0, 1, 2, 3, 4], ['Mon', 'Tue', 'Wed', 'Thr', 'Fri'])\n",
    "plt.title(\"Absenteeisim by Day of the week\")\n",
    "plt.show()"
   ]
  },
  {
   "cell_type": "markdown",
   "metadata": {},
   "source": [
    "##### The days with the most absence cases were Monday (22.1%), Wednesday (20.8%), Tuesday (20.3%) and Friday (19.8%) \n",
    "##### The days with the most absenteeism hours were Monday (1489 hr), Tuesday (1229 hr), Wednesday (1115 hr) and Friday (738 hr)\r\n",
    "\r\n"
   ]
  },
  {
   "cell_type": "code",
   "execution_count": 24,
   "metadata": {},
   "outputs": [
    {
     "data": {
      "image/png": "[encoded data removed]",
      "text/plain": [
       "<Figure size 640x480 with 1 Axes>"
      ]
     },
     "metadata": {},
     "output_type": "display_data"
    }
   ],
   "source": [
    "sns.countplot(data=df_absent, x='Seasons', stat='percent' )\n",
    "plt.xticks([0, 1, 2, 3], ['Summer', 'Autumn', 'Winter', 'Spring'])\n",
    "plt.title(\"Absenteeism proportion of cases by Seasons\")\n",
    "plt.show()"
   ]
  },
  {
   "cell_type": "code",
   "execution_count": 118,
   "metadata": {},
   "outputs": [
    {
     "data": {
      "image/png": "[encoded data removed]",
      "text/plain": [
       "<Figure size 640x480 with 1 Axes>"
      ]
     },
     "metadata": {},
     "output_type": "display_data"
    }
   ],
   "source": [
    "ax = sns.barplot(data=df_absent, x=\"Seasons\", y=\"Absenteeism time in hours\", estimator=sum, errorbar = None)\n",
    "ax.bar_label(ax.containers[0], fontsize=10)\n",
    "plt.xticks([0, 1, 2, 3], ['Summer', 'Autumn', 'Winter', 'Spring'])\n",
    "plt.title(\"Absenteeism by Seasons\")\n",
    "plt.show()"
   ]
  },
  {
   "cell_type": "markdown",
   "metadata": {},
   "source": [
    "##### Absence cases were almost equally distributed across seasons with Autumn having a slight uptick (27.2%)\n",
    "\n",
    "##### The season with the most absenteeism hours is Autumn (1492 hr), followed by Spring (1241) and Winter (1239) which differed very little.  "
   ]
  },
  {
   "cell_type": "code",
   "execution_count": null,
   "metadata": {},
   "outputs": [],
   "source": []
  },
  {
   "cell_type": "markdown",
   "metadata": {},
   "source": [
    "##### None of the absentees were subject to disciplinary action prior to being absent"
   ]
  },
  {
   "cell_type": "code",
   "execution_count": 26,
   "metadata": {},
   "outputs": [
    {
     "data": {
      "image/png": "[encoded data removed]",
      "text/plain": [
       "<Figure size 640x480 with 1 Axes>"
      ]
     },
     "metadata": {},
     "output_type": "display_data"
    }
   ],
   "source": [
    "sns.countplot(data=df_absent, x='Education', stat='percent' )\n",
    "plt.xticks([0, 1, 2, 3], ['HS', 'Grad', 'PostGrad', 'Master/PhD'])\n",
    "plt.title(\"Absenteeism proportion of cases by Education\")\n",
    "plt.show()"
   ]
  },
  {
   "cell_type": "code",
   "execution_count": 27,
   "metadata": {},
   "outputs": [
    {
     "data": {
      "image/png": "[encoded data removed]",
      "text/plain": [
       "<Figure size 640x480 with 1 Axes>"
      ]
     },
     "metadata": {},
     "output_type": "display_data"
    }
   ],
   "source": [
    "ax = sns.barplot(data=df_absent, x=\"Education\", y=\"Absenteeism time in hours\", estimator=sum, errorbar = None)\n",
    "ax.bar_label(ax.containers[0], fontsize=10)\n",
    "plt.xticks([0, 1, 2, 3], ['HS', 'Grad', 'PostGrad', 'Master/PhD'])\n",
    "plt.title(\"Absenteeisim by Education\")\n",
    "plt.show()"
   ]
  },
  {
   "cell_type": "markdown",
   "metadata": {},
   "source": [
    "##### The majority of the absentees (82%) had high school education\n",
    "\n",
    "##### Employees with this level of education had the most absenteeism hours (4393 hr)"
   ]
  },
  {
   "cell_type": "code",
   "execution_count": 28,
   "metadata": {},
   "outputs": [
    {
     "data": {
      "image/png": "[encoded data removed]",
      "text/plain": [
       "<Figure size 640x480 with 1 Axes>"
      ]
     },
     "metadata": {},
     "output_type": "display_data"
    }
   ],
   "source": [
    "sns.countplot(data=df_absent, x='Son', stat='percent' )\n",
    "plt.title(\"Absenteeism proportion of cases by number of children\")\n",
    "plt.xlabel('Number of children')\n",
    "plt.show()"
   ]
  },
  {
   "cell_type": "code",
   "execution_count": 29,
   "metadata": {},
   "outputs": [
    {
     "data": {
      "image/png": "[encoded data removed]",
      "text/plain": [
       "<Figure size 640x480 with 1 Axes>"
      ]
     },
     "metadata": {},
     "output_type": "display_data"
    }
   ],
   "source": [
    "ax = sns.barplot(data=df_absent, x=\"Son\", y=\"Absenteeism time in hours\", estimator=sum, errorbar = None)\n",
    "ax.bar_label(ax.containers[0], fontsize=10)\n",
    "plt.title(\"Absenteeisim by number of children\")\n",
    "plt.xlabel('Number of children')\n",
    "plt.show()"
   ]
  },
  {
   "cell_type": "markdown",
   "metadata": {},
   "source": [
    "##### A large majority of absentees (58.5%) had children\n",
    "\n",
    "##### The largest number of absenteeism hours were seen in employees with 2 children (1649 hr) \r\n"
   ]
  },
  {
   "cell_type": "code",
   "execution_count": 30,
   "metadata": {},
   "outputs": [
    {
     "data": {
      "image/png": "[encoded data removed]",
      "text/plain": [
       "<Figure size 640x480 with 1 Axes>"
      ]
     },
     "metadata": {},
     "output_type": "display_data"
    }
   ],
   "source": [
    "sns.countplot(data=df_absent, x='Social drinker', stat='percent' )\n",
    "plt.title(\"Absenteeism proportion of cases by Social drinking status\")\n",
    "plt.xticks([0, 1], ['No', 'Yes'])\n",
    "plt.xlabel('Social Drinking')\n",
    "plt.show()"
   ]
  },
  {
   "cell_type": "code",
   "execution_count": 31,
   "metadata": {},
   "outputs": [
    {
     "data": {
      "image/png": "[encoded data removed]",
      "text/plain": [
       "<Figure size 640x480 with 1 Axes>"
      ]
     },
     "metadata": {},
     "output_type": "display_data"
    }
   ],
   "source": [
    "ax = sns.barplot(data=df_absent, x=\"Social drinker\", y=\"Absenteeism time in hours\", estimator=sum, errorbar = None)\n",
    "ax.bar_label(ax.containers[0], fontsize=10)\n",
    "plt.xticks([0, 1], ['No', 'Yes'])\n",
    "plt.title(\"Absenteeisim by Social drinking status\")\n",
    "plt.xlabel('Social drinking')\n",
    "plt.show()"
   ]
  },
  {
   "cell_type": "markdown",
   "metadata": {},
   "source": [
    "##### 56.2 percent of absentees were social drinkers. The largest number of absenteeism hours were in the social drinker group (3226 hr)"
   ]
  },
  {
   "cell_type": "code",
   "execution_count": 32,
   "metadata": {},
   "outputs": [
    {
     "data": {
      "image/png": "[encoded data removed]",
      "text/plain": [
       "<Figure size 640x480 with 1 Axes>"
      ]
     },
     "metadata": {},
     "output_type": "display_data"
    }
   ],
   "source": [
    "sns.countplot(data=df_absent, x='Social smoker', stat='percent' )\n",
    "plt.title(\"Absenteeism proportion of cases by Social smoking status\")\n",
    "plt.xticks([0, 1], ['No', 'Yes'])\n",
    "plt.xlabel('Social smoking')\n",
    "plt.show()"
   ]
  },
  {
   "cell_type": "code",
   "execution_count": 119,
   "metadata": {},
   "outputs": [
    {
     "data": {
      "image/png": "[encoded data removed]",
      "text/plain": [
       "<Figure size 640x480 with 1 Axes>"
      ]
     },
     "metadata": {},
     "output_type": "display_data"
    }
   ],
   "source": [
    "ax = sns.barplot(data=df_absent, x=\"Social smoker\", y=\"Absenteeism time in hours\", estimator=sum, errorbar = None)\n",
    "ax.bar_label(ax.containers[0], fontsize=10)\n",
    "plt.xticks([0, 1], ['No', 'Yes'])\n",
    "plt.title(\"Absenteeism by Social smoking status\")\n",
    "plt.xlabel('Social smoking')\n",
    "plt.show()"
   ]
  },
  {
   "cell_type": "markdown",
   "metadata": {},
   "source": [
    "##### 6.6 percent of absentees were social smokers. The largest number of absenteeism hours were in the non-smoker group (4773 hr)"
   ]
  },
  {
   "cell_type": "code",
   "execution_count": 34,
   "metadata": {},
   "outputs": [
    {
     "data": {
      "image/png": "[encoded data removed]",
      "text/plain": [
       "<Figure size 640x480 with 1 Axes>"
      ]
     },
     "metadata": {},
     "output_type": "display_data"
    }
   ],
   "source": [
    "sns.countplot(data=df_absent, x='Pet', stat='percent' )\n",
    "plt.title(\"Absenteeism proportion of cases by Pet ownership\")\n",
    "plt.xlabel('Number of pets')\n",
    "plt.show()"
   ]
  },
  {
   "cell_type": "code",
   "execution_count": 35,
   "metadata": {},
   "outputs": [
    {
     "data": {
      "image/png": "[encoded data removed]",
      "text/plain": [
       "<Figure size 640x480 with 1 Axes>"
      ]
     },
     "metadata": {},
     "output_type": "display_data"
    }
   ],
   "source": [
    "ax = sns.barplot(data=df_absent, x=\"Pet\", y=\"Absenteeism time in hours\", estimator=sum, errorbar = None)\n",
    "ax.bar_label(ax.containers[0], fontsize=10)\n",
    "plt.title(\"Absenteeism by Pet ownership\")\n",
    "plt.xlabel('Number of pets')\n",
    "plt.show()"
   ]
  },
  {
   "cell_type": "markdown",
   "metadata": {},
   "source": [
    "##### 37.8% of absenteeism cases were found in employees who owned pets. The total number of absenteeism hours for pet owners was 1983 hr. The largest number of hours belonged to the no-pet ownership group (3141 hr)"
   ]
  },
  {
   "cell_type": "code",
   "execution_count": 36,
   "metadata": {},
   "outputs": [
    {
     "data": {
      "image/png": "[encoded data removed]",
      "text/plain": [
       "<Figure size 640x480 with 1 Axes>"
      ]
     },
     "metadata": {},
     "output_type": "display_data"
    }
   ],
   "source": [
    "sns.histplot(data=df_absent, x=\"Body mass index\", stat=\"percent\")\n",
    "plt.show()"
   ]
  },
  {
   "cell_type": "code",
   "execution_count": 37,
   "metadata": {},
   "outputs": [
    {
     "data": {
      "text/plain": [
       "32.18390804597701"
      ]
     },
     "execution_count": 37,
     "metadata": {},
     "output_type": "execute_result"
    }
   ],
   "source": [
    "# Proportion of absentees with obesity condition\n",
    "(df_absent[\"Body mass index\"] >= 30).sum()/len(df_absent)*100"
   ]
  },
  {
   "cell_type": "code",
   "execution_count": 38,
   "metadata": {},
   "outputs": [
    {
     "data": {
      "text/plain": [
       "31.896551724137932"
      ]
     },
     "execution_count": 38,
     "metadata": {},
     "output_type": "execute_result"
    }
   ],
   "source": [
    "# Proportion of absentees with overweight condition\n",
    "((df_absent[\"Body mass index\"] >= 25) & (df_absent[\"Body mass index\"] < 30)).sum()/len(df_absent)*100"
   ]
  },
  {
   "cell_type": "markdown",
   "metadata": {},
   "source": [
    "##### 31.9% of absentees were overweight and 32.2% were obese"
   ]
  },
  {
   "cell_type": "code",
   "execution_count": 39,
   "metadata": {},
   "outputs": [
    {
     "name": "stderr",
     "output_type": "stream",
     "text": [
      "C:\\Users\\accg2\\AppData\\Local\\Temp\\ipykernel_28956\\2120101704.py:1: SettingWithCopyWarning: \n",
      "A value is trying to be set on a copy of a slice from a DataFrame.\n",
      "Try using .loc[row_indexer,col_indexer] = value instead\n",
      "\n",
      "See the caveats in the documentation: https://pandas.pydata.org/pandas-docs/stable/user_guide/indexing.html#returning-a-view-versus-a-copy\n",
      "  df_absent['obese'] = df_absent[\"Body mass index\"] >= 30\n"
     ]
    }
   ],
   "source": [
    "df_absent['obese'] = df_absent[\"Body mass index\"] >= 30"
   ]
  },
  {
   "cell_type": "code",
   "execution_count": 40,
   "metadata": {},
   "outputs": [
    {
     "name": "stderr",
     "output_type": "stream",
     "text": [
      "C:\\Users\\accg2\\AppData\\Local\\Temp\\ipykernel_28956\\2105905189.py:1: SettingWithCopyWarning: \n",
      "A value is trying to be set on a copy of a slice from a DataFrame.\n",
      "Try using .loc[row_indexer,col_indexer] = value instead\n",
      "\n",
      "See the caveats in the documentation: https://pandas.pydata.org/pandas-docs/stable/user_guide/indexing.html#returning-a-view-versus-a-copy\n",
      "  df_absent['overweight'] = (df_absent[\"Body mass index\"] >= 25) & (df_absent[\"Body mass index\"] < 30)\n"
     ]
    }
   ],
   "source": [
    "df_absent['overweight'] = (df_absent[\"Body mass index\"] >= 25) & (df_absent[\"Body mass index\"] < 30)"
   ]
  },
  {
   "cell_type": "code",
   "execution_count": 41,
   "metadata": {},
   "outputs": [
    {
     "data": {
      "text/html": [
       "<div>\n",
       "<style scoped>\n",
       "    .dataframe tbody tr th:only-of-type {\n",
       "        vertical-align: middle;\n",
       "    }\n",
       "\n",
       "    .dataframe tbody tr th {\n",
       "        vertical-align: top;\n",
       "    }\n",
       "\n",
       "    .dataframe thead th {\n",
       "        text-align: right;\n",
       "    }\n",
       "</style>\n",
       "<table border=\"1\" class=\"dataframe\">\n",
       "  <thead>\n",
       "    <tr style=\"text-align: right;\">\n",
       "      <th></th>\n",
       "      <th>ID</th>\n",
       "      <th>Reason for absence</th>\n",
       "      <th>Month of absence</th>\n",
       "      <th>Day of the week</th>\n",
       "      <th>Seasons</th>\n",
       "      <th>Transportation expense</th>\n",
       "      <th>Distance from Residence to Work</th>\n",
       "      <th>Service time</th>\n",
       "      <th>Age</th>\n",
       "      <th>Work load Average/day</th>\n",
       "      <th>...</th>\n",
       "      <th>Son</th>\n",
       "      <th>Social drinker</th>\n",
       "      <th>Social smoker</th>\n",
       "      <th>Pet</th>\n",
       "      <th>Weight</th>\n",
       "      <th>Height</th>\n",
       "      <th>Body mass index</th>\n",
       "      <th>Absenteeism time in hours</th>\n",
       "      <th>obese</th>\n",
       "      <th>overweight</th>\n",
       "    </tr>\n",
       "  </thead>\n",
       "  <tbody>\n",
       "    <tr>\n",
       "      <th>0</th>\n",
       "      <td>11</td>\n",
       "      <td>26</td>\n",
       "      <td>7</td>\n",
       "      <td>3</td>\n",
       "      <td>1</td>\n",
       "      <td>289</td>\n",
       "      <td>36</td>\n",
       "      <td>13</td>\n",
       "      <td>33</td>\n",
       "      <td>239.554</td>\n",
       "      <td>...</td>\n",
       "      <td>2</td>\n",
       "      <td>1</td>\n",
       "      <td>0</td>\n",
       "      <td>1</td>\n",
       "      <td>90</td>\n",
       "      <td>172</td>\n",
       "      <td>30</td>\n",
       "      <td>4</td>\n",
       "      <td>True</td>\n",
       "      <td>False</td>\n",
       "    </tr>\n",
       "    <tr>\n",
       "      <th>2</th>\n",
       "      <td>3</td>\n",
       "      <td>23</td>\n",
       "      <td>7</td>\n",
       "      <td>4</td>\n",
       "      <td>1</td>\n",
       "      <td>179</td>\n",
       "      <td>51</td>\n",
       "      <td>18</td>\n",
       "      <td>38</td>\n",
       "      <td>239.554</td>\n",
       "      <td>...</td>\n",
       "      <td>0</td>\n",
       "      <td>1</td>\n",
       "      <td>0</td>\n",
       "      <td>0</td>\n",
       "      <td>89</td>\n",
       "      <td>170</td>\n",
       "      <td>31</td>\n",
       "      <td>2</td>\n",
       "      <td>True</td>\n",
       "      <td>False</td>\n",
       "    </tr>\n",
       "    <tr>\n",
       "      <th>3</th>\n",
       "      <td>7</td>\n",
       "      <td>7</td>\n",
       "      <td>7</td>\n",
       "      <td>5</td>\n",
       "      <td>1</td>\n",
       "      <td>279</td>\n",
       "      <td>5</td>\n",
       "      <td>14</td>\n",
       "      <td>39</td>\n",
       "      <td>239.554</td>\n",
       "      <td>...</td>\n",
       "      <td>2</td>\n",
       "      <td>1</td>\n",
       "      <td>1</td>\n",
       "      <td>0</td>\n",
       "      <td>68</td>\n",
       "      <td>168</td>\n",
       "      <td>24</td>\n",
       "      <td>4</td>\n",
       "      <td>False</td>\n",
       "      <td>False</td>\n",
       "    </tr>\n",
       "    <tr>\n",
       "      <th>4</th>\n",
       "      <td>11</td>\n",
       "      <td>23</td>\n",
       "      <td>7</td>\n",
       "      <td>5</td>\n",
       "      <td>1</td>\n",
       "      <td>289</td>\n",
       "      <td>36</td>\n",
       "      <td>13</td>\n",
       "      <td>33</td>\n",
       "      <td>239.554</td>\n",
       "      <td>...</td>\n",
       "      <td>2</td>\n",
       "      <td>1</td>\n",
       "      <td>0</td>\n",
       "      <td>1</td>\n",
       "      <td>90</td>\n",
       "      <td>172</td>\n",
       "      <td>30</td>\n",
       "      <td>2</td>\n",
       "      <td>True</td>\n",
       "      <td>False</td>\n",
       "    </tr>\n",
       "    <tr>\n",
       "      <th>5</th>\n",
       "      <td>3</td>\n",
       "      <td>23</td>\n",
       "      <td>7</td>\n",
       "      <td>6</td>\n",
       "      <td>1</td>\n",
       "      <td>179</td>\n",
       "      <td>51</td>\n",
       "      <td>18</td>\n",
       "      <td>38</td>\n",
       "      <td>239.554</td>\n",
       "      <td>...</td>\n",
       "      <td>0</td>\n",
       "      <td>1</td>\n",
       "      <td>0</td>\n",
       "      <td>0</td>\n",
       "      <td>89</td>\n",
       "      <td>170</td>\n",
       "      <td>31</td>\n",
       "      <td>2</td>\n",
       "      <td>True</td>\n",
       "      <td>False</td>\n",
       "    </tr>\n",
       "    <tr>\n",
       "      <th>...</th>\n",
       "      <td>...</td>\n",
       "      <td>...</td>\n",
       "      <td>...</td>\n",
       "      <td>...</td>\n",
       "      <td>...</td>\n",
       "      <td>...</td>\n",
       "      <td>...</td>\n",
       "      <td>...</td>\n",
       "      <td>...</td>\n",
       "      <td>...</td>\n",
       "      <td>...</td>\n",
       "      <td>...</td>\n",
       "      <td>...</td>\n",
       "      <td>...</td>\n",
       "      <td>...</td>\n",
       "      <td>...</td>\n",
       "      <td>...</td>\n",
       "      <td>...</td>\n",
       "      <td>...</td>\n",
       "      <td>...</td>\n",
       "      <td>...</td>\n",
       "    </tr>\n",
       "    <tr>\n",
       "      <th>732</th>\n",
       "      <td>10</td>\n",
       "      <td>22</td>\n",
       "      <td>7</td>\n",
       "      <td>4</td>\n",
       "      <td>1</td>\n",
       "      <td>361</td>\n",
       "      <td>52</td>\n",
       "      <td>3</td>\n",
       "      <td>28</td>\n",
       "      <td>264.604</td>\n",
       "      <td>...</td>\n",
       "      <td>1</td>\n",
       "      <td>1</td>\n",
       "      <td>0</td>\n",
       "      <td>4</td>\n",
       "      <td>80</td>\n",
       "      <td>172</td>\n",
       "      <td>27</td>\n",
       "      <td>8</td>\n",
       "      <td>False</td>\n",
       "      <td>True</td>\n",
       "    </tr>\n",
       "    <tr>\n",
       "      <th>733</th>\n",
       "      <td>28</td>\n",
       "      <td>22</td>\n",
       "      <td>7</td>\n",
       "      <td>4</td>\n",
       "      <td>1</td>\n",
       "      <td>225</td>\n",
       "      <td>26</td>\n",
       "      <td>9</td>\n",
       "      <td>28</td>\n",
       "      <td>264.604</td>\n",
       "      <td>...</td>\n",
       "      <td>1</td>\n",
       "      <td>0</td>\n",
       "      <td>0</td>\n",
       "      <td>2</td>\n",
       "      <td>69</td>\n",
       "      <td>169</td>\n",
       "      <td>24</td>\n",
       "      <td>8</td>\n",
       "      <td>False</td>\n",
       "      <td>False</td>\n",
       "    </tr>\n",
       "    <tr>\n",
       "      <th>734</th>\n",
       "      <td>13</td>\n",
       "      <td>13</td>\n",
       "      <td>7</td>\n",
       "      <td>2</td>\n",
       "      <td>1</td>\n",
       "      <td>369</td>\n",
       "      <td>17</td>\n",
       "      <td>12</td>\n",
       "      <td>31</td>\n",
       "      <td>264.604</td>\n",
       "      <td>...</td>\n",
       "      <td>3</td>\n",
       "      <td>1</td>\n",
       "      <td>0</td>\n",
       "      <td>0</td>\n",
       "      <td>70</td>\n",
       "      <td>169</td>\n",
       "      <td>25</td>\n",
       "      <td>80</td>\n",
       "      <td>False</td>\n",
       "      <td>True</td>\n",
       "    </tr>\n",
       "    <tr>\n",
       "      <th>735</th>\n",
       "      <td>11</td>\n",
       "      <td>14</td>\n",
       "      <td>7</td>\n",
       "      <td>3</td>\n",
       "      <td>1</td>\n",
       "      <td>289</td>\n",
       "      <td>36</td>\n",
       "      <td>13</td>\n",
       "      <td>33</td>\n",
       "      <td>264.604</td>\n",
       "      <td>...</td>\n",
       "      <td>2</td>\n",
       "      <td>1</td>\n",
       "      <td>0</td>\n",
       "      <td>1</td>\n",
       "      <td>90</td>\n",
       "      <td>172</td>\n",
       "      <td>30</td>\n",
       "      <td>8</td>\n",
       "      <td>True</td>\n",
       "      <td>False</td>\n",
       "    </tr>\n",
       "    <tr>\n",
       "      <th>736</th>\n",
       "      <td>1</td>\n",
       "      <td>11</td>\n",
       "      <td>7</td>\n",
       "      <td>3</td>\n",
       "      <td>1</td>\n",
       "      <td>235</td>\n",
       "      <td>11</td>\n",
       "      <td>14</td>\n",
       "      <td>37</td>\n",
       "      <td>264.604</td>\n",
       "      <td>...</td>\n",
       "      <td>1</td>\n",
       "      <td>0</td>\n",
       "      <td>0</td>\n",
       "      <td>1</td>\n",
       "      <td>88</td>\n",
       "      <td>172</td>\n",
       "      <td>29</td>\n",
       "      <td>4</td>\n",
       "      <td>False</td>\n",
       "      <td>True</td>\n",
       "    </tr>\n",
       "  </tbody>\n",
       "</table>\n",
       "<p>696 rows × 23 columns</p>\n",
       "</div>"
      ],
      "text/plain": [
       "     ID  Reason for absence  Month of absence  Day of the week  Seasons  \\\n",
       "0    11                  26                 7                3        1   \n",
       "2     3                  23                 7                4        1   \n",
       "3     7                   7                 7                5        1   \n",
       "4    11                  23                 7                5        1   \n",
       "5     3                  23                 7                6        1   \n",
       "..   ..                 ...               ...              ...      ...   \n",
       "732  10                  22                 7                4        1   \n",
       "733  28                  22                 7                4        1   \n",
       "734  13                  13                 7                2        1   \n",
       "735  11                  14                 7                3        1   \n",
       "736   1                  11                 7                3        1   \n",
       "\n",
       "     Transportation expense  Distance from Residence to Work  Service time  \\\n",
       "0                       289                               36            13   \n",
       "2                       179                               51            18   \n",
       "3                       279                                5            14   \n",
       "4                       289                               36            13   \n",
       "5                       179                               51            18   \n",
       "..                      ...                              ...           ...   \n",
       "732                     361                               52             3   \n",
       "733                     225                               26             9   \n",
       "734                     369                               17            12   \n",
       "735                     289                               36            13   \n",
       "736                     235                               11            14   \n",
       "\n",
       "     Age  Work load Average/day   ...  Son  Social drinker  Social smoker  \\\n",
       "0     33                 239.554  ...    2               1              0   \n",
       "2     38                 239.554  ...    0               1              0   \n",
       "3     39                 239.554  ...    2               1              1   \n",
       "4     33                 239.554  ...    2               1              0   \n",
       "5     38                 239.554  ...    0               1              0   \n",
       "..   ...                     ...  ...  ...             ...            ...   \n",
       "732   28                 264.604  ...    1               1              0   \n",
       "733   28                 264.604  ...    1               0              0   \n",
       "734   31                 264.604  ...    3               1              0   \n",
       "735   33                 264.604  ...    2               1              0   \n",
       "736   37                 264.604  ...    1               0              0   \n",
       "\n",
       "     Pet  Weight  Height  Body mass index  Absenteeism time in hours  obese  \\\n",
       "0      1      90     172               30                          4   True   \n",
       "2      0      89     170               31                          2   True   \n",
       "3      0      68     168               24                          4  False   \n",
       "4      1      90     172               30                          2   True   \n",
       "5      0      89     170               31                          2   True   \n",
       "..   ...     ...     ...              ...                        ...    ...   \n",
       "732    4      80     172               27                          8  False   \n",
       "733    2      69     169               24                          8  False   \n",
       "734    0      70     169               25                         80  False   \n",
       "735    1      90     172               30                          8   True   \n",
       "736    1      88     172               29                          4  False   \n",
       "\n",
       "     overweight  \n",
       "0         False  \n",
       "2         False  \n",
       "3         False  \n",
       "4         False  \n",
       "5         False  \n",
       "..          ...  \n",
       "732        True  \n",
       "733       False  \n",
       "734        True  \n",
       "735       False  \n",
       "736        True  \n",
       "\n",
       "[696 rows x 23 columns]"
      ]
     },
     "execution_count": 41,
     "metadata": {},
     "output_type": "execute_result"
    }
   ],
   "source": [
    "df_absent"
   ]
  },
  {
   "cell_type": "code",
   "execution_count": 42,
   "metadata": {},
   "outputs": [
    {
     "data": {
      "image/png": "[encoded data removed]",
      "text/plain": [
       "<Figure size 640x480 with 1 Axes>"
      ]
     },
     "metadata": {},
     "output_type": "display_data"
    }
   ],
   "source": [
    "sns.countplot(data=df_absent, x='obese', stat='percent' )\n",
    "plt.title(\"Absenteeism proportion of cases by Obesity status\")\n",
    "plt.xticks([0, 1], ['No', 'Yes'])\n",
    "plt.xlabel('Obesity status')\n",
    "plt.show()"
   ]
  },
  {
   "cell_type": "code",
   "execution_count": 43,
   "metadata": {},
   "outputs": [
    {
     "data": {
      "image/png": "[encoded data removed]",
      "text/plain": [
       "<Figure size 640x480 with 1 Axes>"
      ]
     },
     "metadata": {},
     "output_type": "display_data"
    }
   ],
   "source": [
    "ax = sns.barplot(data=df_absent, x=\"obese\", y=\"Absenteeism time in hours\", estimator=sum, errorbar = None)\n",
    "ax.bar_label(ax.containers[0], fontsize=10)\n",
    "plt.xticks([0, 1], ['No', 'Yes'])\n",
    "plt.title(\"Absenteeism by Obesity status\")\n",
    "plt.xlabel('Obesity status')\n",
    "plt.show()"
   ]
  },
  {
   "cell_type": "markdown",
   "metadata": {},
   "source": [
    "##### 32.2% of absenteeism cases were found in employees with obesity. The total number of absenteeism hours for these employees was 1461 hr."
   ]
  },
  {
   "cell_type": "code",
   "execution_count": 44,
   "metadata": {},
   "outputs": [
    {
     "data": {
      "image/png": "[encoded data removed]",
      "text/plain": [
       "<Figure size 640x480 with 1 Axes>"
      ]
     },
     "metadata": {},
     "output_type": "display_data"
    }
   ],
   "source": [
    "sns.countplot(data=df_absent, x='overweight', stat='percent' )\n",
    "plt.title(\"Absenteeism proportion of cases by Overweight status\")\n",
    "plt.xticks([0, 1], ['No', 'Yes'])\n",
    "plt.xlabel('Overweight status')\n",
    "plt.show()"
   ]
  },
  {
   "cell_type": "code",
   "execution_count": 45,
   "metadata": {},
   "outputs": [
    {
     "data": {
      "image/png": "[encoded data removed]",
      "text/plain": [
       "<Figure size 640x480 with 1 Axes>"
      ]
     },
     "metadata": {},
     "output_type": "display_data"
    }
   ],
   "source": [
    "ax = sns.barplot(data=df_absent, x=\"overweight\", y=\"Absenteeism time in hours\", estimator=sum, errorbar = None)\n",
    "ax.bar_label(ax.containers[0], fontsize=10)\n",
    "plt.xticks([0, 1], ['No', 'Yes'])\n",
    "plt.title(\"Absenteeism by overweight status\")\n",
    "plt.xlabel('Overweight status')\n",
    "plt.show()"
   ]
  },
  {
   "cell_type": "markdown",
   "metadata": {},
   "source": [
    "##### 31.9% of absenteeism cases were found in employees who were overweight. The total number of absenteeism hours for these employees was 1931 hr."
   ]
  },
  {
   "cell_type": "code",
   "execution_count": null,
   "metadata": {},
   "outputs": [],
   "source": []
  },
  {
   "cell_type": "code",
   "execution_count": null,
   "metadata": {},
   "outputs": [],
   "source": []
  },
  {
   "cell_type": "code",
   "execution_count": null,
   "metadata": {},
   "outputs": [],
   "source": []
  },
  {
   "cell_type": "code",
   "execution_count": null,
   "metadata": {},
   "outputs": [],
   "source": []
  },
  {
   "cell_type": "markdown",
   "metadata": {},
   "source": [
    "### Modeling\n",
    "\n",
    "Develop model to predict absenteeism"
   ]
  },
  {
   "cell_type": "code",
   "execution_count": 47,
   "metadata": {},
   "outputs": [],
   "source": [
    "# Import libraries to perform feature and model analysis\n",
    "import numpy as np\n",
    "import matplotlib.pyplot as plt\n",
    "import seaborn as sns\n",
    "import time\n",
    "\n",
    "from sklearn.dummy import DummyClassifier\n",
    "from sklearn.model_selection import train_test_split,cross_validate, GridSearchCV, StratifiedKFold\n",
    "from sklearn.preprocessing import StandardScaler, MinMaxScaler, RobustScaler, LabelEncoder, OneHotEncoder\n",
    "\n",
    "from sklearn.linear_model import LogisticRegression\n",
    "from sklearn.neighbors import KNeighborsClassifier\n",
    "from sklearn.svm import SVC\n",
    "from sklearn.tree import DecisionTreeClassifier\n",
    "from sklearn.pipeline import Pipeline\n",
    "\n",
    "from sklearn.metrics import accuracy_score, recall_score, precision_score, f1_score, log_loss\n",
    "from sklearn.metrics import confusion_matrix, classification_report, ConfusionMatrixDisplay\n",
    "from sklearn.metrics import RocCurveDisplay, PrecisionRecallDisplay, roc_auc_score, auc, roc_curve, average_precision_score, precision_recall_curve\n"
   ]
  },
  {
   "cell_type": "code",
   "execution_count": null,
   "metadata": {},
   "outputs": [],
   "source": []
  },
  {
   "cell_type": "code",
   "execution_count": 48,
   "metadata": {},
   "outputs": [
    {
     "data": {
      "text/plain": [
       "Index(['ID', 'Reason for absence', 'Month of absence', 'Day of the week',\n",
       "       'Seasons', 'Transportation expense', 'Distance from Residence to Work',\n",
       "       'Service time', 'Age', 'Work load Average/day ', 'Hit target',\n",
       "       'Disciplinary failure', 'Education', 'Son', 'Social drinker',\n",
       "       'Social smoker', 'Pet', 'Weight', 'Height', 'Body mass index',\n",
       "       'Absenteeism time in hours'],\n",
       "      dtype='object')"
      ]
     },
     "execution_count": 48,
     "metadata": {},
     "output_type": "execute_result"
    }
   ],
   "source": [
    "df.columns"
   ]
  },
  {
   "cell_type": "code",
   "execution_count": 49,
   "metadata": {},
   "outputs": [],
   "source": [
    "# Columns to drop for selecting useful features\n",
    "columns_to_drop = ['ID','Reason for absence','Month of absence', 'Day of the week',\n",
    "'Seasons','Hit target', 'Disciplinary failure', 'Weight', 'Height', 'Absenteeism time in hours']\n"
   ]
  },
  {
   "cell_type": "code",
   "execution_count": 50,
   "metadata": {},
   "outputs": [],
   "source": [
    "# Select model features for modeling before performing scaling/encoding of variables\n",
    "X = df.drop(columns_to_drop, axis=1)"
   ]
  },
  {
   "cell_type": "code",
   "execution_count": null,
   "metadata": {},
   "outputs": [],
   "source": []
  },
  {
   "cell_type": "code",
   "execution_count": 51,
   "metadata": {},
   "outputs": [],
   "source": [
    "# Feature understanding - Identified numerical features for modeling\n",
    "numeric_cols = ['Transportation expense', 'Distance from Residence to Work',\n",
    "                'Service time','Age','Work load Average/day ', 'Body mass index']\n",
    "\n",
    "# Feature understanding - Identified categorical features for modeling\n",
    "categorical_cols = ['Education', 'Son', 'Pet', 'Social drinker', 'Social smoker']"
   ]
  },
  {
   "cell_type": "code",
   "execution_count": 52,
   "metadata": {},
   "outputs": [
    {
     "name": "stdout",
     "output_type": "stream",
     "text": [
      "<class 'pandas.core.frame.DataFrame'>\n",
      "RangeIndex: 740 entries, 0 to 739\n",
      "Data columns (total 11 columns):\n",
      " #   Column                           Non-Null Count  Dtype  \n",
      "---  ------                           --------------  -----  \n",
      " 0   Transportation expense           740 non-null    int64  \n",
      " 1   Distance from Residence to Work  740 non-null    int64  \n",
      " 2   Service time                     740 non-null    int64  \n",
      " 3   Age                              740 non-null    int64  \n",
      " 4   Work load Average/day            740 non-null    float64\n",
      " 5   Education                        740 non-null    int64  \n",
      " 6   Son                              740 non-null    int64  \n",
      " 7   Social drinker                   740 non-null    int64  \n",
      " 8   Social smoker                    740 non-null    int64  \n",
      " 9   Pet                              740 non-null    int64  \n",
      " 10  Body mass index                  740 non-null    int64  \n",
      "dtypes: float64(1), int64(10)\n",
      "memory usage: 63.7 KB\n"
     ]
    }
   ],
   "source": [
    "# Check feature data frame\n",
    "X.info()"
   ]
  },
  {
   "cell_type": "code",
   "execution_count": 53,
   "metadata": {},
   "outputs": [
    {
     "data": {
      "text/html": [
       "<div>\n",
       "<style scoped>\n",
       "    .dataframe tbody tr th:only-of-type {\n",
       "        vertical-align: middle;\n",
       "    }\n",
       "\n",
       "    .dataframe tbody tr th {\n",
       "        vertical-align: top;\n",
       "    }\n",
       "\n",
       "    .dataframe thead th {\n",
       "        text-align: right;\n",
       "    }\n",
       "</style>\n",
       "<table border=\"1\" class=\"dataframe\">\n",
       "  <thead>\n",
       "    <tr style=\"text-align: right;\">\n",
       "      <th></th>\n",
       "      <th>count</th>\n",
       "      <th>mean</th>\n",
       "      <th>std</th>\n",
       "      <th>min</th>\n",
       "      <th>25%</th>\n",
       "      <th>50%</th>\n",
       "      <th>75%</th>\n",
       "      <th>max</th>\n",
       "    </tr>\n",
       "  </thead>\n",
       "  <tbody>\n",
       "    <tr>\n",
       "      <th>Transportation expense</th>\n",
       "      <td>740.0</td>\n",
       "      <td>221.329730</td>\n",
       "      <td>66.952223</td>\n",
       "      <td>118.000</td>\n",
       "      <td>179.000</td>\n",
       "      <td>225.000</td>\n",
       "      <td>260.000</td>\n",
       "      <td>388.000</td>\n",
       "    </tr>\n",
       "    <tr>\n",
       "      <th>Distance from Residence to Work</th>\n",
       "      <td>740.0</td>\n",
       "      <td>29.631081</td>\n",
       "      <td>14.836788</td>\n",
       "      <td>5.000</td>\n",
       "      <td>16.000</td>\n",
       "      <td>26.000</td>\n",
       "      <td>50.000</td>\n",
       "      <td>52.000</td>\n",
       "    </tr>\n",
       "    <tr>\n",
       "      <th>Service time</th>\n",
       "      <td>740.0</td>\n",
       "      <td>12.554054</td>\n",
       "      <td>4.384873</td>\n",
       "      <td>1.000</td>\n",
       "      <td>9.000</td>\n",
       "      <td>13.000</td>\n",
       "      <td>16.000</td>\n",
       "      <td>29.000</td>\n",
       "    </tr>\n",
       "    <tr>\n",
       "      <th>Age</th>\n",
       "      <td>740.0</td>\n",
       "      <td>36.450000</td>\n",
       "      <td>6.478772</td>\n",
       "      <td>27.000</td>\n",
       "      <td>31.000</td>\n",
       "      <td>37.000</td>\n",
       "      <td>40.000</td>\n",
       "      <td>58.000</td>\n",
       "    </tr>\n",
       "    <tr>\n",
       "      <th>Work load Average/day</th>\n",
       "      <td>740.0</td>\n",
       "      <td>271.490235</td>\n",
       "      <td>39.058116</td>\n",
       "      <td>205.917</td>\n",
       "      <td>244.387</td>\n",
       "      <td>264.249</td>\n",
       "      <td>294.217</td>\n",
       "      <td>378.884</td>\n",
       "    </tr>\n",
       "    <tr>\n",
       "      <th>Body mass index</th>\n",
       "      <td>740.0</td>\n",
       "      <td>26.677027</td>\n",
       "      <td>4.285452</td>\n",
       "      <td>19.000</td>\n",
       "      <td>24.000</td>\n",
       "      <td>25.000</td>\n",
       "      <td>31.000</td>\n",
       "      <td>38.000</td>\n",
       "    </tr>\n",
       "  </tbody>\n",
       "</table>\n",
       "</div>"
      ],
      "text/plain": [
       "                                 count        mean        std      min  \\\n",
       "Transportation expense           740.0  221.329730  66.952223  118.000   \n",
       "Distance from Residence to Work  740.0   29.631081  14.836788    5.000   \n",
       "Service time                     740.0   12.554054   4.384873    1.000   \n",
       "Age                              740.0   36.450000   6.478772   27.000   \n",
       "Work load Average/day            740.0  271.490235  39.058116  205.917   \n",
       "Body mass index                  740.0   26.677027   4.285452   19.000   \n",
       "\n",
       "                                     25%      50%      75%      max  \n",
       "Transportation expense           179.000  225.000  260.000  388.000  \n",
       "Distance from Residence to Work   16.000   26.000   50.000   52.000  \n",
       "Service time                       9.000   13.000   16.000   29.000  \n",
       "Age                               31.000   37.000   40.000   58.000  \n",
       "Work load Average/day            244.387  264.249  294.217  378.884  \n",
       "Body mass index                   24.000   25.000   31.000   38.000  "
      ]
     },
     "execution_count": 53,
     "metadata": {},
     "output_type": "execute_result"
    }
   ],
   "source": [
    "# Summary statistics for numerical features before scaling transformation\n",
    "X[numeric_cols].describe().T"
   ]
  },
  {
   "cell_type": "code",
   "execution_count": 54,
   "metadata": {},
   "outputs": [
    {
     "data": {
      "text/html": [
       "<div>\n",
       "<style scoped>\n",
       "    .dataframe tbody tr th:only-of-type {\n",
       "        vertical-align: middle;\n",
       "    }\n",
       "\n",
       "    .dataframe tbody tr th {\n",
       "        vertical-align: top;\n",
       "    }\n",
       "\n",
       "    .dataframe thead th {\n",
       "        text-align: right;\n",
       "    }\n",
       "</style>\n",
       "<table border=\"1\" class=\"dataframe\">\n",
       "  <thead>\n",
       "    <tr style=\"text-align: right;\">\n",
       "      <th></th>\n",
       "      <th>count</th>\n",
       "      <th>mean</th>\n",
       "      <th>std</th>\n",
       "      <th>min</th>\n",
       "      <th>25%</th>\n",
       "      <th>50%</th>\n",
       "      <th>75%</th>\n",
       "      <th>max</th>\n",
       "    </tr>\n",
       "  </thead>\n",
       "  <tbody>\n",
       "    <tr>\n",
       "      <th>Transportation expense</th>\n",
       "      <td>740.0</td>\n",
       "      <td>-9.121832e-17</td>\n",
       "      <td>1.000676</td>\n",
       "      <td>-1.544379</td>\n",
       "      <td>-0.632665</td>\n",
       "      <td>0.054856</td>\n",
       "      <td>0.577971</td>\n",
       "      <td>2.491075</td>\n",
       "    </tr>\n",
       "    <tr>\n",
       "      <th>Distance from Residence to Work</th>\n",
       "      <td>740.0</td>\n",
       "      <td>-3.000603e-17</td>\n",
       "      <td>1.000676</td>\n",
       "      <td>-1.661258</td>\n",
       "      <td>-0.919357</td>\n",
       "      <td>-0.244901</td>\n",
       "      <td>1.373794</td>\n",
       "      <td>1.508686</td>\n",
       "    </tr>\n",
       "    <tr>\n",
       "      <th>Service time</th>\n",
       "      <td>740.0</td>\n",
       "      <td>-8.161640e-17</td>\n",
       "      <td>1.000676</td>\n",
       "      <td>-2.636762</td>\n",
       "      <td>-0.811074</td>\n",
       "      <td>0.101770</td>\n",
       "      <td>0.786403</td>\n",
       "      <td>3.753146</td>\n",
       "    </tr>\n",
       "    <tr>\n",
       "      <th>Age</th>\n",
       "      <td>740.0</td>\n",
       "      <td>-4.272858e-16</td>\n",
       "      <td>1.000676</td>\n",
       "      <td>-1.459596</td>\n",
       "      <td>-0.841778</td>\n",
       "      <td>0.084950</td>\n",
       "      <td>0.548314</td>\n",
       "      <td>3.328497</td>\n",
       "    </tr>\n",
       "    <tr>\n",
       "      <th>Work load Average/day</th>\n",
       "      <td>740.0</td>\n",
       "      <td>-3.840772e-16</td>\n",
       "      <td>1.000676</td>\n",
       "      <td>-1.679999</td>\n",
       "      <td>-0.694390</td>\n",
       "      <td>-0.185522</td>\n",
       "      <td>0.582264</td>\n",
       "      <td>2.751449</td>\n",
       "    </tr>\n",
       "    <tr>\n",
       "      <th>Body mass index</th>\n",
       "      <td>740.0</td>\n",
       "      <td>1.128227e-16</td>\n",
       "      <td>1.000676</td>\n",
       "      <td>-1.792627</td>\n",
       "      <td>-0.625100</td>\n",
       "      <td>-0.391595</td>\n",
       "      <td>1.009438</td>\n",
       "      <td>2.643976</td>\n",
       "    </tr>\n",
       "  </tbody>\n",
       "</table>\n",
       "</div>"
      ],
      "text/plain": [
       "                                 count          mean       std       min  \\\n",
       "Transportation expense           740.0 -9.121832e-17  1.000676 -1.544379   \n",
       "Distance from Residence to Work  740.0 -3.000603e-17  1.000676 -1.661258   \n",
       "Service time                     740.0 -8.161640e-17  1.000676 -2.636762   \n",
       "Age                              740.0 -4.272858e-16  1.000676 -1.459596   \n",
       "Work load Average/day            740.0 -3.840772e-16  1.000676 -1.679999   \n",
       "Body mass index                  740.0  1.128227e-16  1.000676 -1.792627   \n",
       "\n",
       "                                      25%       50%       75%       max  \n",
       "Transportation expense          -0.632665  0.054856  0.577971  2.491075  \n",
       "Distance from Residence to Work -0.919357 -0.244901  1.373794  1.508686  \n",
       "Service time                    -0.811074  0.101770  0.786403  3.753146  \n",
       "Age                             -0.841778  0.084950  0.548314  3.328497  \n",
       "Work load Average/day           -0.694390 -0.185522  0.582264  2.751449  \n",
       "Body mass index                 -0.625100 -0.391595  1.009438  2.643976  "
      ]
     },
     "execution_count": 54,
     "metadata": {},
     "output_type": "execute_result"
    }
   ],
   "source": [
    "#Standardize numerical features\n",
    "standard_scaler = StandardScaler()\n",
    "X[numeric_cols] = standard_scaler.fit_transform(X[numeric_cols])\n",
    "X[numeric_cols].describe().T\n"
   ]
  },
  {
   "cell_type": "markdown",
   "metadata": {},
   "source": [
    "As expected numeric feature standardization removes the mean (mean ~= 0) and scales to unit variance\n"
   ]
  },
  {
   "cell_type": "code",
   "execution_count": 55,
   "metadata": {},
   "outputs": [
    {
     "data": {
      "text/html": [
       "<div>\n",
       "<style scoped>\n",
       "    .dataframe tbody tr th:only-of-type {\n",
       "        vertical-align: middle;\n",
       "    }\n",
       "\n",
       "    .dataframe tbody tr th {\n",
       "        vertical-align: top;\n",
       "    }\n",
       "\n",
       "    .dataframe thead th {\n",
       "        text-align: right;\n",
       "    }\n",
       "</style>\n",
       "<table border=\"1\" class=\"dataframe\">\n",
       "  <thead>\n",
       "    <tr style=\"text-align: right;\">\n",
       "      <th></th>\n",
       "      <th>Transportation expense</th>\n",
       "      <th>Distance from Residence to Work</th>\n",
       "      <th>Service time</th>\n",
       "      <th>Age</th>\n",
       "      <th>Work load Average/day</th>\n",
       "      <th>Education</th>\n",
       "      <th>Son</th>\n",
       "      <th>Social drinker</th>\n",
       "      <th>Social smoker</th>\n",
       "      <th>Pet</th>\n",
       "      <th>Body mass index</th>\n",
       "    </tr>\n",
       "  </thead>\n",
       "  <tbody>\n",
       "    <tr>\n",
       "      <th>0</th>\n",
       "      <td>1.011408</td>\n",
       "      <td>0.429556</td>\n",
       "      <td>0.101770</td>\n",
       "      <td>-0.532868</td>\n",
       "      <td>-0.818212</td>\n",
       "      <td>1</td>\n",
       "      <td>2</td>\n",
       "      <td>1</td>\n",
       "      <td>0</td>\n",
       "      <td>1</td>\n",
       "      <td>0.775932</td>\n",
       "    </tr>\n",
       "    <tr>\n",
       "      <th>1</th>\n",
       "      <td>-1.544379</td>\n",
       "      <td>-1.121694</td>\n",
       "      <td>1.242825</td>\n",
       "      <td>2.092860</td>\n",
       "      <td>-0.818212</td>\n",
       "      <td>1</td>\n",
       "      <td>1</td>\n",
       "      <td>1</td>\n",
       "      <td>0</td>\n",
       "      <td>0</td>\n",
       "      <td>1.009438</td>\n",
       "    </tr>\n",
       "    <tr>\n",
       "      <th>2</th>\n",
       "      <td>-0.632665</td>\n",
       "      <td>1.441240</td>\n",
       "      <td>1.242825</td>\n",
       "      <td>0.239405</td>\n",
       "      <td>-0.818212</td>\n",
       "      <td>1</td>\n",
       "      <td>0</td>\n",
       "      <td>1</td>\n",
       "      <td>0</td>\n",
       "      <td>0</td>\n",
       "      <td>1.009438</td>\n",
       "    </tr>\n",
       "    <tr>\n",
       "      <th>3</th>\n",
       "      <td>0.861947</td>\n",
       "      <td>-1.661258</td>\n",
       "      <td>0.329981</td>\n",
       "      <td>0.393859</td>\n",
       "      <td>-0.818212</td>\n",
       "      <td>1</td>\n",
       "      <td>2</td>\n",
       "      <td>1</td>\n",
       "      <td>1</td>\n",
       "      <td>0</td>\n",
       "      <td>-0.625100</td>\n",
       "    </tr>\n",
       "    <tr>\n",
       "      <th>4</th>\n",
       "      <td>1.011408</td>\n",
       "      <td>0.429556</td>\n",
       "      <td>0.101770</td>\n",
       "      <td>-0.532868</td>\n",
       "      <td>-0.818212</td>\n",
       "      <td>1</td>\n",
       "      <td>2</td>\n",
       "      <td>1</td>\n",
       "      <td>0</td>\n",
       "      <td>1</td>\n",
       "      <td>0.775932</td>\n",
       "    </tr>\n",
       "  </tbody>\n",
       "</table>\n",
       "</div>"
      ],
      "text/plain": [
       "   Transportation expense  Distance from Residence to Work  Service time  \\\n",
       "0                1.011408                         0.429556      0.101770   \n",
       "1               -1.544379                        -1.121694      1.242825   \n",
       "2               -0.632665                         1.441240      1.242825   \n",
       "3                0.861947                        -1.661258      0.329981   \n",
       "4                1.011408                         0.429556      0.101770   \n",
       "\n",
       "        Age  Work load Average/day   Education  Son  Social drinker  \\\n",
       "0 -0.532868               -0.818212          1    2               1   \n",
       "1  2.092860               -0.818212          1    1               1   \n",
       "2  0.239405               -0.818212          1    0               1   \n",
       "3  0.393859               -0.818212          1    2               1   \n",
       "4 -0.532868               -0.818212          1    2               1   \n",
       "\n",
       "   Social smoker  Pet  Body mass index  \n",
       "0              0    1         0.775932  \n",
       "1              0    0         1.009438  \n",
       "2              0    0         1.009438  \n",
       "3              1    0        -0.625100  \n",
       "4              0    1         0.775932  "
      ]
     },
     "execution_count": 55,
     "metadata": {},
     "output_type": "execute_result"
    }
   ],
   "source": [
    "X.head()"
   ]
  },
  {
   "cell_type": "code",
   "execution_count": 56,
   "metadata": {},
   "outputs": [],
   "source": [
    "#Encode categorical features\n",
    "X = pd.get_dummies(data = X, columns = categorical_cols)"
   ]
  },
  {
   "cell_type": "code",
   "execution_count": 57,
   "metadata": {},
   "outputs": [
    {
     "data": {
      "text/html": [
       "<div>\n",
       "<style scoped>\n",
       "    .dataframe tbody tr th:only-of-type {\n",
       "        vertical-align: middle;\n",
       "    }\n",
       "\n",
       "    .dataframe tbody tr th {\n",
       "        vertical-align: top;\n",
       "    }\n",
       "\n",
       "    .dataframe thead th {\n",
       "        text-align: right;\n",
       "    }\n",
       "</style>\n",
       "<table border=\"1\" class=\"dataframe\">\n",
       "  <thead>\n",
       "    <tr style=\"text-align: right;\">\n",
       "      <th></th>\n",
       "      <th>Transportation expense</th>\n",
       "      <th>Distance from Residence to Work</th>\n",
       "      <th>Service time</th>\n",
       "      <th>Age</th>\n",
       "      <th>Work load Average/day</th>\n",
       "      <th>Body mass index</th>\n",
       "      <th>Education_1</th>\n",
       "      <th>Education_2</th>\n",
       "      <th>Education_3</th>\n",
       "      <th>Education_4</th>\n",
       "      <th>...</th>\n",
       "      <th>Pet_0</th>\n",
       "      <th>Pet_1</th>\n",
       "      <th>Pet_2</th>\n",
       "      <th>Pet_4</th>\n",
       "      <th>Pet_5</th>\n",
       "      <th>Pet_8</th>\n",
       "      <th>Social drinker_0</th>\n",
       "      <th>Social drinker_1</th>\n",
       "      <th>Social smoker_0</th>\n",
       "      <th>Social smoker_1</th>\n",
       "    </tr>\n",
       "  </thead>\n",
       "  <tbody>\n",
       "    <tr>\n",
       "      <th>0</th>\n",
       "      <td>1.011408</td>\n",
       "      <td>0.429556</td>\n",
       "      <td>0.101770</td>\n",
       "      <td>-0.532868</td>\n",
       "      <td>-0.818212</td>\n",
       "      <td>0.775932</td>\n",
       "      <td>True</td>\n",
       "      <td>False</td>\n",
       "      <td>False</td>\n",
       "      <td>False</td>\n",
       "      <td>...</td>\n",
       "      <td>False</td>\n",
       "      <td>True</td>\n",
       "      <td>False</td>\n",
       "      <td>False</td>\n",
       "      <td>False</td>\n",
       "      <td>False</td>\n",
       "      <td>False</td>\n",
       "      <td>True</td>\n",
       "      <td>True</td>\n",
       "      <td>False</td>\n",
       "    </tr>\n",
       "    <tr>\n",
       "      <th>1</th>\n",
       "      <td>-1.544379</td>\n",
       "      <td>-1.121694</td>\n",
       "      <td>1.242825</td>\n",
       "      <td>2.092860</td>\n",
       "      <td>-0.818212</td>\n",
       "      <td>1.009438</td>\n",
       "      <td>True</td>\n",
       "      <td>False</td>\n",
       "      <td>False</td>\n",
       "      <td>False</td>\n",
       "      <td>...</td>\n",
       "      <td>True</td>\n",
       "      <td>False</td>\n",
       "      <td>False</td>\n",
       "      <td>False</td>\n",
       "      <td>False</td>\n",
       "      <td>False</td>\n",
       "      <td>False</td>\n",
       "      <td>True</td>\n",
       "      <td>True</td>\n",
       "      <td>False</td>\n",
       "    </tr>\n",
       "    <tr>\n",
       "      <th>2</th>\n",
       "      <td>-0.632665</td>\n",
       "      <td>1.441240</td>\n",
       "      <td>1.242825</td>\n",
       "      <td>0.239405</td>\n",
       "      <td>-0.818212</td>\n",
       "      <td>1.009438</td>\n",
       "      <td>True</td>\n",
       "      <td>False</td>\n",
       "      <td>False</td>\n",
       "      <td>False</td>\n",
       "      <td>...</td>\n",
       "      <td>True</td>\n",
       "      <td>False</td>\n",
       "      <td>False</td>\n",
       "      <td>False</td>\n",
       "      <td>False</td>\n",
       "      <td>False</td>\n",
       "      <td>False</td>\n",
       "      <td>True</td>\n",
       "      <td>True</td>\n",
       "      <td>False</td>\n",
       "    </tr>\n",
       "    <tr>\n",
       "      <th>3</th>\n",
       "      <td>0.861947</td>\n",
       "      <td>-1.661258</td>\n",
       "      <td>0.329981</td>\n",
       "      <td>0.393859</td>\n",
       "      <td>-0.818212</td>\n",
       "      <td>-0.625100</td>\n",
       "      <td>True</td>\n",
       "      <td>False</td>\n",
       "      <td>False</td>\n",
       "      <td>False</td>\n",
       "      <td>...</td>\n",
       "      <td>True</td>\n",
       "      <td>False</td>\n",
       "      <td>False</td>\n",
       "      <td>False</td>\n",
       "      <td>False</td>\n",
       "      <td>False</td>\n",
       "      <td>False</td>\n",
       "      <td>True</td>\n",
       "      <td>False</td>\n",
       "      <td>True</td>\n",
       "    </tr>\n",
       "    <tr>\n",
       "      <th>4</th>\n",
       "      <td>1.011408</td>\n",
       "      <td>0.429556</td>\n",
       "      <td>0.101770</td>\n",
       "      <td>-0.532868</td>\n",
       "      <td>-0.818212</td>\n",
       "      <td>0.775932</td>\n",
       "      <td>True</td>\n",
       "      <td>False</td>\n",
       "      <td>False</td>\n",
       "      <td>False</td>\n",
       "      <td>...</td>\n",
       "      <td>False</td>\n",
       "      <td>True</td>\n",
       "      <td>False</td>\n",
       "      <td>False</td>\n",
       "      <td>False</td>\n",
       "      <td>False</td>\n",
       "      <td>False</td>\n",
       "      <td>True</td>\n",
       "      <td>True</td>\n",
       "      <td>False</td>\n",
       "    </tr>\n",
       "  </tbody>\n",
       "</table>\n",
       "<p>5 rows × 25 columns</p>\n",
       "</div>"
      ],
      "text/plain": [
       "   Transportation expense  Distance from Residence to Work  Service time  \\\n",
       "0                1.011408                         0.429556      0.101770   \n",
       "1               -1.544379                        -1.121694      1.242825   \n",
       "2               -0.632665                         1.441240      1.242825   \n",
       "3                0.861947                        -1.661258      0.329981   \n",
       "4                1.011408                         0.429556      0.101770   \n",
       "\n",
       "        Age  Work load Average/day   Body mass index  Education_1  \\\n",
       "0 -0.532868               -0.818212         0.775932         True   \n",
       "1  2.092860               -0.818212         1.009438         True   \n",
       "2  0.239405               -0.818212         1.009438         True   \n",
       "3  0.393859               -0.818212        -0.625100         True   \n",
       "4 -0.532868               -0.818212         0.775932         True   \n",
       "\n",
       "   Education_2  Education_3  Education_4  ...  Pet_0  Pet_1  Pet_2  Pet_4  \\\n",
       "0        False        False        False  ...  False   True  False  False   \n",
       "1        False        False        False  ...   True  False  False  False   \n",
       "2        False        False        False  ...   True  False  False  False   \n",
       "3        False        False        False  ...   True  False  False  False   \n",
       "4        False        False        False  ...  False   True  False  False   \n",
       "\n",
       "   Pet_5  Pet_8  Social drinker_0  Social drinker_1  Social smoker_0  \\\n",
       "0  False  False             False              True             True   \n",
       "1  False  False             False              True             True   \n",
       "2  False  False             False              True             True   \n",
       "3  False  False             False              True            False   \n",
       "4  False  False             False              True             True   \n",
       "\n",
       "   Social smoker_1  \n",
       "0            False  \n",
       "1            False  \n",
       "2            False  \n",
       "3             True  \n",
       "4            False  \n",
       "\n",
       "[5 rows x 25 columns]"
      ]
     },
     "execution_count": 57,
     "metadata": {},
     "output_type": "execute_result"
    }
   ],
   "source": [
    "X.head()"
   ]
  },
  {
   "cell_type": "code",
   "execution_count": 58,
   "metadata": {},
   "outputs": [
    {
     "name": "stdout",
     "output_type": "stream",
     "text": [
      "<class 'pandas.core.frame.DataFrame'>\n",
      "RangeIndex: 740 entries, 0 to 739\n",
      "Data columns (total 25 columns):\n",
      " #   Column                           Non-Null Count  Dtype  \n",
      "---  ------                           --------------  -----  \n",
      " 0   Transportation expense           740 non-null    float64\n",
      " 1   Distance from Residence to Work  740 non-null    float64\n",
      " 2   Service time                     740 non-null    float64\n",
      " 3   Age                              740 non-null    float64\n",
      " 4   Work load Average/day            740 non-null    float64\n",
      " 5   Body mass index                  740 non-null    float64\n",
      " 6   Education_1                      740 non-null    bool   \n",
      " 7   Education_2                      740 non-null    bool   \n",
      " 8   Education_3                      740 non-null    bool   \n",
      " 9   Education_4                      740 non-null    bool   \n",
      " 10  Son_0                            740 non-null    bool   \n",
      " 11  Son_1                            740 non-null    bool   \n",
      " 12  Son_2                            740 non-null    bool   \n",
      " 13  Son_3                            740 non-null    bool   \n",
      " 14  Son_4                            740 non-null    bool   \n",
      " 15  Pet_0                            740 non-null    bool   \n",
      " 16  Pet_1                            740 non-null    bool   \n",
      " 17  Pet_2                            740 non-null    bool   \n",
      " 18  Pet_4                            740 non-null    bool   \n",
      " 19  Pet_5                            740 non-null    bool   \n",
      " 20  Pet_8                            740 non-null    bool   \n",
      " 21  Social drinker_0                 740 non-null    bool   \n",
      " 22  Social drinker_1                 740 non-null    bool   \n",
      " 23  Social smoker_0                  740 non-null    bool   \n",
      " 24  Social smoker_1                  740 non-null    bool   \n",
      "dtypes: bool(19), float64(6)\n",
      "memory usage: 48.5 KB\n"
     ]
    }
   ],
   "source": [
    "X.info()"
   ]
  },
  {
   "cell_type": "code",
   "execution_count": 59,
   "metadata": {},
   "outputs": [],
   "source": [
    "# Extract target feature for a binary classification analysis\n",
    "# Consider 4 hr or more as counting as an absence from work\n",
    "y = df['Absenteeism time in hours'] > 4"
   ]
  },
  {
   "cell_type": "code",
   "execution_count": 60,
   "metadata": {},
   "outputs": [],
   "source": [
    "# Label encoding\n",
    "#le = LabelEncoder()\n",
    "#y = le.fit_transform(y)\n"
   ]
  },
  {
   "cell_type": "code",
   "execution_count": 61,
   "metadata": {},
   "outputs": [
    {
     "data": {
      "text/plain": [
       "0      False\n",
       "1      False\n",
       "2      False\n",
       "3      False\n",
       "4      False\n",
       "       ...  \n",
       "735     True\n",
       "736    False\n",
       "737    False\n",
       "738    False\n",
       "739    False\n",
       "Name: Absenteeism time in hours, Length: 740, dtype: bool"
      ]
     },
     "execution_count": 61,
     "metadata": {},
     "output_type": "execute_result"
    }
   ],
   "source": [
    "y"
   ]
  },
  {
   "cell_type": "code",
   "execution_count": 62,
   "metadata": {},
   "outputs": [
    {
     "name": "stdout",
     "output_type": "stream",
     "text": [
      "Number of Yes = 279\n",
      "Number of No = 461\n",
      "Percentage of Yes = 37.7027027027027\n",
      "Percentage of No = 62.29729729729729\n"
     ]
    }
   ],
   "source": [
    "# Check if there is target class imbalance\n",
    "num_yes = y.sum()\n",
    "num_no = len(y) - num_yes\n",
    "percentage_yes = num_yes/len(y)*100\n",
    "percentage_no = num_no/len(y)*100\n",
    "print('Number of Yes =', num_yes)\n",
    "print('Number of No =', num_no)\n",
    "print('Percentage of Yes =', percentage_yes)\n",
    "print('Percentage of No =', percentage_no)\n",
    "\n"
   ]
  },
  {
   "cell_type": "markdown",
   "metadata": {
    "jp-MarkdownHeadingCollapsed": true
   },
   "source": [
    "There is significant class imbalance in the data set with 62.3% on target entries being 0 ('no') and 37.7% being 1 ('yes')"
   ]
  },
  {
   "cell_type": "markdown",
   "metadata": {},
   "source": [
    "### Train/Test Split\n",
    "\n",
    "Splitting the data into a train and test set."
   ]
  },
  {
   "cell_type": "code",
   "execution_count": 63,
   "metadata": {},
   "outputs": [],
   "source": [
    "# Use stratification to address class imbalance. Generate a 70/30 train/test split\n",
    "X_train, X_test, y_train, y_test = train_test_split(X, y, test_size=0.3, random_state=42, stratify=y)\n"
   ]
  },
  {
   "cell_type": "code",
   "execution_count": null,
   "metadata": {},
   "outputs": [],
   "source": []
  },
  {
   "cell_type": "code",
   "execution_count": null,
   "metadata": {},
   "outputs": [],
   "source": []
  },
  {
   "cell_type": "markdown",
   "metadata": {},
   "source": [
    "### Baseline Model\n",
    "\n",
    "Establish baseline performance using dummy classifier"
   ]
  },
  {
   "cell_type": "code",
   "execution_count": 64,
   "metadata": {},
   "outputs": [
    {
     "name": "stdout",
     "output_type": "stream",
     "text": [
      "0.6216216216216216\n"
     ]
    }
   ],
   "source": [
    "# Establish baseline using sklearn dummy classifier\n",
    "dummy_clf = DummyClassifier().fit(X_train, y_train)\n",
    "baseline_score = dummy_clf.score(X_test, y_test)\n",
    "\n",
    "print(baseline_score)"
   ]
  },
  {
   "cell_type": "markdown",
   "metadata": {},
   "source": [
    "The baseline performance that our classifier should aim to beat is an accuracy of 62.2%\n"
   ]
  },
  {
   "cell_type": "code",
   "execution_count": null,
   "metadata": {},
   "outputs": [],
   "source": []
  },
  {
   "cell_type": "markdown",
   "metadata": {},
   "source": [
    "### Basic Modeling with default estimator values\n",
    "\n",
    "Employ Logistic Regression to build a basic model of absenteeism  "
   ]
  },
  {
   "cell_type": "code",
   "execution_count": 65,
   "metadata": {},
   "outputs": [],
   "source": [
    "lr_default_model = LogisticRegression()\n",
    "start_time = time.time()\n",
    "lr_default_model.fit(X_train, y_train)\n",
    "end_time = time.time()\n",
    "lr_default_model_train_time = end_time - start_time\n"
   ]
  },
  {
   "cell_type": "markdown",
   "metadata": {},
   "source": [
    "### Basic LR Model Accuracy\n",
    "\n",
    "Compute basic LR model accuracy"
   ]
  },
  {
   "cell_type": "code",
   "execution_count": 66,
   "metadata": {},
   "outputs": [
    {
     "name": "stdout",
     "output_type": "stream",
     "text": [
      "Default LR model Training Accuracy:  0.699\n",
      "Default LR model Test Accuracy:  0.680\n",
      "Default LR model Train Time:  0.010\n"
     ]
    }
   ],
   "source": [
    "lr_default_model_train_acc = lr_default_model.score(X_train, y_train)\n",
    "lr_default_model_test_acc = lr_default_model.score(X_test, y_test)\n",
    "\n",
    "print(f'Default LR model Training Accuracy: {lr_default_model_train_acc: .3f}')\n",
    "print(f'Default LR model Test Accuracy: {lr_default_model_test_acc: .3f}')\n",
    "print(f'Default LR model Train Time: {lr_default_model_train_time: .3f}')"
   ]
  },
  {
   "cell_type": "markdown",
   "metadata": {},
   "source": [
    "### Model Comparisons\n",
    "\n",
    "Now, we aim to compare the performance of the basic Logistic Regression model to basic KNN algorithm, Decision Tree, and SVM models.  Will use default settings for each of the models to fit and score each. "
   ]
  },
  {
   "cell_type": "code",
   "execution_count": 67,
   "metadata": {},
   "outputs": [
    {
     "name": "stdout",
     "output_type": "stream",
     "text": [
      "Default KNN model Training Accuracy:  0.780\n",
      "Default KNN model Test Accuracy:  0.626\n",
      "Default KNN model Train Time:  0.003\n"
     ]
    }
   ],
   "source": [
    "knn_default_model = KNeighborsClassifier()\n",
    "\n",
    "start_time = time.time()\n",
    "knn_default_model.fit(X_train, y_train)\n",
    "end_time = time.time()\n",
    "knn_default_model_train_time = end_time - start_time\n",
    "\n",
    "knn_default_model_train_acc = knn_default_model.score(X_train, y_train)\n",
    "knn_default_model_test_acc = knn_default_model.score(X_test, y_test)\n",
    "\n",
    "print(f'Default KNN model Training Accuracy: {knn_default_model_train_acc: .3f}')\n",
    "print(f'Default KNN model Test Accuracy: {knn_default_model_test_acc: .3f}')\n",
    "print(f'Default KNN model Train Time: {knn_default_model_train_time: .3f}')"
   ]
  },
  {
   "cell_type": "code",
   "execution_count": 68,
   "metadata": {},
   "outputs": [
    {
     "name": "stdout",
     "output_type": "stream",
     "text": [
      "Default DTree model Training Accuracy:  0.919\n",
      "Default DTree model Test Accuracy:  0.653\n",
      "Default DTree model Train Time:  0.003\n"
     ]
    }
   ],
   "source": [
    "dtree_default_model = DecisionTreeClassifier()\n",
    "\n",
    "start_time = time.time()\n",
    "dtree_default_model.fit(X_train, y_train)\n",
    "end_time = time.time()\n",
    "dtree_default_model_train_time = end_time - start_time\n",
    "\n",
    "dtree_default_model_train_acc = dtree_default_model.score(X_train, y_train)\n",
    "dtree_default_model_test_acc = dtree_default_model.score(X_test, y_test)\n",
    "\n",
    "print(f'Default DTree model Training Accuracy: {dtree_default_model_train_acc: .3f}')\n",
    "print(f'Default DTree model Test Accuracy: {dtree_default_model_test_acc: .3f}')\n",
    "print(f'Default DTree model Train Time: {dtree_default_model_train_time: .3f}')"
   ]
  },
  {
   "cell_type": "code",
   "execution_count": 69,
   "metadata": {},
   "outputs": [
    {
     "name": "stdout",
     "output_type": "stream",
     "text": [
      "Default SVM model Training Accuracy:  0.747\n",
      "Default SVM model Test Accuracy:  0.694\n",
      "Default SVM model Train Time:  0.009\n"
     ]
    }
   ],
   "source": [
    "svm_default_model = SVC()\n",
    "\n",
    "start_time = time.time()\n",
    "svm_default_model.fit(X_train, y_train)\n",
    "end_time = time.time()\n",
    "svm_default_model_train_time = end_time - start_time\n",
    "\n",
    "svm_default_model_train_acc = svm_default_model.score(X_train, y_train)\n",
    "svm_default_model_test_acc = svm_default_model.score(X_test, y_test)\n",
    "\n",
    "print(f'Default SVM model Training Accuracy: {svm_default_model_train_acc: .3f}')\n",
    "print(f'Default SVM model Test Accuracy: {svm_default_model_test_acc: .3f}')\n",
    "print(f'Default SVM model Train Time: {svm_default_model_train_time: .3f}')\n"
   ]
  },
  {
   "cell_type": "code",
   "execution_count": 70,
   "metadata": {},
   "outputs": [],
   "source": [
    "# Create summary pandas data frame"
   ]
  },
  {
   "cell_type": "code",
   "execution_count": 71,
   "metadata": {},
   "outputs": [],
   "source": [
    "d = {'Model': ['Logistic Regression', 'KNN', 'Decision Tree', 'SVM'],\n",
    "     'Train Time': [lr_default_model_train_time, knn_default_model_train_time, dtree_default_model_train_time, svm_default_model_train_time],\n",
    "     'Train Accuracy': [lr_default_model_train_acc, knn_default_model_train_acc, dtree_default_model_train_acc, svm_default_model_train_acc],\n",
    "     'Test Accuracy': [lr_default_model_test_acc, knn_default_model_test_acc, dtree_default_model_test_acc, svm_default_model_test_acc]}\n",
    "results_df = pd.DataFrame(data=d)\n",
    "results_df.set_index('Model', inplace = True)"
   ]
  },
  {
   "cell_type": "code",
   "execution_count": 72,
   "metadata": {},
   "outputs": [
    {
     "data": {
      "text/html": [
       "<div>\n",
       "<style scoped>\n",
       "    .dataframe tbody tr th:only-of-type {\n",
       "        vertical-align: middle;\n",
       "    }\n",
       "\n",
       "    .dataframe tbody tr th {\n",
       "        vertical-align: top;\n",
       "    }\n",
       "\n",
       "    .dataframe thead th {\n",
       "        text-align: right;\n",
       "    }\n",
       "</style>\n",
       "<table border=\"1\" class=\"dataframe\">\n",
       "  <thead>\n",
       "    <tr style=\"text-align: right;\">\n",
       "      <th></th>\n",
       "      <th>Train Time</th>\n",
       "      <th>Train Accuracy</th>\n",
       "      <th>Test Accuracy</th>\n",
       "    </tr>\n",
       "    <tr>\n",
       "      <th>Model</th>\n",
       "      <th></th>\n",
       "      <th></th>\n",
       "      <th></th>\n",
       "    </tr>\n",
       "  </thead>\n",
       "  <tbody>\n",
       "    <tr>\n",
       "      <th>Logistic Regression</th>\n",
       "      <td>0.009974</td>\n",
       "      <td>0.698842</td>\n",
       "      <td>0.680180</td>\n",
       "    </tr>\n",
       "    <tr>\n",
       "      <th>KNN</th>\n",
       "      <td>0.002992</td>\n",
       "      <td>0.779923</td>\n",
       "      <td>0.626126</td>\n",
       "    </tr>\n",
       "    <tr>\n",
       "      <th>Decision Tree</th>\n",
       "      <td>0.002991</td>\n",
       "      <td>0.918919</td>\n",
       "      <td>0.653153</td>\n",
       "    </tr>\n",
       "    <tr>\n",
       "      <th>SVM</th>\n",
       "      <td>0.008976</td>\n",
       "      <td>0.747104</td>\n",
       "      <td>0.693694</td>\n",
       "    </tr>\n",
       "  </tbody>\n",
       "</table>\n",
       "</div>"
      ],
      "text/plain": [
       "                     Train Time  Train Accuracy  Test Accuracy\n",
       "Model                                                         \n",
       "Logistic Regression    0.009974        0.698842       0.680180\n",
       "KNN                    0.002992        0.779923       0.626126\n",
       "Decision Tree          0.002991        0.918919       0.653153\n",
       "SVM                    0.008976        0.747104       0.693694"
      ]
     },
     "execution_count": 72,
     "metadata": {},
     "output_type": "execute_result"
    }
   ],
   "source": [
    "results_df"
   ]
  },
  {
   "cell_type": "markdown",
   "metadata": {},
   "source": [
    "The SVM basic model with default parameters had the best test accuracy, followed by the decision tree model. The LR model took the longest to compute on my system."
   ]
  },
  {
   "cell_type": "code",
   "execution_count": null,
   "metadata": {},
   "outputs": [],
   "source": []
  },
  {
   "cell_type": "markdown",
   "metadata": {},
   "source": [
    "### Improving the Model\n",
    "\n",
    "Options to explore\n",
    "- More feature engineering and exploration\n",
    "- Hyperparameter tuning and grid search \n",
    "- Adjusting performance metric"
   ]
  },
  {
   "cell_type": "code",
   "execution_count": null,
   "metadata": {},
   "outputs": [],
   "source": []
  },
  {
   "cell_type": "markdown",
   "metadata": {},
   "source": [
    "#### Hyperparameter tuning and grid search\n",
    "\n",
    "The section below uses GridSearchCV to perform hyperparameter searches and tuning for different classification models. "
   ]
  },
  {
   "cell_type": "code",
   "execution_count": 73,
   "metadata": {},
   "outputs": [
    {
     "name": "stdout",
     "output_type": "stream",
     "text": [
      "Training Accuracy:  0.693\n",
      "Test Accuracy:  0.667\n",
      "Mean fit time:  0.081\n",
      "Best parameters of LR: {'logistic__C': 0.1, 'logistic__penalty': 'l2', 'logistic__solver': 'lbfgs'}\n"
     ]
    },
    {
     "name": "stderr",
     "output_type": "stream",
     "text": [
      "C:\\Users\\accg2\\anaconda3\\Lib\\site-packages\\sklearn\\model_selection\\_validation.py:540: FitFailedWarning: \n",
      "200 fits failed out of a total of 800.\n",
      "The score on these train-test partitions for these parameters will be set to nan.\n",
      "If these failures are not expected, you can try to debug them by setting error_score='raise'.\n",
      "\n",
      "Below are more details about the failures:\n",
      "--------------------------------------------------------------------------------\n",
      "100 fits failed with the following error:\n",
      "Traceback (most recent call last):\n",
      "  File \"C:\\Users\\accg2\\anaconda3\\Lib\\site-packages\\sklearn\\model_selection\\_validation.py\", line 888, in _fit_and_score\n",
      "    estimator.fit(X_train, y_train, **fit_params)\n",
      "  File \"C:\\Users\\accg2\\anaconda3\\Lib\\site-packages\\sklearn\\base.py\", line 1473, in wrapper\n",
      "    return fit_method(estimator, *args, **kwargs)\n",
      "           ^^^^^^^^^^^^^^^^^^^^^^^^^^^^^^^^^^^^^^\n",
      "  File \"C:\\Users\\accg2\\anaconda3\\Lib\\site-packages\\sklearn\\pipeline.py\", line 473, in fit\n",
      "    self._final_estimator.fit(Xt, y, **last_step_params[\"fit\"])\n",
      "  File \"C:\\Users\\accg2\\anaconda3\\Lib\\site-packages\\sklearn\\base.py\", line 1473, in wrapper\n",
      "    return fit_method(estimator, *args, **kwargs)\n",
      "           ^^^^^^^^^^^^^^^^^^^^^^^^^^^^^^^^^^^^^^\n",
      "  File \"C:\\Users\\accg2\\anaconda3\\Lib\\site-packages\\sklearn\\linear_model\\_logistic.py\", line 1194, in fit\n",
      "    solver = _check_solver(self.solver, self.penalty, self.dual)\n",
      "             ^^^^^^^^^^^^^^^^^^^^^^^^^^^^^^^^^^^^^^^^^^^^^^^^^^^\n",
      "  File \"C:\\Users\\accg2\\anaconda3\\Lib\\site-packages\\sklearn\\linear_model\\_logistic.py\", line 67, in _check_solver\n",
      "    raise ValueError(\n",
      "ValueError: Solver lbfgs supports only 'l2' or None penalties, got l1 penalty.\n",
      "\n",
      "--------------------------------------------------------------------------------\n",
      "100 fits failed with the following error:\n",
      "Traceback (most recent call last):\n",
      "  File \"C:\\Users\\accg2\\anaconda3\\Lib\\site-packages\\sklearn\\model_selection\\_validation.py\", line 888, in _fit_and_score\n",
      "    estimator.fit(X_train, y_train, **fit_params)\n",
      "  File \"C:\\Users\\accg2\\anaconda3\\Lib\\site-packages\\sklearn\\base.py\", line 1473, in wrapper\n",
      "    return fit_method(estimator, *args, **kwargs)\n",
      "           ^^^^^^^^^^^^^^^^^^^^^^^^^^^^^^^^^^^^^^\n",
      "  File \"C:\\Users\\accg2\\anaconda3\\Lib\\site-packages\\sklearn\\pipeline.py\", line 473, in fit\n",
      "    self._final_estimator.fit(Xt, y, **last_step_params[\"fit\"])\n",
      "  File \"C:\\Users\\accg2\\anaconda3\\Lib\\site-packages\\sklearn\\base.py\", line 1473, in wrapper\n",
      "    return fit_method(estimator, *args, **kwargs)\n",
      "           ^^^^^^^^^^^^^^^^^^^^^^^^^^^^^^^^^^^^^^\n",
      "  File \"C:\\Users\\accg2\\anaconda3\\Lib\\site-packages\\sklearn\\linear_model\\_logistic.py\", line 1194, in fit\n",
      "    solver = _check_solver(self.solver, self.penalty, self.dual)\n",
      "             ^^^^^^^^^^^^^^^^^^^^^^^^^^^^^^^^^^^^^^^^^^^^^^^^^^^\n",
      "  File \"C:\\Users\\accg2\\anaconda3\\Lib\\site-packages\\sklearn\\linear_model\\_logistic.py\", line 67, in _check_solver\n",
      "    raise ValueError(\n",
      "ValueError: Solver sag supports only 'l2' or None penalties, got l1 penalty.\n",
      "\n",
      "  warnings.warn(some_fits_failed_message, FitFailedWarning)\n",
      "C:\\Users\\accg2\\anaconda3\\Lib\\site-packages\\sklearn\\model_selection\\_search.py:1102: UserWarning: One or more of the test scores are non-finite: [       nan 0.65449963        nan 0.6622106  0.68715459 0.68523152\n",
      " 0.68715459 0.68715459        nan 0.67757655        nan 0.67565347\n",
      " 0.67361837 0.67363704 0.67361837 0.67361837        nan 0.67173264\n",
      "        nan 0.66982823 0.6620239  0.6620239  0.6620239  0.6620239\n",
      "        nan 0.66977222        nan 0.6735997  0.6581404  0.6581404\n",
      " 0.6581404  0.6581404         nan 0.66777446        nan 0.66198656\n",
      " 0.66394698 0.66394698 0.66394698 0.66394698        nan 0.67552278\n",
      "        nan 0.67167662 0.66588872 0.66588872 0.66588872 0.66588872\n",
      "        nan 0.68134802        nan 0.68134802 0.68134802 0.68134802\n",
      " 0.68134802 0.68134802        nan 0.6774832         nan 0.67942494\n",
      " 0.68134802 0.67942494 0.67942494 0.67942494        nan 0.67942494\n",
      "        nan 0.68134802 0.68134802 0.68328977 0.68328977 0.68328977\n",
      "        nan 0.67942494        nan 0.67942494 0.67942494 0.68134802\n",
      " 0.68134802 0.68134802        nan 0.67942494        nan 0.67942494\n",
      " 0.68136669 0.67942494 0.67942494 0.67942494        nan 0.68136669\n",
      "        nan 0.67942494 0.67942494 0.67942494 0.67942494 0.67942494\n",
      "        nan 0.68136669        nan 0.67942494 0.67942494 0.67942494\n",
      " 0.67942494 0.67942494        nan 0.68136669        nan 0.67942494\n",
      " 0.67942494 0.68136669 0.67942494 0.67942494        nan 0.68136669\n",
      "        nan 0.67942494 0.68134802 0.68136669 0.67942494 0.67942494\n",
      "        nan 0.68136669        nan 0.67942494 0.68328977 0.68136669\n",
      " 0.67942494 0.67942494        nan 0.68136669        nan 0.67942494\n",
      " 0.68328977 0.68136669 0.67942494 0.67942494        nan 0.68136669\n",
      "        nan 0.67942494 0.68136669 0.68136669 0.67942494 0.67942494\n",
      "        nan 0.68136669        nan 0.67942494 0.68136669 0.68136669\n",
      " 0.68136669 0.67942494        nan 0.68136669        nan 0.67942494\n",
      " 0.68136669 0.68136669 0.68136669 0.67942494]\n",
      "  warnings.warn(\n"
     ]
    }
   ],
   "source": [
    "# Logistic regression model\n",
    "# Hyperparameters Tuning with GridSearchSV \n",
    "\n",
    "# Define the pipeline steps\n",
    "lr_model = Pipeline([(\"logistic\", LogisticRegression(max_iter = 10000))])\n",
    "\n",
    "# Define hyperparameters for tuning\n",
    "penalty = [\"l1\", \"l2\"]       # Regularization terms: l1 (Lasso) and l2 (Ridge)\n",
    "C = np.logspace(-1, 5, 20)   # Regularization strength; inverse of regularization parameter\n",
    "solver = [\"lbfgs\", \"liblinear\", \"sag\", \"saga\"]  # Optimization algorithms\n",
    "\n",
    "# Create the parameter grid\n",
    "lr_param_grid = {\"logistic__penalty\" : penalty,\n",
    "              \"logistic__C\" : C,\n",
    "              \"logistic__solver\":solver}\n",
    "\n",
    "lr_grid_model = GridSearchCV(estimator=lr_model,\n",
    "                          param_grid=lr_param_grid,\n",
    "                          cv=5,\n",
    "                          scoring = \"accuracy\", \n",
    "                          n_jobs = -1,             # Use all available cores\n",
    "                          return_train_score=False) # Return training scores\n",
    "\n",
    "lr_grid_model.fit(X_train, y_train)\n",
    "\n",
    "lr_grid_cv_results = lr_grid_model.cv_results_\n",
    "lr_grid_best_params = lr_grid_model.best_params_\n",
    "\n",
    "lr_grid_train_acc = lr_grid_model.score(X_train, y_train)\n",
    "lr_grid_test_acc = lr_grid_model.score(X_test, y_test)\n",
    "lr_grid_mean_fit_time = np.mean(lr_grid_cv_results.get('mean_fit_time'))\n",
    "\n",
    "### Summary results\n",
    "print(f'Training Accuracy: {lr_grid_train_acc: .3f}')\n",
    "print(f'Test Accuracy: {lr_grid_test_acc: .3f}')\n",
    "print(f'Mean fit time: {lr_grid_mean_fit_time: .3f}')\n",
    "print(f'Best parameters of LR: {lr_grid_best_params}')\n",
    "#print(f'Logistic regression GSCV results: {lr_grid_cv_results}')"
   ]
  },
  {
   "cell_type": "code",
   "execution_count": 74,
   "metadata": {},
   "outputs": [
    {
     "name": "stdout",
     "output_type": "stream",
     "text": [
      "Optimized LR Model Accuracy:  0.667\n",
      "Optimized LR Model Recall:  0.238\n",
      "Optimized LR Model Precision:  0.667\n",
      "Optimized LR Model F1 Score:  0.351\n"
     ]
    }
   ],
   "source": [
    "# Compute performance scores for accuracy optimized model\n",
    "lr_val_model = LogisticRegression(penalty = 'l2', C = 0.1, solver = 'lbfgs',max_iter = 10000)\n",
    "lr_val_model.fit(X_train, y_train)\n",
    "y_lr_pred = lr_val_model.predict(X_test)\n",
    "lr_val_model_acc = accuracy_score(y_test, y_lr_pred)\n",
    "lr_val_model_recall = recall_score(y_test, y_lr_pred)\n",
    "lr_val_model_precision = precision_score(y_test, y_lr_pred)\n",
    "lr_val_model_f1 = f1_score(y_test, y_lr_pred)\n",
    "\n",
    "print(f'Optimized LR Model Accuracy: {lr_val_model_acc: .3f}')\n",
    "print(f'Optimized LR Model Recall: {lr_val_model_recall: .3f}')\n",
    "print(f'Optimized LR Model Precision: {lr_val_model_precision: .3f}')\n",
    "print(f'Optimized LR Model F1 Score: {lr_val_model_f1: .3f}')\n"
   ]
  },
  {
   "cell_type": "code",
   "execution_count": 75,
   "metadata": {},
   "outputs": [
    {
     "name": "stdout",
     "output_type": "stream",
     "text": [
      "              precision    recall  f1-score   support\n",
      "\n",
      "       False      0.667     0.928     0.776       138\n",
      "        True      0.667     0.238     0.351        84\n",
      "\n",
      "    accuracy                          0.667       222\n",
      "   macro avg      0.667     0.583     0.563       222\n",
      "weighted avg      0.667     0.667     0.615       222\n",
      "\n"
     ]
    }
   ],
   "source": [
    "# Compute classification report\n",
    "lr_val_model_classification_report = classification_report(y_test, y_lr_pred, digits=3)\n",
    "print(lr_val_model_classification_report)\n"
   ]
  },
  {
   "cell_type": "code",
   "execution_count": 76,
   "metadata": {},
   "outputs": [
    {
     "data": {
      "text/plain": [
       "<sklearn.metrics._plot.confusion_matrix.ConfusionMatrixDisplay at 0x28b8b09f950>"
      ]
     },
     "execution_count": 76,
     "metadata": {},
     "output_type": "execute_result"
    },
    {
     "data": {
      "image/png": "[encoded data removed]",
      "text/plain": [
       "<Figure size 640x480 with 2 Axes>"
      ]
     },
     "metadata": {},
     "output_type": "display_data"
    }
   ],
   "source": [
    "# Compute and display confusion matrix\n",
    "cm_lr = confusion_matrix(y_test, y_lr_pred, labels=lr_val_model.classes_)\n",
    "disp = ConfusionMatrixDisplay(confusion_matrix=cm_lr,\n",
    "                              display_labels=lr_val_model.classes_)\n",
    "disp.plot()\n"
   ]
  },
  {
   "cell_type": "code",
   "execution_count": null,
   "metadata": {},
   "outputs": [],
   "source": []
  },
  {
   "cell_type": "code",
   "execution_count": 77,
   "metadata": {},
   "outputs": [
    {
     "name": "stdout",
     "output_type": "stream",
     "text": [
      "Training Accuracy:  0.707\n",
      "Test Accuracy:  0.694\n",
      "Mean fit time:  0.016\n",
      "Best parameters of SVM: {'C': 10, 'kernel': 'linear'}\n"
     ]
    }
   ],
   "source": [
    "# SVM model\n",
    "# Hyperparameters Tuning with GridSearchSV \n",
    "\n",
    "# Define the pipeline steps\n",
    "svm_model = SVC()\n",
    "\n",
    "# Define hyperparameters for tuning\n",
    "C = [0.01, 0.1, 1.0, 10] # Regularization strength; inverse of regularization parameter\n",
    "kernel = ['rbf', 'poly', 'linear', 'sigmoid']\n",
    "\n",
    "# Create the parameter grid\n",
    "svm_param_grid = {\"kernel\" : kernel,\n",
    "              \"C\" : C}\n",
    "\n",
    "svm_grid_model = GridSearchCV(estimator=svm_model,\n",
    "                          param_grid=svm_param_grid,\n",
    "                          cv=5,\n",
    "                          scoring = \"accuracy\", \n",
    "                          n_jobs = -1,             # Use all available cores\n",
    "                          return_train_score=False) # Return training scores\n",
    "\n",
    "svm_grid_model.fit(X_train, y_train)\n",
    "\n",
    "svm_grid_cv_results = svm_grid_model.cv_results_\n",
    "svm_grid_best_params = svm_grid_model.best_params_\n",
    "\n",
    "svm_grid_train_acc = svm_grid_model.score(X_train, y_train)\n",
    "svm_grid_test_acc = svm_grid_model.score(X_test, y_test)\n",
    "svm_grid_mean_fit_time = np.mean(svm_grid_cv_results.get('mean_fit_time'))\n",
    "\n",
    "### Summary results\n",
    "print(f'Training Accuracy: {svm_grid_train_acc: .3f}')\n",
    "print(f'Test Accuracy: {svm_grid_test_acc: .3f}')\n",
    "print(f'Mean fit time: {svm_grid_mean_fit_time: .3f}')\n",
    "print(f'Best parameters of SVM: {svm_grid_best_params}')\n",
    "#print(f'SVM model GSCV results: {svm_grid_cv_results}')"
   ]
  },
  {
   "cell_type": "code",
   "execution_count": 78,
   "metadata": {},
   "outputs": [
    {
     "name": "stdout",
     "output_type": "stream",
     "text": [
      "Optimized SVM Model Accuracy:  0.694\n",
      "Optimized SVM Model Recall:  0.405\n",
      "Optimized SVM Model Precision:  0.654\n",
      "Optimized SVM Model F1 Score:  0.500\n"
     ]
    }
   ],
   "source": [
    "# Compute performance scores for accuracy optimized model\n",
    "svm_val_model = SVC(C = 10, kernel = 'linear')\n",
    "svm_val_model.fit(X_train, y_train)\n",
    "y_svm_pred = svm_val_model.predict(X_test)\n",
    "svm_val_model_acc = accuracy_score(y_test, y_svm_pred)\n",
    "svm_val_model_recall = recall_score(y_test, y_svm_pred)\n",
    "svm_val_model_precision = precision_score(y_test, y_svm_pred)\n",
    "svm_val_model_f1 = f1_score(y_test, y_svm_pred)\n",
    "\n",
    "print(f'Optimized SVM Model Accuracy: {svm_val_model_acc: .3f}')\n",
    "print(f'Optimized SVM Model Recall: {svm_val_model_recall: .3f}')\n",
    "print(f'Optimized SVM Model Precision: {svm_val_model_precision: .3f}')\n",
    "print(f'Optimized SVM Model F1 Score: {svm_val_model_f1: .3f}')\n"
   ]
  },
  {
   "cell_type": "code",
   "execution_count": 79,
   "metadata": {},
   "outputs": [
    {
     "name": "stdout",
     "output_type": "stream",
     "text": [
      "              precision    recall  f1-score   support\n",
      "\n",
      "       False      0.706     0.870     0.779       138\n",
      "        True      0.654     0.405     0.500        84\n",
      "\n",
      "    accuracy                          0.694       222\n",
      "   macro avg      0.680     0.637     0.640       222\n",
      "weighted avg      0.686     0.694     0.674       222\n",
      "\n"
     ]
    }
   ],
   "source": [
    "# Compute classification report\n",
    "svm_val_model_classification_report = classification_report(y_test, y_svm_pred, digits=3)\n",
    "print(svm_val_model_classification_report)"
   ]
  },
  {
   "cell_type": "code",
   "execution_count": 80,
   "metadata": {},
   "outputs": [
    {
     "data": {
      "text/plain": [
       "<sklearn.metrics._plot.confusion_matrix.ConfusionMatrixDisplay at 0x28b8941cfb0>"
      ]
     },
     "execution_count": 80,
     "metadata": {},
     "output_type": "execute_result"
    },
    {
     "data": {
      "image/png": "[encoded data removed]",
      "text/plain": [
       "<Figure size 640x480 with 2 Axes>"
      ]
     },
     "metadata": {},
     "output_type": "display_data"
    }
   ],
   "source": [
    "cm_svm = confusion_matrix(y_test, y_svm_pred, labels=svm_val_model.classes_)\n",
    "disp = ConfusionMatrixDisplay(confusion_matrix=cm_svm,\n",
    "                              display_labels=svm_val_model.classes_)\n",
    "disp.plot()\n"
   ]
  },
  {
   "cell_type": "code",
   "execution_count": null,
   "metadata": {},
   "outputs": [],
   "source": []
  },
  {
   "cell_type": "code",
   "execution_count": 81,
   "metadata": {},
   "outputs": [
    {
     "name": "stdout",
     "output_type": "stream",
     "text": [
      "Training Accuracy:  0.919\n",
      "Test Accuracy:  0.676\n",
      "Mean fit time:  0.003\n",
      "Best parameters of KNN: {'n_neighbors': 10, 'p': 2, 'weights': 'distance'}\n"
     ]
    }
   ],
   "source": [
    "# KNN model\n",
    "# Hyperparameters Tuning with GridSearchSV \n",
    "\n",
    "# Define the pipeline steps\n",
    "knn_model = KNeighborsClassifier()\n",
    "\n",
    "# Define hyperparameters for tuning\n",
    "n_neighbors = [2, 5, 10, 20]\n",
    "p = [1, 2, 3]\n",
    "weight_options = ['uniform', 'distance']\n",
    "\n",
    "\n",
    "# Create the parameter grid\n",
    "knn_param_grid = {\"n_neighbors\" : n_neighbors,\n",
    "              \"p\" : p,\n",
    "              \"weights\":weight_options}\n",
    "\n",
    "knn_grid_model = GridSearchCV(estimator=knn_model,\n",
    "                          param_grid=knn_param_grid,\n",
    "                          cv=5,\n",
    "                          scoring = \"accuracy\", \n",
    "                          n_jobs = -1,             # Use all available cores\n",
    "                          return_train_score=False) # Return training scores\n",
    "\n",
    "knn_grid_model.fit(X_train, y_train)\n",
    "\n",
    "knn_grid_cv_results = knn_grid_model.cv_results_\n",
    "knn_grid_best_params = knn_grid_model.best_params_\n",
    "\n",
    "knn_grid_train_acc = knn_grid_model.score(X_train, y_train)\n",
    "knn_grid_test_acc = knn_grid_model.score(X_test, y_test)\n",
    "knn_grid_mean_fit_time = np.mean(knn_grid_cv_results.get('mean_fit_time'))\n",
    "\n",
    "### Summary results\n",
    "print(f'Training Accuracy: {knn_grid_train_acc: .3f}')\n",
    "print(f'Test Accuracy: {knn_grid_test_acc: .3f}')\n",
    "print(f'Mean fit time: {knn_grid_mean_fit_time: .3f}')\n",
    "print(f'Best parameters of KNN: {knn_grid_best_params}')\n",
    "#print(f'KNN model GSCV results: {knn_grid_cv_results}')"
   ]
  },
  {
   "cell_type": "code",
   "execution_count": 82,
   "metadata": {},
   "outputs": [
    {
     "name": "stdout",
     "output_type": "stream",
     "text": [
      "Optimized KNN Model Accuracy:  0.676\n",
      "Optimized KNN Model Recall:  0.536\n",
      "Optimized KNN Model Precision:  0.577\n",
      "Optimized KNN Model F1 Score:  0.556\n"
     ]
    }
   ],
   "source": [
    "# Compute performance scores for accuracy optimized model\n",
    "knn_val_model = KNeighborsClassifier(n_neighbors = 10, p = 2, weights = 'distance')\n",
    "knn_val_model.fit(X_train, y_train)\n",
    "y_knn_pred = knn_val_model.predict(X_test)\n",
    "knn_val_model_acc = accuracy_score(y_test, y_knn_pred)\n",
    "knn_val_model_recall = recall_score(y_test, y_knn_pred)\n",
    "knn_val_model_precision = precision_score(y_test, y_knn_pred)\n",
    "knn_val_model_f1 = f1_score(y_test, y_knn_pred)\n",
    "\n",
    "print(f'Optimized KNN Model Accuracy: {knn_val_model_acc: .3f}')\n",
    "print(f'Optimized KNN Model Recall: {knn_val_model_recall: .3f}')\n",
    "print(f'Optimized KNN Model Precision: {knn_val_model_precision: .3f}')\n",
    "print(f'Optimized KNN Model F1 Score: {knn_val_model_f1: .3f}')"
   ]
  },
  {
   "cell_type": "code",
   "execution_count": 83,
   "metadata": {},
   "outputs": [
    {
     "name": "stdout",
     "output_type": "stream",
     "text": [
      "              precision    recall  f1-score   support\n",
      "\n",
      "       False      0.729     0.761     0.745       138\n",
      "        True      0.577     0.536     0.556        84\n",
      "\n",
      "    accuracy                          0.676       222\n",
      "   macro avg      0.653     0.648     0.650       222\n",
      "weighted avg      0.672     0.676     0.673       222\n",
      "\n"
     ]
    }
   ],
   "source": [
    "# Compute classification report\n",
    "knn_val_model_classification_report = classification_report(y_test, y_knn_pred, digits=3)\n",
    "print(knn_val_model_classification_report)"
   ]
  },
  {
   "cell_type": "code",
   "execution_count": 84,
   "metadata": {},
   "outputs": [
    {
     "data": {
      "text/plain": [
       "<sklearn.metrics._plot.confusion_matrix.ConfusionMatrixDisplay at 0x28b8947bec0>"
      ]
     },
     "execution_count": 84,
     "metadata": {},
     "output_type": "execute_result"
    },
    {
     "data": {
      "image/png": "[encoded data removed]",
      "text/plain": [
       "<Figure size 640x480 with 2 Axes>"
      ]
     },
     "metadata": {},
     "output_type": "display_data"
    }
   ],
   "source": [
    "cm_knn = confusion_matrix(y_test, y_knn_pred, labels=knn_val_model.classes_)\n",
    "disp = ConfusionMatrixDisplay(confusion_matrix=cm_knn,\n",
    "                              display_labels=knn_val_model.classes_)\n",
    "disp.plot()\n"
   ]
  },
  {
   "cell_type": "code",
   "execution_count": null,
   "metadata": {},
   "outputs": [],
   "source": []
  },
  {
   "cell_type": "code",
   "execution_count": 85,
   "metadata": {},
   "outputs": [
    {
     "name": "stdout",
     "output_type": "stream",
     "text": [
      "Training Accuracy:  0.747\n",
      "Test Accuracy:  0.676\n",
      "Mean fit time:  0.005\n",
      "Best parameters of tree: {'criterion': 'log_loss', 'max_depth': 5, 'min_samples_split': 2}\n"
     ]
    }
   ],
   "source": [
    "# Decision tree model\n",
    "# Hyperparameters Tuning with GridSearchSV \n",
    "\n",
    "# Define the pipeline steps\n",
    "dtree_model = DecisionTreeClassifier()\n",
    "\n",
    "# Define hyperparameters for tuning\n",
    "criterion = ['gini', 'entropy', 'log_loss']\n",
    "max_depth = [2, 5, 10, 15, 20, 30]\n",
    "min_samples_split = [2, 3, 5]\n",
    "\n",
    "\n",
    "# Create the parameter grid\n",
    "dtree_param_grid = {\"criterion\" : criterion,\n",
    "              \"max_depth\" : max_depth,\n",
    "              \"min_samples_split\":min_samples_split}\n",
    "\n",
    "dtree_grid_model = GridSearchCV(estimator=dtree_model,\n",
    "                          param_grid=dtree_param_grid,\n",
    "                          cv=5,\n",
    "                          scoring = \"accuracy\", \n",
    "                          n_jobs = -1,             # Use all available cores\n",
    "                          return_train_score=False) # Return training scores\n",
    "\n",
    "dtree_grid_model.fit(X_train, y_train)\n",
    "\n",
    "dtree_grid_cv_results = dtree_grid_model.cv_results_\n",
    "dtree_grid_best_params = dtree_grid_model.best_params_\n",
    "\n",
    "dtree_grid_train_acc = dtree_grid_model.score(X_train, y_train)\n",
    "dtree_grid_test_acc = dtree_grid_model.score(X_test, y_test)\n",
    "dtree_grid_mean_fit_time = np.mean(dtree_grid_cv_results.get('mean_fit_time'))\n",
    "\n",
    "### Summary results\n",
    "print(f'Training Accuracy: {dtree_grid_train_acc: .3f}')\n",
    "print(f'Test Accuracy: {dtree_grid_test_acc: .3f}')\n",
    "print(f'Mean fit time: {dtree_grid_mean_fit_time: .3f}')\n",
    "print(f'Best parameters of tree: {dtree_grid_best_params}')\n",
    "#print(f'Decision Tree model GSCV results: {dtree_grid_cv_results}')"
   ]
  },
  {
   "cell_type": "code",
   "execution_count": 86,
   "metadata": {},
   "outputs": [
    {
     "name": "stdout",
     "output_type": "stream",
     "text": [
      "Optimized DTree Model Accuracy:  0.676\n",
      "Optimized DTree Model Recall:  0.345\n",
      "Optimized DTree Model Precision:  0.630\n",
      "Optimized DTree Model F1 Score:  0.446\n"
     ]
    }
   ],
   "source": [
    "# Compute performance scores for accuracy optimized model\n",
    "dtree_val_model = DecisionTreeClassifier(max_depth = 5, min_samples_split = 3, criterion = 'log_loss')\n",
    "dtree_val_model.fit(X_train, y_train)\n",
    "y_dtree_pred = dtree_val_model.predict(X_test)\n",
    "dtree_val_model_acc = accuracy_score(y_test, y_dtree_pred)\n",
    "dtree_val_model_recall = recall_score(y_test, y_dtree_pred)\n",
    "dtree_val_model_precision = precision_score(y_test, y_dtree_pred)\n",
    "dtree_val_model_f1 = f1_score(y_test, y_dtree_pred)\n",
    "\n",
    "print(f'Optimized DTree Model Accuracy: {dtree_val_model_acc: .3f}')\n",
    "print(f'Optimized DTree Model Recall: {dtree_val_model_recall: .3f}')\n",
    "print(f'Optimized DTree Model Precision: {dtree_val_model_precision: .3f}')\n",
    "print(f'Optimized DTree Model F1 Score: {dtree_val_model_f1: .3f}')"
   ]
  },
  {
   "cell_type": "code",
   "execution_count": 87,
   "metadata": {},
   "outputs": [
    {
     "name": "stdout",
     "output_type": "stream",
     "text": [
      "              precision    recall  f1-score   support\n",
      "\n",
      "       False      0.688     0.877     0.771       138\n",
      "        True      0.630     0.345     0.446        84\n",
      "\n",
      "    accuracy                          0.676       222\n",
      "   macro avg      0.659     0.611     0.608       222\n",
      "weighted avg      0.666     0.676     0.648       222\n",
      "\n"
     ]
    }
   ],
   "source": [
    "# Compute classification report\n",
    "dtree_val_model_classification_report = classification_report(y_test, y_dtree_pred, digits=3)\n",
    "print(dtree_val_model_classification_report)"
   ]
  },
  {
   "cell_type": "code",
   "execution_count": 88,
   "metadata": {},
   "outputs": [
    {
     "data": {
      "text/plain": [
       "<sklearn.metrics._plot.confusion_matrix.ConfusionMatrixDisplay at 0x28b896725a0>"
      ]
     },
     "execution_count": 88,
     "metadata": {},
     "output_type": "execute_result"
    },
    {
     "data": {
      "image/png": "[encoded data removed]",
      "text/plain": [
       "<Figure size 640x480 with 2 Axes>"
      ]
     },
     "metadata": {},
     "output_type": "display_data"
    }
   ],
   "source": [
    "cm_dtree = confusion_matrix(y_test, y_dtree_pred, labels=dtree_val_model.classes_)\n",
    "disp = ConfusionMatrixDisplay(confusion_matrix=cm_dtree,\n",
    "                              display_labels=dtree_val_model.classes_)\n",
    "disp.plot()"
   ]
  },
  {
   "cell_type": "code",
   "execution_count": 89,
   "metadata": {},
   "outputs": [],
   "source": [
    "# Create summary pandas data frame"
   ]
  },
  {
   "cell_type": "code",
   "execution_count": 90,
   "metadata": {},
   "outputs": [],
   "source": [
    "d2 = {'Model': ['Logistic Regression', 'KNN', 'Decision Tree', 'SVM'],\n",
    "     'Fit Time': [lr_grid_mean_fit_time, knn_grid_mean_fit_time, dtree_grid_mean_fit_time, svm_grid_mean_fit_time],\n",
    "     'Test Accuracy': [lr_val_model_acc, knn_val_model_acc, dtree_val_model_acc, svm_val_model_acc],\n",
    "     'Test Recall': [lr_val_model_recall, knn_val_model_recall, dtree_val_model_recall, svm_val_model_recall],\n",
    "     'Test Precision': [lr_val_model_precision, knn_val_model_precision, dtree_val_model_precision, svm_val_model_precision],\n",
    "     'Test F1': [lr_val_model_f1, knn_val_model_f1, dtree_val_model_f1, svm_val_model_f1]}\n",
    "results_df2 = pd.DataFrame(data=d2)\n",
    "results_df2.set_index('Model', inplace = True)\n",
    "\n",
    "\n"
   ]
  },
  {
   "cell_type": "code",
   "execution_count": 91,
   "metadata": {},
   "outputs": [
    {
     "name": "stdout",
     "output_type": "stream",
     "text": [
      "Summary model results optimized for accuracy scores\n"
     ]
    },
    {
     "data": {
      "text/html": [
       "<div>\n",
       "<style scoped>\n",
       "    .dataframe tbody tr th:only-of-type {\n",
       "        vertical-align: middle;\n",
       "    }\n",
       "\n",
       "    .dataframe tbody tr th {\n",
       "        vertical-align: top;\n",
       "    }\n",
       "\n",
       "    .dataframe thead th {\n",
       "        text-align: right;\n",
       "    }\n",
       "</style>\n",
       "<table border=\"1\" class=\"dataframe\">\n",
       "  <thead>\n",
       "    <tr style=\"text-align: right;\">\n",
       "      <th></th>\n",
       "      <th>Fit Time</th>\n",
       "      <th>Test Accuracy</th>\n",
       "      <th>Test Recall</th>\n",
       "      <th>Test Precision</th>\n",
       "      <th>Test F1</th>\n",
       "    </tr>\n",
       "    <tr>\n",
       "      <th>Model</th>\n",
       "      <th></th>\n",
       "      <th></th>\n",
       "      <th></th>\n",
       "      <th></th>\n",
       "      <th></th>\n",
       "    </tr>\n",
       "  </thead>\n",
       "  <tbody>\n",
       "    <tr>\n",
       "      <th>Logistic Regression</th>\n",
       "      <td>0.081134</td>\n",
       "      <td>0.666667</td>\n",
       "      <td>0.238095</td>\n",
       "      <td>0.666667</td>\n",
       "      <td>0.350877</td>\n",
       "    </tr>\n",
       "    <tr>\n",
       "      <th>KNN</th>\n",
       "      <td>0.003346</td>\n",
       "      <td>0.675676</td>\n",
       "      <td>0.535714</td>\n",
       "      <td>0.576923</td>\n",
       "      <td>0.555556</td>\n",
       "    </tr>\n",
       "    <tr>\n",
       "      <th>Decision Tree</th>\n",
       "      <td>0.004529</td>\n",
       "      <td>0.675676</td>\n",
       "      <td>0.345238</td>\n",
       "      <td>0.630435</td>\n",
       "      <td>0.446154</td>\n",
       "    </tr>\n",
       "    <tr>\n",
       "      <th>SVM</th>\n",
       "      <td>0.016311</td>\n",
       "      <td>0.693694</td>\n",
       "      <td>0.404762</td>\n",
       "      <td>0.653846</td>\n",
       "      <td>0.500000</td>\n",
       "    </tr>\n",
       "  </tbody>\n",
       "</table>\n",
       "</div>"
      ],
      "text/plain": [
       "                     Fit Time  Test Accuracy  Test Recall  Test Precision  \\\n",
       "Model                                                                       \n",
       "Logistic Regression  0.081134       0.666667     0.238095        0.666667   \n",
       "KNN                  0.003346       0.675676     0.535714        0.576923   \n",
       "Decision Tree        0.004529       0.675676     0.345238        0.630435   \n",
       "SVM                  0.016311       0.693694     0.404762        0.653846   \n",
       "\n",
       "                      Test F1  \n",
       "Model                          \n",
       "Logistic Regression  0.350877  \n",
       "KNN                  0.555556  \n",
       "Decision Tree        0.446154  \n",
       "SVM                  0.500000  "
      ]
     },
     "execution_count": 91,
     "metadata": {},
     "output_type": "execute_result"
    }
   ],
   "source": [
    "print('Summary model results optimized for accuracy scores')\n",
    "results_df2"
   ]
  },
  {
   "cell_type": "code",
   "execution_count": null,
   "metadata": {},
   "outputs": [],
   "source": []
  },
  {
   "cell_type": "markdown",
   "metadata": {},
   "source": [
    "#### Adjust performance metric \n",
    "\n",
    "We observed there is the opportunity for precision scores to be increased. In this section we optimize model hyperparameters for precision as an alternative metric, seeking to reduce FP numbers and increase precision scores."
   ]
  },
  {
   "cell_type": "code",
   "execution_count": null,
   "metadata": {},
   "outputs": [],
   "source": []
  },
  {
   "cell_type": "code",
   "execution_count": 92,
   "metadata": {},
   "outputs": [
    {
     "name": "stdout",
     "output_type": "stream",
     "text": [
      "Training Accuracy:  0.658\n",
      "Test Accuracy:  0.667\n",
      "Mean fit time:  0.079\n",
      "Best parameters of LR: {'logistic__C': 0.1, 'logistic__penalty': 'l2', 'logistic__solver': 'lbfgs'}\n"
     ]
    },
    {
     "name": "stderr",
     "output_type": "stream",
     "text": [
      "C:\\Users\\accg2\\anaconda3\\Lib\\site-packages\\sklearn\\model_selection\\_validation.py:540: FitFailedWarning: \n",
      "200 fits failed out of a total of 800.\n",
      "The score on these train-test partitions for these parameters will be set to nan.\n",
      "If these failures are not expected, you can try to debug them by setting error_score='raise'.\n",
      "\n",
      "Below are more details about the failures:\n",
      "--------------------------------------------------------------------------------\n",
      "100 fits failed with the following error:\n",
      "Traceback (most recent call last):\n",
      "  File \"C:\\Users\\accg2\\anaconda3\\Lib\\site-packages\\sklearn\\model_selection\\_validation.py\", line 888, in _fit_and_score\n",
      "    estimator.fit(X_train, y_train, **fit_params)\n",
      "  File \"C:\\Users\\accg2\\anaconda3\\Lib\\site-packages\\sklearn\\base.py\", line 1473, in wrapper\n",
      "    return fit_method(estimator, *args, **kwargs)\n",
      "           ^^^^^^^^^^^^^^^^^^^^^^^^^^^^^^^^^^^^^^\n",
      "  File \"C:\\Users\\accg2\\anaconda3\\Lib\\site-packages\\sklearn\\pipeline.py\", line 473, in fit\n",
      "    self._final_estimator.fit(Xt, y, **last_step_params[\"fit\"])\n",
      "  File \"C:\\Users\\accg2\\anaconda3\\Lib\\site-packages\\sklearn\\base.py\", line 1473, in wrapper\n",
      "    return fit_method(estimator, *args, **kwargs)\n",
      "           ^^^^^^^^^^^^^^^^^^^^^^^^^^^^^^^^^^^^^^\n",
      "  File \"C:\\Users\\accg2\\anaconda3\\Lib\\site-packages\\sklearn\\linear_model\\_logistic.py\", line 1194, in fit\n",
      "    solver = _check_solver(self.solver, self.penalty, self.dual)\n",
      "             ^^^^^^^^^^^^^^^^^^^^^^^^^^^^^^^^^^^^^^^^^^^^^^^^^^^\n",
      "  File \"C:\\Users\\accg2\\anaconda3\\Lib\\site-packages\\sklearn\\linear_model\\_logistic.py\", line 67, in _check_solver\n",
      "    raise ValueError(\n",
      "ValueError: Solver lbfgs supports only 'l2' or None penalties, got l1 penalty.\n",
      "\n",
      "--------------------------------------------------------------------------------\n",
      "100 fits failed with the following error:\n",
      "Traceback (most recent call last):\n",
      "  File \"C:\\Users\\accg2\\anaconda3\\Lib\\site-packages\\sklearn\\model_selection\\_validation.py\", line 888, in _fit_and_score\n",
      "    estimator.fit(X_train, y_train, **fit_params)\n",
      "  File \"C:\\Users\\accg2\\anaconda3\\Lib\\site-packages\\sklearn\\base.py\", line 1473, in wrapper\n",
      "    return fit_method(estimator, *args, **kwargs)\n",
      "           ^^^^^^^^^^^^^^^^^^^^^^^^^^^^^^^^^^^^^^\n",
      "  File \"C:\\Users\\accg2\\anaconda3\\Lib\\site-packages\\sklearn\\pipeline.py\", line 473, in fit\n",
      "    self._final_estimator.fit(Xt, y, **last_step_params[\"fit\"])\n",
      "  File \"C:\\Users\\accg2\\anaconda3\\Lib\\site-packages\\sklearn\\base.py\", line 1473, in wrapper\n",
      "    return fit_method(estimator, *args, **kwargs)\n",
      "           ^^^^^^^^^^^^^^^^^^^^^^^^^^^^^^^^^^^^^^\n",
      "  File \"C:\\Users\\accg2\\anaconda3\\Lib\\site-packages\\sklearn\\linear_model\\_logistic.py\", line 1194, in fit\n",
      "    solver = _check_solver(self.solver, self.penalty, self.dual)\n",
      "             ^^^^^^^^^^^^^^^^^^^^^^^^^^^^^^^^^^^^^^^^^^^^^^^^^^^\n",
      "  File \"C:\\Users\\accg2\\anaconda3\\Lib\\site-packages\\sklearn\\linear_model\\_logistic.py\", line 67, in _check_solver\n",
      "    raise ValueError(\n",
      "ValueError: Solver sag supports only 'l2' or None penalties, got l1 penalty.\n",
      "\n",
      "  warnings.warn(some_fits_failed_message, FitFailedWarning)\n",
      "C:\\Users\\accg2\\anaconda3\\Lib\\site-packages\\sklearn\\model_selection\\_search.py:1102: UserWarning: One or more of the test scores are non-finite: [       nan 0.59501655        nan 0.63924812 0.64270115 0.63883018\n",
      " 0.64270115 0.64270115        nan 0.63909646        nan 0.6305812\n",
      " 0.59561143 0.59593163 0.59561143 0.59561143        nan 0.60305572\n",
      "        nan 0.60253358 0.57007764 0.57007764 0.57007764 0.57007764\n",
      "        nan 0.59226214        nan 0.59970494 0.56003918 0.56003918\n",
      " 0.56003918 0.56003918        nan 0.58259434        nan 0.56707367\n",
      " 0.57668225 0.57668225 0.57668225 0.57668225        nan 0.60385108\n",
      "        nan 0.59888214 0.58194541 0.58194541 0.58194541 0.58194541\n",
      "        nan 0.61559021        nan 0.61559021 0.61559021 0.61559021\n",
      " 0.61559021 0.61559021        nan 0.60799659        nan 0.6112224\n",
      " 0.61339631 0.6112224  0.6112224  0.6112224         nan 0.61125746\n",
      "        nan 0.61562528 0.61562528 0.61885108 0.61885108 0.61885108\n",
      "        nan 0.61316222        nan 0.61316222 0.61316222 0.61562528\n",
      " 0.61562528 0.61562528        nan 0.61316222        nan 0.61316222\n",
      " 0.618597   0.61316222 0.61316222 0.61316222        nan 0.618597\n",
      "        nan 0.61316222 0.61316222 0.61316222 0.61316222 0.61316222\n",
      "        nan 0.618597          nan 0.61316222 0.61316222 0.61316222\n",
      " 0.61316222 0.61316222        nan 0.618597          nan 0.61316222\n",
      " 0.61316222 0.618597   0.61316222 0.61316222        nan 0.618597\n",
      "        nan 0.61316222 0.61562528 0.618597   0.61316222 0.61316222\n",
      "        nan 0.618597          nan 0.61316222 0.62077092 0.618597\n",
      " 0.61316222 0.61316222        nan 0.618597          nan 0.61316222\n",
      " 0.62077092 0.618597   0.61316222 0.61316222        nan 0.618597\n",
      "        nan 0.61316222 0.618597   0.618597   0.618597   0.61316222\n",
      "        nan 0.618597          nan 0.61316222 0.618597   0.618597\n",
      " 0.618597   0.61316222        nan 0.618597          nan 0.61316222\n",
      " 0.618597   0.618597   0.618597   0.61316222]\n",
      "  warnings.warn(\n"
     ]
    }
   ],
   "source": [
    "# Logistic regression model\n",
    "# Hyperparameters Tuning with GridSearchSV \n",
    "\n",
    "# Define the pipeline steps\n",
    "lr_model = Pipeline([(\"logistic\", LogisticRegression(max_iter = 10000))])\n",
    "\n",
    "# Define hyperparameters for tuning\n",
    "penalty = [\"l1\", \"l2\"]       # Regularization terms: l1 (Lasso) and l2 (Ridge)\n",
    "C = np.logspace(-1, 5, 20)   # Regularization strength; inverse of regularization parameter\n",
    "solver = [\"lbfgs\", \"liblinear\", \"sag\", \"saga\"]  # Optimization algorithms\n",
    "\n",
    "# Create the parameter grid\n",
    "lr_param_grid = {\"logistic__penalty\" : penalty,\n",
    "              \"logistic__C\" : C,\n",
    "              \"logistic__solver\":solver}\n",
    "\n",
    "lr_grid_model = GridSearchCV(estimator=lr_model,\n",
    "                          param_grid=lr_param_grid,\n",
    "                          cv=5,\n",
    "                          scoring = \"precision\", \n",
    "                          n_jobs = -1,             # Use all available cores\n",
    "                          return_train_score=False) # Return training scores\n",
    "\n",
    "lr_grid_model.fit(X_train, y_train)\n",
    "\n",
    "lr_grid_cv_results = lr_grid_model.cv_results_\n",
    "lr_grid_best_params = lr_grid_model.best_params_\n",
    "\n",
    "lr_grid_train_acc = lr_grid_model.score(X_train, y_train)\n",
    "lr_grid_test_acc = lr_grid_model.score(X_test, y_test)\n",
    "lr_grid_mean_fit_time = np.mean(lr_grid_cv_results.get('mean_fit_time'))\n",
    "\n",
    "### Summary results\n",
    "print(f'Training Accuracy: {lr_grid_train_acc: .3f}')\n",
    "print(f'Test Accuracy: {lr_grid_test_acc: .3f}')\n",
    "print(f'Mean fit time: {lr_grid_mean_fit_time: .3f}')\n",
    "print(f'Best parameters of LR: {lr_grid_best_params}')\n",
    "#print(f'Logistic regression GSCV results: {lr_grid_cv_results}')"
   ]
  },
  {
   "cell_type": "code",
   "execution_count": 93,
   "metadata": {},
   "outputs": [
    {
     "name": "stdout",
     "output_type": "stream",
     "text": [
      "Optimized LR Model Accuracy:  0.667\n",
      "Optimized LR Model Recall:  0.238\n",
      "Optimized LR Model Precision:  0.667\n",
      "Optimized LR Model F1 Score:  0.351\n"
     ]
    }
   ],
   "source": [
    "# Compute performance scores for precision optimized model\n",
    "lr_val_model = LogisticRegression(penalty = 'l2', C = 0.1, solver = 'lbfgs',max_iter = 10000)\n",
    "lr_val_model.fit(X_train, y_train)\n",
    "y_lr_pred = lr_val_model.predict(X_test)\n",
    "lr_val_model_acc = accuracy_score(y_test, y_lr_pred)\n",
    "lr_val_model_recall = recall_score(y_test, y_lr_pred)\n",
    "lr_val_model_precision = precision_score(y_test, y_lr_pred)\n",
    "lr_val_model_f1 = f1_score(y_test, y_lr_pred)\n",
    "\n",
    "print(f'Optimized LR Model Accuracy: {lr_val_model_acc: .3f}')\n",
    "print(f'Optimized LR Model Recall: {lr_val_model_recall: .3f}')\n",
    "print(f'Optimized LR Model Precision: {lr_val_model_precision: .3f}')\n",
    "print(f'Optimized LR Model F1 Score: {lr_val_model_f1: .3f}')\n"
   ]
  },
  {
   "cell_type": "code",
   "execution_count": 94,
   "metadata": {},
   "outputs": [
    {
     "name": "stdout",
     "output_type": "stream",
     "text": [
      "              precision    recall  f1-score   support\n",
      "\n",
      "       False      0.667     0.928     0.776       138\n",
      "        True      0.667     0.238     0.351        84\n",
      "\n",
      "    accuracy                          0.667       222\n",
      "   macro avg      0.667     0.583     0.563       222\n",
      "weighted avg      0.667     0.667     0.615       222\n",
      "\n"
     ]
    }
   ],
   "source": [
    "# Compute classification report\n",
    "lr_val_model_classification_report = classification_report(y_test, y_lr_pred, digits=3)\n",
    "print(lr_val_model_classification_report)\n"
   ]
  },
  {
   "cell_type": "code",
   "execution_count": 95,
   "metadata": {},
   "outputs": [
    {
     "data": {
      "text/plain": [
       "<sklearn.metrics._plot.confusion_matrix.ConfusionMatrixDisplay at 0x28b888915b0>"
      ]
     },
     "execution_count": 95,
     "metadata": {},
     "output_type": "execute_result"
    },
    {
     "data": {
      "image/png": "[encoded data removed]",
      "text/plain": [
       "<Figure size 640x480 with 2 Axes>"
      ]
     },
     "metadata": {},
     "output_type": "display_data"
    }
   ],
   "source": [
    "# Compute and display confusion matrix\n",
    "cm_lr = confusion_matrix(y_test, y_lr_pred, labels=lr_val_model.classes_)\n",
    "disp = ConfusionMatrixDisplay(confusion_matrix=cm_lr,\n",
    "                              display_labels=lr_val_model.classes_)\n",
    "disp.plot()\n"
   ]
  },
  {
   "cell_type": "code",
   "execution_count": null,
   "metadata": {},
   "outputs": [],
   "source": []
  },
  {
   "cell_type": "code",
   "execution_count": 96,
   "metadata": {},
   "outputs": [
    {
     "name": "stdout",
     "output_type": "stream",
     "text": [
      "Training Accuracy:  0.736\n",
      "Test Accuracy:  0.700\n",
      "Mean fit time:  0.015\n",
      "Best parameters of SVM: {'C': 0.1, 'kernel': 'poly'}\n"
     ]
    }
   ],
   "source": [
    "# SVM model\n",
    "# Hyperparameters Tuning with GridSearchSV \n",
    "\n",
    "# Define the pipeline steps\n",
    "svm_model = SVC()\n",
    "\n",
    "# Define hyperparameters for tuning\n",
    "C = [0.01, 0.1, 1.0, 10] # Regularization strength; inverse of regularization parameter\n",
    "kernel = ['rbf', 'poly', 'linear', 'sigmoid']\n",
    "\n",
    "# Create the parameter grid\n",
    "svm_param_grid = {\"kernel\" : kernel,\n",
    "              \"C\" : C}\n",
    "\n",
    "svm_grid_model = GridSearchCV(estimator=svm_model,\n",
    "                          param_grid=svm_param_grid,\n",
    "                          cv=5,\n",
    "                          scoring = \"precision\", \n",
    "                          n_jobs = -1,             # Use all available cores\n",
    "                          return_train_score=False) # Return training scores\n",
    "\n",
    "svm_grid_model.fit(X_train, y_train)\n",
    "\n",
    "svm_grid_cv_results = svm_grid_model.cv_results_\n",
    "svm_grid_best_params = svm_grid_model.best_params_\n",
    "\n",
    "svm_grid_train_acc = svm_grid_model.score(X_train, y_train)\n",
    "svm_grid_test_acc = svm_grid_model.score(X_test, y_test)\n",
    "svm_grid_mean_fit_time = np.mean(svm_grid_cv_results.get('mean_fit_time'))\n",
    "\n",
    "### Summary results\n",
    "print(f'Training Accuracy: {svm_grid_train_acc: .3f}')\n",
    "print(f'Test Accuracy: {svm_grid_test_acc: .3f}')\n",
    "print(f'Mean fit time: {svm_grid_mean_fit_time: .3f}')\n",
    "print(f'Best parameters of SVM: {svm_grid_best_params}')\n",
    "#print(f'SVM model GSCV results: {svm_grid_cv_results}')"
   ]
  },
  {
   "cell_type": "code",
   "execution_count": 97,
   "metadata": {},
   "outputs": [
    {
     "name": "stdout",
     "output_type": "stream",
     "text": [
      "Optimized SVM Model Accuracy:  0.658\n",
      "Optimized SVM Model Recall:  0.167\n",
      "Optimized SVM Model Precision:  0.700\n",
      "Optimized SVM Model F1 Score:  0.269\n"
     ]
    }
   ],
   "source": [
    "# Compute performance scores for precision optimized model\n",
    "svm_val_model = SVC(C = 0.1, kernel = 'poly')\n",
    "svm_val_model.fit(X_train, y_train)\n",
    "y_svm_pred = svm_val_model.predict(X_test)\n",
    "svm_val_model_acc = accuracy_score(y_test, y_svm_pred)\n",
    "svm_val_model_recall = recall_score(y_test, y_svm_pred)\n",
    "svm_val_model_precision = precision_score(y_test, y_svm_pred)\n",
    "svm_val_model_f1 = f1_score(y_test, y_svm_pred)\n",
    "\n",
    "print(f'Optimized SVM Model Accuracy: {svm_val_model_acc: .3f}')\n",
    "print(f'Optimized SVM Model Recall: {svm_val_model_recall: .3f}')\n",
    "print(f'Optimized SVM Model Precision: {svm_val_model_precision: .3f}')\n",
    "print(f'Optimized SVM Model F1 Score: {svm_val_model_f1: .3f}')\n"
   ]
  },
  {
   "cell_type": "code",
   "execution_count": 98,
   "metadata": {},
   "outputs": [
    {
     "name": "stdout",
     "output_type": "stream",
     "text": [
      "              precision    recall  f1-score   support\n",
      "\n",
      "       False      0.653     0.957     0.776       138\n",
      "        True      0.700     0.167     0.269        84\n",
      "\n",
      "    accuracy                          0.658       222\n",
      "   macro avg      0.677     0.562     0.523       222\n",
      "weighted avg      0.671     0.658     0.585       222\n",
      "\n"
     ]
    }
   ],
   "source": [
    "# Compute classification report\n",
    "svm_val_model_classification_report = classification_report(y_test, y_svm_pred, digits=3)\n",
    "print(svm_val_model_classification_report)"
   ]
  },
  {
   "cell_type": "code",
   "execution_count": 99,
   "metadata": {},
   "outputs": [
    {
     "data": {
      "text/plain": [
       "<sklearn.metrics._plot.confusion_matrix.ConfusionMatrixDisplay at 0x28b89114800>"
      ]
     },
     "execution_count": 99,
     "metadata": {},
     "output_type": "execute_result"
    },
    {
     "data": {
      "image/png": "[encoded data removed]",
      "text/plain": [
       "<Figure size 640x480 with 2 Axes>"
      ]
     },
     "metadata": {},
     "output_type": "display_data"
    }
   ],
   "source": [
    "cm_svm = confusion_matrix(y_test, y_svm_pred, labels=svm_val_model.classes_)\n",
    "disp = ConfusionMatrixDisplay(confusion_matrix=cm_svm,\n",
    "                              display_labels=svm_val_model.classes_)\n",
    "disp.plot()\n"
   ]
  },
  {
   "cell_type": "code",
   "execution_count": null,
   "metadata": {},
   "outputs": [],
   "source": []
  },
  {
   "cell_type": "code",
   "execution_count": 100,
   "metadata": {},
   "outputs": [
    {
     "name": "stdout",
     "output_type": "stream",
     "text": [
      "Training Accuracy:  0.700\n",
      "Test Accuracy:  0.711\n",
      "Mean fit time:  0.003\n",
      "Best parameters of KNN: {'n_neighbors': 10, 'p': 1, 'weights': 'uniform'}\n"
     ]
    }
   ],
   "source": [
    "# KNN model\n",
    "# Hyperparameters Tuning with GridSearchSV \n",
    "\n",
    "# Define the pipeline steps\n",
    "knn_model = KNeighborsClassifier()\n",
    "\n",
    "# Define hyperparameters for tuning\n",
    "n_neighbors = [2, 5, 10, 20]\n",
    "p = [1, 2, 3]\n",
    "weight_options = ['uniform', 'distance']\n",
    "\n",
    "\n",
    "# Create the parameter grid\n",
    "knn_param_grid = {\"n_neighbors\" : n_neighbors,\n",
    "              \"p\" : p,\n",
    "              \"weights\":weight_options}\n",
    "\n",
    "knn_grid_model = GridSearchCV(estimator=knn_model,\n",
    "                          param_grid=knn_param_grid,\n",
    "                          cv=5,\n",
    "                          scoring = \"precision\", \n",
    "                          n_jobs = -1,             # Use all available cores\n",
    "                          return_train_score=False) # Return training scores\n",
    "\n",
    "knn_grid_model.fit(X_train, y_train)\n",
    "\n",
    "knn_grid_cv_results = knn_grid_model.cv_results_\n",
    "knn_grid_best_params = knn_grid_model.best_params_\n",
    "\n",
    "knn_grid_train_acc = knn_grid_model.score(X_train, y_train)\n",
    "knn_grid_test_acc = knn_grid_model.score(X_test, y_test)\n",
    "knn_grid_mean_fit_time = np.mean(knn_grid_cv_results.get('mean_fit_time'))\n",
    "\n",
    "### Summary results\n",
    "print(f'Training Accuracy: {knn_grid_train_acc: .3f}')\n",
    "print(f'Test Accuracy: {knn_grid_test_acc: .3f}')\n",
    "print(f'Mean fit time: {knn_grid_mean_fit_time: .3f}')\n",
    "print(f'Best parameters of KNN: {knn_grid_best_params}')\n",
    "#print(f'KNN model GSCV results: {knn_grid_cv_results}')"
   ]
  },
  {
   "cell_type": "code",
   "execution_count": 101,
   "metadata": {},
   "outputs": [
    {
     "name": "stdout",
     "output_type": "stream",
     "text": [
      "Optimized KNN Model Accuracy:  0.694\n",
      "Optimized KNN Model Recall:  0.321\n",
      "Optimized KNN Model Precision:  0.711\n",
      "Optimized KNN Model F1 Score:  0.443\n"
     ]
    }
   ],
   "source": [
    "# Compute performance scores for precision optimized model\n",
    "knn_val_model = KNeighborsClassifier(n_neighbors = 10, p = 1, weights = 'uniform')\n",
    "knn_val_model.fit(X_train, y_train)\n",
    "y_knn_pred = knn_val_model.predict(X_test)\n",
    "knn_val_model_acc = accuracy_score(y_test, y_knn_pred)\n",
    "knn_val_model_recall = recall_score(y_test, y_knn_pred)\n",
    "knn_val_model_precision = precision_score(y_test, y_knn_pred)\n",
    "knn_val_model_f1 = f1_score(y_test, y_knn_pred)\n",
    "\n",
    "print(f'Optimized KNN Model Accuracy: {knn_val_model_acc: .3f}')\n",
    "print(f'Optimized KNN Model Recall: {knn_val_model_recall: .3f}')\n",
    "print(f'Optimized KNN Model Precision: {knn_val_model_precision: .3f}')\n",
    "print(f'Optimized KNN Model F1 Score: {knn_val_model_f1: .3f}')"
   ]
  },
  {
   "cell_type": "code",
   "execution_count": 102,
   "metadata": {},
   "outputs": [
    {
     "name": "stdout",
     "output_type": "stream",
     "text": [
      "              precision    recall  f1-score   support\n",
      "\n",
      "       False      0.690     0.920     0.789       138\n",
      "        True      0.711     0.321     0.443        84\n",
      "\n",
      "    accuracy                          0.694       222\n",
      "   macro avg      0.700     0.621     0.616       222\n",
      "weighted avg      0.698     0.694     0.658       222\n",
      "\n"
     ]
    }
   ],
   "source": [
    "# Compute classification report\n",
    "knn_val_model_classification_report = classification_report(y_test, y_knn_pred, digits=3)\n",
    "print(knn_val_model_classification_report)"
   ]
  },
  {
   "cell_type": "code",
   "execution_count": 103,
   "metadata": {},
   "outputs": [
    {
     "data": {
      "text/plain": [
       "<sklearn.metrics._plot.confusion_matrix.ConfusionMatrixDisplay at 0x28b88fc5880>"
      ]
     },
     "execution_count": 103,
     "metadata": {},
     "output_type": "execute_result"
    },
    {
     "data": {
      "image/png": "[encoded data removed]",
      "text/plain": [
       "<Figure size 640x480 with 2 Axes>"
      ]
     },
     "metadata": {},
     "output_type": "display_data"
    }
   ],
   "source": [
    "cm_knn = confusion_matrix(y_test, y_knn_pred, labels=knn_val_model.classes_)\n",
    "disp = ConfusionMatrixDisplay(confusion_matrix=cm_knn,\n",
    "                              display_labels=knn_val_model.classes_)\n",
    "disp.plot()\n"
   ]
  },
  {
   "cell_type": "code",
   "execution_count": null,
   "metadata": {},
   "outputs": [],
   "source": []
  },
  {
   "cell_type": "code",
   "execution_count": 104,
   "metadata": {},
   "outputs": [
    {
     "name": "stdout",
     "output_type": "stream",
     "text": [
      "Training Accuracy:  0.762\n",
      "Test Accuracy:  0.630\n",
      "Mean fit time:  0.004\n",
      "Best parameters of tree: {'criterion': 'log_loss', 'max_depth': 5, 'min_samples_split': 3}\n"
     ]
    }
   ],
   "source": [
    "# Decision tree model\n",
    "# Hyperparameters Tuning with GridSearchSV \n",
    "\n",
    "# Define the pipeline steps\n",
    "dtree_model = DecisionTreeClassifier()\n",
    "\n",
    "# Define hyperparameters for tuning\n",
    "criterion = ['gini', 'entropy', 'log_loss']\n",
    "max_depth = [2, 5, 10, 15, 20]\n",
    "min_samples_split = [2, 3, 5]\n",
    "\n",
    "\n",
    "# Create the parameter grid\n",
    "dtree_param_grid = {\"criterion\" : criterion,\n",
    "              \"max_depth\" : max_depth,\n",
    "              \"min_samples_split\":min_samples_split}\n",
    "\n",
    "dtree_grid_model = GridSearchCV(estimator=dtree_model,\n",
    "                          param_grid=dtree_param_grid,\n",
    "                          cv=5,\n",
    "                          scoring = \"precision\", \n",
    "                          n_jobs = -1,             # Use all available cores\n",
    "                          return_train_score=False) # Return training scores\n",
    "\n",
    "dtree_grid_model.fit(X_train, y_train)\n",
    "\n",
    "dtree_grid_cv_results = dtree_grid_model.cv_results_\n",
    "dtree_grid_best_params = dtree_grid_model.best_params_\n",
    "\n",
    "dtree_grid_train_acc = dtree_grid_model.score(X_train, y_train)\n",
    "dtree_grid_test_acc = dtree_grid_model.score(X_test, y_test)\n",
    "dtree_grid_mean_fit_time = np.mean(dtree_grid_cv_results.get('mean_fit_time'))\n",
    "\n",
    "### Summary results\n",
    "print(f'Training Accuracy: {dtree_grid_train_acc: .3f}')\n",
    "print(f'Test Accuracy: {dtree_grid_test_acc: .3f}')\n",
    "print(f'Mean fit time: {dtree_grid_mean_fit_time: .3f}')\n",
    "print(f'Best parameters of tree: {dtree_grid_best_params}')\n",
    "#print(f'Decision Tree model GSCV results: {dtree_grid_cv_results}')"
   ]
  },
  {
   "cell_type": "code",
   "execution_count": 105,
   "metadata": {},
   "outputs": [
    {
     "name": "stdout",
     "output_type": "stream",
     "text": [
      "Optimized DTree Model Accuracy:  0.667\n",
      "Optimized DTree Model Recall:  0.202\n",
      "Optimized DTree Model Precision:  0.708\n",
      "Optimized DTree Model F1 Score:  0.315\n"
     ]
    }
   ],
   "source": [
    "# Compute performance scores for precision optimized model\n",
    "dtree_val_model = DecisionTreeClassifier(max_depth = 2, min_samples_split = 2, criterion = 'entropy')\n",
    "dtree_val_model.fit(X_train, y_train)\n",
    "y_dtree_pred = dtree_val_model.predict(X_test)\n",
    "dtree_val_model_acc = accuracy_score(y_test, y_dtree_pred)\n",
    "dtree_val_model_recall = recall_score(y_test, y_dtree_pred)\n",
    "dtree_val_model_precision = precision_score(y_test, y_dtree_pred)\n",
    "dtree_val_model_f1 = f1_score(y_test, y_dtree_pred)\n",
    "\n",
    "print(f'Optimized DTree Model Accuracy: {dtree_val_model_acc: .3f}')\n",
    "print(f'Optimized DTree Model Recall: {dtree_val_model_recall: .3f}')\n",
    "print(f'Optimized DTree Model Precision: {dtree_val_model_precision: .3f}')\n",
    "print(f'Optimized DTree Model F1 Score: {dtree_val_model_f1: .3f}')"
   ]
  },
  {
   "cell_type": "code",
   "execution_count": 106,
   "metadata": {},
   "outputs": [
    {
     "name": "stdout",
     "output_type": "stream",
     "text": [
      "              precision    recall  f1-score   support\n",
      "\n",
      "       False      0.662     0.949     0.780       138\n",
      "        True      0.708     0.202     0.315        84\n",
      "\n",
      "    accuracy                          0.667       222\n",
      "   macro avg      0.685     0.576     0.547       222\n",
      "weighted avg      0.679     0.667     0.604       222\n",
      "\n"
     ]
    }
   ],
   "source": [
    "# Compute classification report\n",
    "dtree_val_model_classification_report = classification_report(y_test, y_dtree_pred, digits=3)\n",
    "print(dtree_val_model_classification_report)"
   ]
  },
  {
   "cell_type": "code",
   "execution_count": 107,
   "metadata": {},
   "outputs": [
    {
     "data": {
      "text/plain": [
       "<sklearn.metrics._plot.confusion_matrix.ConfusionMatrixDisplay at 0x28b8912fec0>"
      ]
     },
     "execution_count": 107,
     "metadata": {},
     "output_type": "execute_result"
    },
    {
     "data": {
      "image/png": "[encoded data removed]",
      "text/plain": [
       "<Figure size 640x480 with 2 Axes>"
      ]
     },
     "metadata": {},
     "output_type": "display_data"
    }
   ],
   "source": [
    "cm_dtree = confusion_matrix(y_test, y_dtree_pred, labels=dtree_val_model.classes_)\n",
    "disp = ConfusionMatrixDisplay(confusion_matrix=cm_dtree,\n",
    "                              display_labels=dtree_val_model.classes_)\n",
    "disp.plot()"
   ]
  },
  {
   "cell_type": "code",
   "execution_count": 108,
   "metadata": {},
   "outputs": [],
   "source": [
    "# Create summary pandas data frame"
   ]
  },
  {
   "cell_type": "code",
   "execution_count": 109,
   "metadata": {},
   "outputs": [],
   "source": [
    "d3 = {'Model': ['Logistic Regression', 'KNN', 'Decision Tree', 'SVM'],\n",
    "     'Fit Time': [lr_grid_mean_fit_time, knn_grid_mean_fit_time, dtree_grid_mean_fit_time, svm_grid_mean_fit_time],\n",
    "     'Test Accuracy': [lr_val_model_acc, knn_val_model_acc, dtree_val_model_acc, svm_val_model_acc],\n",
    "     'Test Recall': [lr_val_model_recall, knn_val_model_recall, dtree_val_model_recall, svm_val_model_recall],\n",
    "     'Test Precision': [lr_val_model_precision, knn_val_model_precision, dtree_val_model_precision, svm_val_model_precision],\n",
    "     'Test F1': [lr_val_model_f1, knn_val_model_f1, dtree_val_model_f1, svm_val_model_f1]}\n",
    "results_df3 = pd.DataFrame(data=d3)\n",
    "results_df3.set_index('Model', inplace = True)\n",
    "\n",
    "\n"
   ]
  },
  {
   "cell_type": "code",
   "execution_count": 110,
   "metadata": {},
   "outputs": [
    {
     "name": "stdout",
     "output_type": "stream",
     "text": [
      "Summary model results optimized for precision scores\n"
     ]
    },
    {
     "data": {
      "text/html": [
       "<div>\n",
       "<style scoped>\n",
       "    .dataframe tbody tr th:only-of-type {\n",
       "        vertical-align: middle;\n",
       "    }\n",
       "\n",
       "    .dataframe tbody tr th {\n",
       "        vertical-align: top;\n",
       "    }\n",
       "\n",
       "    .dataframe thead th {\n",
       "        text-align: right;\n",
       "    }\n",
       "</style>\n",
       "<table border=\"1\" class=\"dataframe\">\n",
       "  <thead>\n",
       "    <tr style=\"text-align: right;\">\n",
       "      <th></th>\n",
       "      <th>Fit Time</th>\n",
       "      <th>Test Accuracy</th>\n",
       "      <th>Test Recall</th>\n",
       "      <th>Test Precision</th>\n",
       "      <th>Test F1</th>\n",
       "    </tr>\n",
       "    <tr>\n",
       "      <th>Model</th>\n",
       "      <th></th>\n",
       "      <th></th>\n",
       "      <th></th>\n",
       "      <th></th>\n",
       "      <th></th>\n",
       "    </tr>\n",
       "  </thead>\n",
       "  <tbody>\n",
       "    <tr>\n",
       "      <th>Logistic Regression</th>\n",
       "      <td>0.079287</td>\n",
       "      <td>0.666667</td>\n",
       "      <td>0.238095</td>\n",
       "      <td>0.666667</td>\n",
       "      <td>0.350877</td>\n",
       "    </tr>\n",
       "    <tr>\n",
       "      <th>KNN</th>\n",
       "      <td>0.002986</td>\n",
       "      <td>0.693694</td>\n",
       "      <td>0.321429</td>\n",
       "      <td>0.710526</td>\n",
       "      <td>0.442623</td>\n",
       "    </tr>\n",
       "    <tr>\n",
       "      <th>Decision Tree</th>\n",
       "      <td>0.004005</td>\n",
       "      <td>0.666667</td>\n",
       "      <td>0.202381</td>\n",
       "      <td>0.708333</td>\n",
       "      <td>0.314815</td>\n",
       "    </tr>\n",
       "    <tr>\n",
       "      <th>SVM</th>\n",
       "      <td>0.015101</td>\n",
       "      <td>0.657658</td>\n",
       "      <td>0.166667</td>\n",
       "      <td>0.700000</td>\n",
       "      <td>0.269231</td>\n",
       "    </tr>\n",
       "  </tbody>\n",
       "</table>\n",
       "</div>"
      ],
      "text/plain": [
       "                     Fit Time  Test Accuracy  Test Recall  Test Precision  \\\n",
       "Model                                                                       \n",
       "Logistic Regression  0.079287       0.666667     0.238095        0.666667   \n",
       "KNN                  0.002986       0.693694     0.321429        0.710526   \n",
       "Decision Tree        0.004005       0.666667     0.202381        0.708333   \n",
       "SVM                  0.015101       0.657658     0.166667        0.700000   \n",
       "\n",
       "                      Test F1  \n",
       "Model                          \n",
       "Logistic Regression  0.350877  \n",
       "KNN                  0.442623  \n",
       "Decision Tree        0.314815  \n",
       "SVM                  0.269231  "
      ]
     },
     "execution_count": 110,
     "metadata": {},
     "output_type": "execute_result"
    }
   ],
   "source": [
    "print('Summary model results optimized for precision scores')\n",
    "results_df3"
   ]
  },
  {
   "cell_type": "code",
   "execution_count": null,
   "metadata": {},
   "outputs": [],
   "source": []
  },
  {
   "cell_type": "markdown",
   "metadata": {},
   "source": [
    "#### Conclusion - Draft - In process of being written for final report\n",
    "We have followed the main tenants of the CRISP methodology to explore the application of ML techniques to HR management. In particular we studied absenteeism using a publicly available information database created with records of absenteeism at work from July 2007 to July 2010 at a courier company in Brazil ([link](https://archive.ics.uci.edu/dataset/445/absenteeism+at+work)). \n",
    "\n",
    "We performed an exploratory data analysis of absenteeism and how it was connected to several key factors (features) in the database. A summary of main findings is given below:\n",
    "* The total number of absenteeism hours was 5124.\n",
    "  \n",
    "* The average absence time was 7.4 hr. The STD was 13.6 hr.\n",
    "  \n",
    "* Half of the absent workers were away for 3 hr or less\n",
    "  \n",
    "* The maximum absence time was 120 hr (15 days)\n",
    "  \n",
    "* The average Service time of absentees was 12.6 years with minimum of 1 and a maximum of 29 years. 75% of absentees had less than 16 years of service.\n",
    "  \n",
    "* The mean Age of absentees was 36.3 years with a minimum of 27 years and a maximum of 58 years. 75% of absentees were younger than 40 yo\n",
    "  \n",
    "* The average distance from their residence location to work for absentees was 29.9 Km\n",
    "    \n",
    "* There were 44 individuals with perfect attendance record (6% of total)\n",
    "  \n",
    "* By extension, 94% of individuals reported absences during the year \n",
    "\n",
    "* The main reasons for absences were medical consultation (21.4%), dental consultation (16.1%), physiotherapy(9.8%), diseases of the musculoskeletal system and connective tissue (7.9%), injuries (5.7%) and patient follow-up(5.5%)\n",
    "\n",
    "* The majority of absent hours were caused by diseases of the musculoskeletal system and connective tissue (842 hr); injury, poisoning and certain other consequences of external causes (729 hr); as well as medical(424 hr) and dental(335 hr) consultations. There were significant absences due to diseases of the respiratory(276 hr) and digestive(297 hr) systems.\n",
    "\n",
    "* The months with the most absenteeism cases were March (12%), February (10.3%) and July (9.3%)\n",
    "  \n",
    "* The months with the most absenteeism time were March (765 hr), July (734 hr), April (482 hr) and November (473 hr)\n",
    "  \n",
    "* The days with the most absence cases were Monday (22.1%), Wednesday (20.8%), Tuesday (20.3%) and Friday (19.8%)\n",
    "  \n",
    "* The days with the most absenteeism hours were Monday (1489 hr), Tuesday (1229 hr), Wednesday (1115 hr) and Friday (738 hr)\n",
    "  \n",
    "* Absence cases were almost equally distributed across seasons with Autumn having a slight uptick (27.2%)\n",
    "  \n",
    "* The season with the most absenteeism hours was Autumn (1492 hr), followed by Spring (1241) and Winter (1239) which differed very little.\n",
    "\n",
    "* None of the absentees were subject to disciplinary action prior to being absent\n",
    "  \n",
    "* The majority of the absentees (82%) had high school education\n",
    "\n",
    "* Employees with this level of education had the most absenteeism hours (4393 hr)\n",
    "\n",
    "* large majority of absentees (58.5%) had children\n",
    "\n",
    "* The largest number of absenteeism hours were seen in employees with 2 children (1649 hr)\n",
    "  \n",
    "* 56.2 percent of absentees were social drinkers. The largest number of absenteeism hours were in the social drinker group (3226 hr)\n",
    "  \n",
    "* 6.6 percent of absentees were social smokers. The largest number of absenteeism hours were in the non-smoker group (4773 hr)\n",
    "  \n",
    "* 37.8% of absenteeism cases were found in employees who owned pets. The total number of absenteeism hours for pet owners was 1983 hr. The largest number of hours belonged to the no-pet ownership group (3141 hr)\n",
    "  \n",
    "* 37.8% of absenteeism cases were found in employees who owned pets. The total number of absenteeism hours for pet owners was 1983 hr. The largest number of hours belonged to the no-pet ownership group (3141 hr)\n",
    "  \n",
    "* 32.2% of absenteeism cases were found in employees with obesity. The total number of absenteeism hours for these employees was 1461 hr\n",
    "  \n",
    "* 31.9% of absenteeism cases were found in employees who were overweight. The total number of absenteeism hours for these employees was 1931 hr.\n",
    "  \n",
    "Following this statistical analysis we proceeded to model absenteeism in an attempt to develop a tool for predicting employee absences. For this purpose we framed the modeling as a binary classification problem that captured the influence of significant absenteeism events, considered as such when the employee absence time was > 4 Hr.  We employed a variety of known classification methods (KNN, Decision Tree, Logistic Regression, SVM, etc) and compared their predictive performance on test data sets. The performance metrics used were accuracy, precision, recall and F1 scores. Hyperparameter searches on the different estimators were carried out in an attempt to optimize performance for accuracy and precision scores. The best performing models were SVM and KNN (details in the analysis notebook attached)\n"
   ]
  },
  {
   "cell_type": "code",
   "execution_count": null,
   "metadata": {},
   "outputs": [],
   "source": []
  },
  {
   "cell_type": "code",
   "execution_count": null,
   "metadata": {},
   "outputs": [],
   "source": []
  }
 ],
 "metadata": {
  "kernelspec": {
   "display_name": "Python 3 (ipykernel)",
   "language": "python",
   "name": "python3"
  },
  "language_info": {
   "codemirror_mode": {
    "name": "ipython",
    "version": 3
   },
   "file_extension": ".py",
   "mimetype": "text/x-python",
   "name": "python",
   "nbconvert_exporter": "python",
   "pygments_lexer": "ipython3",
   "version": "3.12.3"
  },
  "widgets": {
   "application/vnd.jupyter.widget-state+json": {
    "state": {},
    "version_major": 2,
    "version_minor": 0
   }
  }
 },
 "nbformat": 4,
 "nbformat_minor": 4
}
